{
 "cells": [
  {
   "cell_type": "markdown",
   "id": "a4ee1ddb",
   "metadata": {},
   "source": [
    "# ML Project 1 - Viva"
   ]
  },
  {
   "cell_type": "markdown",
   "id": "65b3c8cd",
   "metadata": {},
   "source": [
    "### Build a machine learning (ML) model to predict customer default."
   ]
  },
  {
   "cell_type": "markdown",
   "id": "95cbc1e9",
   "metadata": {},
   "source": [
    "### BUSINESS OBJECTIVES:"
   ]
  },
  {
   "cell_type": "markdown",
   "id": "59e1b98c",
   "metadata": {},
   "source": [
    "The application of scoring models in today’s business environment covers a wide range of objectives. The original task of estimating the risk of default hasbeen augmented by credit scoring models to include other aspects of credit  risk management: at the pre-application stage (identification of potential applicants), at the application stage (identification of acceptable applicants),and at the performance stage (identification of possible behavior of current customers). Scoring models with different objectives have been developed.They can be generalized into four categories as listed below.\n",
    "\n",
    "Bank would like to develop an ML model to stop the bad loans (stop default) in future."
   ]
  },
  {
   "cell_type": "markdown",
   "id": "1a759630",
   "metadata": {},
   "source": [
    "#### Required Libraries"
   ]
  },
  {
   "cell_type": "code",
   "execution_count": 13,
   "id": "e41510af",
   "metadata": {},
   "outputs": [],
   "source": [
    "# data read\n",
    "import pandas as pd\n",
    "import numpy as np\n",
    "\n",
    "from numpy import mean\n",
    "from numpy import std\n",
    "\n",
    "#Feature scaling\n",
    "from sklearn.preprocessing import StandardScaler \n",
    "\n",
    "#Ignore warrings\n",
    "import warnings\n",
    "warnings.filterwarnings(\"ignore\")\n",
    "\n",
    "import matplotlib.pyplot as plt # to visualize \n",
    "import seaborn as sns      # to visualize \n",
    "from matplotlib import pyplot\n",
    "\n",
    "#model building\n",
    "from sklearn.linear_model import LogisticRegression\n",
    "from sklearn.tree import DecisionTreeClassifier\n",
    "from sklearn import metrics #scikit-learn metrics module for accuracy calculation\n",
    "\n",
    "\n",
    "# roc curve and auc\n",
    "from sklearn.datasets import make_classification\n",
    "from sklearn.metrics import roc_curve\n",
    "from sklearn.metrics import roc_auc_score\n",
    "\n",
    "#splitting the data in train and test set\n",
    "from sklearn.model_selection import train_test_split\n",
    "\n",
    "#model performance metrics\n",
    "from sklearn.metrics import accuracy_score\n",
    "from sklearn.metrics import precision_score\n",
    "from sklearn.metrics import recall_score\n",
    "from sklearn.metrics import f1_score\n",
    "\n"
   ]
  },
  {
   "cell_type": "markdown",
   "id": "997d73a2",
   "metadata": {},
   "source": [
    "#### Import data"
   ]
  },
  {
   "cell_type": "code",
   "execution_count": 49,
   "id": "7f831bab",
   "metadata": {},
   "outputs": [],
   "source": [
    "#read the data\n",
    "bank_loan = pd.read_csv(\"bankloans-2c74be35-c811-4097-b6a5-9e7e84b0ab9e.csv\")\n",
    "bank_loan_c = bank_loan"
   ]
  },
  {
   "cell_type": "code",
   "execution_count": 51,
   "id": "d708ccd8",
   "metadata": {},
   "outputs": [
    {
     "data": {
      "text/html": [
       "<div>\n",
       "<style scoped>\n",
       "    .dataframe tbody tr th:only-of-type {\n",
       "        vertical-align: middle;\n",
       "    }\n",
       "\n",
       "    .dataframe tbody tr th {\n",
       "        vertical-align: top;\n",
       "    }\n",
       "\n",
       "    .dataframe thead th {\n",
       "        text-align: right;\n",
       "    }\n",
       "</style>\n",
       "<table border=\"1\" class=\"dataframe\">\n",
       "  <thead>\n",
       "    <tr style=\"text-align: right;\">\n",
       "      <th></th>\n",
       "      <th>age</th>\n",
       "      <th>ed</th>\n",
       "      <th>employ</th>\n",
       "      <th>address</th>\n",
       "      <th>income</th>\n",
       "      <th>debtinc</th>\n",
       "      <th>creddebt</th>\n",
       "      <th>othdebt</th>\n",
       "      <th>default</th>\n",
       "    </tr>\n",
       "  </thead>\n",
       "  <tbody>\n",
       "    <tr>\n",
       "      <th>0</th>\n",
       "      <td>41</td>\n",
       "      <td>3</td>\n",
       "      <td>17</td>\n",
       "      <td>12</td>\n",
       "      <td>NaN</td>\n",
       "      <td>9.3</td>\n",
       "      <td>11.359392</td>\n",
       "      <td>5.008608</td>\n",
       "      <td>1.0</td>\n",
       "    </tr>\n",
       "    <tr>\n",
       "      <th>1</th>\n",
       "      <td>27</td>\n",
       "      <td>1</td>\n",
       "      <td>10</td>\n",
       "      <td>6</td>\n",
       "      <td>31.0</td>\n",
       "      <td>17.3</td>\n",
       "      <td>1.362202</td>\n",
       "      <td>4.000798</td>\n",
       "      <td>0.0</td>\n",
       "    </tr>\n",
       "    <tr>\n",
       "      <th>2</th>\n",
       "      <td>40</td>\n",
       "      <td>1</td>\n",
       "      <td>15</td>\n",
       "      <td>14</td>\n",
       "      <td>55.0</td>\n",
       "      <td>5.5</td>\n",
       "      <td>0.856075</td>\n",
       "      <td>2.168925</td>\n",
       "      <td>0.0</td>\n",
       "    </tr>\n",
       "    <tr>\n",
       "      <th>3</th>\n",
       "      <td>41</td>\n",
       "      <td>1</td>\n",
       "      <td>15</td>\n",
       "      <td>14</td>\n",
       "      <td>120.0</td>\n",
       "      <td>2.9</td>\n",
       "      <td>2.658720</td>\n",
       "      <td>0.821280</td>\n",
       "      <td>0.0</td>\n",
       "    </tr>\n",
       "    <tr>\n",
       "      <th>4</th>\n",
       "      <td>24</td>\n",
       "      <td>2</td>\n",
       "      <td>2</td>\n",
       "      <td>0</td>\n",
       "      <td>28.0</td>\n",
       "      <td>17.3</td>\n",
       "      <td>1.787436</td>\n",
       "      <td>3.056564</td>\n",
       "      <td>1.0</td>\n",
       "    </tr>\n",
       "  </tbody>\n",
       "</table>\n",
       "</div>"
      ],
      "text/plain": [
       "   age  ed  employ  address  income  debtinc   creddebt   othdebt  default\n",
       "0   41   3      17       12     NaN      9.3  11.359392  5.008608      1.0\n",
       "1   27   1      10        6    31.0     17.3   1.362202  4.000798      0.0\n",
       "2   40   1      15       14    55.0      5.5   0.856075  2.168925      0.0\n",
       "3   41   1      15       14   120.0      2.9   2.658720  0.821280      0.0\n",
       "4   24   2       2        0    28.0     17.3   1.787436  3.056564      1.0"
      ]
     },
     "execution_count": 51,
     "metadata": {},
     "output_type": "execute_result"
    }
   ],
   "source": [
    "#preview data\n",
    "bank_loan_c.head()"
   ]
  },
  {
   "cell_type": "markdown",
   "id": "3ea694cc",
   "metadata": {},
   "source": [
    "#### Data Preparation"
   ]
  },
  {
   "cell_type": "code",
   "execution_count": 52,
   "id": "d12ba49d",
   "metadata": {},
   "outputs": [
    {
     "name": "stdout",
     "output_type": "stream",
     "text": [
      "age           int64\n",
      "ed            int64\n",
      "employ        int64\n",
      "address       int64\n",
      "income      float64\n",
      "debtinc     float64\n",
      "creddebt    float64\n",
      "othdebt     float64\n",
      "default     float64\n",
      "dtype: object\n"
     ]
    }
   ],
   "source": [
    "# Datatypes of all columns\n",
    "print(bank_loan_c.dtypes)"
   ]
  },
  {
   "cell_type": "code",
   "execution_count": 53,
   "id": "670ebb28",
   "metadata": {},
   "outputs": [
    {
     "data": {
      "text/html": [
       "<div>\n",
       "<style scoped>\n",
       "    .dataframe tbody tr th:only-of-type {\n",
       "        vertical-align: middle;\n",
       "    }\n",
       "\n",
       "    .dataframe tbody tr th {\n",
       "        vertical-align: top;\n",
       "    }\n",
       "\n",
       "    .dataframe thead th {\n",
       "        text-align: right;\n",
       "    }\n",
       "</style>\n",
       "<table border=\"1\" class=\"dataframe\">\n",
       "  <thead>\n",
       "    <tr style=\"text-align: right;\">\n",
       "      <th></th>\n",
       "      <th>age</th>\n",
       "      <th>ed</th>\n",
       "      <th>employ</th>\n",
       "      <th>address</th>\n",
       "      <th>income</th>\n",
       "      <th>debtinc</th>\n",
       "      <th>creddebt</th>\n",
       "      <th>othdebt</th>\n",
       "      <th>default</th>\n",
       "    </tr>\n",
       "  </thead>\n",
       "  <tbody>\n",
       "    <tr>\n",
       "      <th>count</th>\n",
       "      <td>850.000000</td>\n",
       "      <td>850.000000</td>\n",
       "      <td>850.000000</td>\n",
       "      <td>850.000000</td>\n",
       "      <td>846.000000</td>\n",
       "      <td>850.000000</td>\n",
       "      <td>850.000000</td>\n",
       "      <td>850.000000</td>\n",
       "      <td>700.000000</td>\n",
       "    </tr>\n",
       "    <tr>\n",
       "      <th>mean</th>\n",
       "      <td>35.029412</td>\n",
       "      <td>1.710588</td>\n",
       "      <td>8.565882</td>\n",
       "      <td>8.371765</td>\n",
       "      <td>46.492908</td>\n",
       "      <td>10.171647</td>\n",
       "      <td>1.576805</td>\n",
       "      <td>3.078789</td>\n",
       "      <td>0.261429</td>\n",
       "    </tr>\n",
       "    <tr>\n",
       "      <th>std</th>\n",
       "      <td>8.041432</td>\n",
       "      <td>0.927784</td>\n",
       "      <td>6.777884</td>\n",
       "      <td>6.895016</td>\n",
       "      <td>38.369605</td>\n",
       "      <td>6.719441</td>\n",
       "      <td>2.125840</td>\n",
       "      <td>3.398803</td>\n",
       "      <td>0.439727</td>\n",
       "    </tr>\n",
       "    <tr>\n",
       "      <th>min</th>\n",
       "      <td>20.000000</td>\n",
       "      <td>1.000000</td>\n",
       "      <td>0.000000</td>\n",
       "      <td>0.000000</td>\n",
       "      <td>13.000000</td>\n",
       "      <td>0.100000</td>\n",
       "      <td>0.011696</td>\n",
       "      <td>0.045584</td>\n",
       "      <td>0.000000</td>\n",
       "    </tr>\n",
       "    <tr>\n",
       "      <th>25%</th>\n",
       "      <td>29.000000</td>\n",
       "      <td>1.000000</td>\n",
       "      <td>3.000000</td>\n",
       "      <td>3.000000</td>\n",
       "      <td>24.000000</td>\n",
       "      <td>5.100000</td>\n",
       "      <td>0.382176</td>\n",
       "      <td>1.045942</td>\n",
       "      <td>0.000000</td>\n",
       "    </tr>\n",
       "    <tr>\n",
       "      <th>50%</th>\n",
       "      <td>34.000000</td>\n",
       "      <td>1.000000</td>\n",
       "      <td>7.000000</td>\n",
       "      <td>7.000000</td>\n",
       "      <td>35.000000</td>\n",
       "      <td>8.700000</td>\n",
       "      <td>0.885091</td>\n",
       "      <td>2.003243</td>\n",
       "      <td>0.000000</td>\n",
       "    </tr>\n",
       "    <tr>\n",
       "      <th>75%</th>\n",
       "      <td>41.000000</td>\n",
       "      <td>2.000000</td>\n",
       "      <td>13.000000</td>\n",
       "      <td>12.000000</td>\n",
       "      <td>55.000000</td>\n",
       "      <td>13.800000</td>\n",
       "      <td>1.898440</td>\n",
       "      <td>3.903001</td>\n",
       "      <td>1.000000</td>\n",
       "    </tr>\n",
       "    <tr>\n",
       "      <th>max</th>\n",
       "      <td>56.000000</td>\n",
       "      <td>5.000000</td>\n",
       "      <td>33.000000</td>\n",
       "      <td>34.000000</td>\n",
       "      <td>446.000000</td>\n",
       "      <td>41.300000</td>\n",
       "      <td>20.561310</td>\n",
       "      <td>35.197500</td>\n",
       "      <td>1.000000</td>\n",
       "    </tr>\n",
       "  </tbody>\n",
       "</table>\n",
       "</div>"
      ],
      "text/plain": [
       "              age          ed      employ     address      income     debtinc  \\\n",
       "count  850.000000  850.000000  850.000000  850.000000  846.000000  850.000000   \n",
       "mean    35.029412    1.710588    8.565882    8.371765   46.492908   10.171647   \n",
       "std      8.041432    0.927784    6.777884    6.895016   38.369605    6.719441   \n",
       "min     20.000000    1.000000    0.000000    0.000000   13.000000    0.100000   \n",
       "25%     29.000000    1.000000    3.000000    3.000000   24.000000    5.100000   \n",
       "50%     34.000000    1.000000    7.000000    7.000000   35.000000    8.700000   \n",
       "75%     41.000000    2.000000   13.000000   12.000000   55.000000   13.800000   \n",
       "max     56.000000    5.000000   33.000000   34.000000  446.000000   41.300000   \n",
       "\n",
       "         creddebt     othdebt     default  \n",
       "count  850.000000  850.000000  700.000000  \n",
       "mean     1.576805    3.078789    0.261429  \n",
       "std      2.125840    3.398803    0.439727  \n",
       "min      0.011696    0.045584    0.000000  \n",
       "25%      0.382176    1.045942    0.000000  \n",
       "50%      0.885091    2.003243    0.000000  \n",
       "75%      1.898440    3.903001    1.000000  \n",
       "max     20.561310   35.197500    1.000000  "
      ]
     },
     "execution_count": 53,
     "metadata": {},
     "output_type": "execute_result"
    }
   ],
   "source": [
    "#explore the data types\n",
    "bank_loan_c.describe()"
   ]
  },
  {
   "cell_type": "code",
   "execution_count": 54,
   "id": "5ccf4cf7",
   "metadata": {},
   "outputs": [
    {
     "name": "stdout",
     "output_type": "stream",
     "text": [
      "<class 'pandas.core.frame.DataFrame'>\n",
      "RangeIndex: 850 entries, 0 to 849\n",
      "Data columns (total 9 columns):\n",
      " #   Column    Non-Null Count  Dtype  \n",
      "---  ------    --------------  -----  \n",
      " 0   age       850 non-null    int64  \n",
      " 1   ed        850 non-null    int64  \n",
      " 2   employ    850 non-null    int64  \n",
      " 3   address   850 non-null    int64  \n",
      " 4   income    846 non-null    float64\n",
      " 5   debtinc   850 non-null    float64\n",
      " 6   creddebt  850 non-null    float64\n",
      " 7   othdebt   850 non-null    float64\n",
      " 8   default   700 non-null    float64\n",
      "dtypes: float64(5), int64(4)\n",
      "memory usage: 59.9 KB\n"
     ]
    }
   ],
   "source": [
    "#summary of data\n",
    "bank_loan_c.info()"
   ]
  },
  {
   "cell_type": "code",
   "execution_count": 55,
   "id": "05a5c295",
   "metadata": {},
   "outputs": [
    {
     "name": "stdout",
     "output_type": "stream",
     "text": [
      "All columns:\n",
      " Index(['age', 'ed', 'employ', 'address', 'income', 'debtinc', 'creddebt',\n",
      "       'othdebt', 'default'],\n",
      "      dtype='object')\n",
      "\n",
      "=======================================================================\n",
      "\n",
      "Structure of dataset: (850, 9)\n"
     ]
    }
   ],
   "source": [
    "# All columns\n",
    "print(\"All columns:\\n\",bank_loan_c.columns)\n",
    "print(\"\\n=======================================================================\")\n",
    "# structure of dataset\n",
    "print(\"\\nStructure of dataset:\",bank_loan_c.shape)"
   ]
  },
  {
   "cell_type": "markdown",
   "id": "b737ce09",
   "metadata": {},
   "source": [
    "This dataset is contain 850 observations and 9 features"
   ]
  },
  {
   "cell_type": "markdown",
   "id": "8d72bc53",
   "metadata": {},
   "source": [
    "#### Missing Value Treatment"
   ]
  },
  {
   "cell_type": "code",
   "execution_count": 56,
   "id": "5645dcdc",
   "metadata": {},
   "outputs": [
    {
     "data": {
      "text/plain": [
       "age           0\n",
       "ed            0\n",
       "employ        0\n",
       "address       0\n",
       "income        4\n",
       "debtinc       0\n",
       "creddebt      0\n",
       "othdebt       0\n",
       "default     150\n",
       "dtype: int64"
      ]
     },
     "execution_count": 56,
     "metadata": {},
     "output_type": "execute_result"
    }
   ],
   "source": [
    "#check the missing value\n",
    "bank_loan_c.isnull().sum()"
   ]
  },
  {
   "cell_type": "markdown",
   "id": "23f10c95",
   "metadata": {},
   "source": [
    "Missing value is present in dataset"
   ]
  },
  {
   "cell_type": "code",
   "execution_count": 58,
   "id": "957796d7",
   "metadata": {},
   "outputs": [],
   "source": [
    "bank_loan_c.dropna(axis =0, inplace = True)"
   ]
  },
  {
   "cell_type": "code",
   "execution_count": 59,
   "id": "2fe364d3",
   "metadata": {},
   "outputs": [
    {
     "data": {
      "text/plain": [
       "age         0\n",
       "ed          0\n",
       "employ      0\n",
       "address     0\n",
       "income      0\n",
       "debtinc     0\n",
       "creddebt    0\n",
       "othdebt     0\n",
       "default     0\n",
       "dtype: int64"
      ]
     },
     "execution_count": 59,
     "metadata": {},
     "output_type": "execute_result"
    }
   ],
   "source": [
    "#check null values\n",
    "bank_loan_c.isnull().sum()"
   ]
  },
  {
   "cell_type": "markdown",
   "id": "9a7b7200",
   "metadata": {},
   "source": [
    "Now, there is no missing value exist in this dataset."
   ]
  },
  {
   "cell_type": "markdown",
   "id": "c006f310",
   "metadata": {},
   "source": [
    "#### Feature Scaling"
   ]
  },
  {
   "cell_type": "code",
   "execution_count": 60,
   "id": "b48cd05b",
   "metadata": {},
   "outputs": [],
   "source": [
    "# scaling the data using StandardScaler Scaling process\n",
    "\n",
    "final_data =StandardScaler()\n",
    "data_scaled = final_data.fit_transform(bank_loan_c)"
   ]
  },
  {
   "cell_type": "markdown",
   "id": "3ec7c444",
   "metadata": {},
   "source": [
    "#### Feature Selection"
   ]
  },
  {
   "cell_type": "code",
   "execution_count": 61,
   "id": "3b037858",
   "metadata": {},
   "outputs": [
    {
     "data": {
      "text/html": [
       "<style type=\"text/css\">\n",
       "#T_ab9b9_row0_col0, #T_ab9b9_row1_col1, #T_ab9b9_row2_col2, #T_ab9b9_row3_col3, #T_ab9b9_row4_col4, #T_ab9b9_row5_col5, #T_ab9b9_row6_col6, #T_ab9b9_row7_col7, #T_ab9b9_row8_col8 {\n",
       "  background-color: #b40426;\n",
       "  color: #f1f1f1;\n",
       "}\n",
       "#T_ab9b9_row0_col1, #T_ab9b9_row5_col3 {\n",
       "  background-color: #6b8df0;\n",
       "  color: #f1f1f1;\n",
       "}\n",
       "#T_ab9b9_row0_col2 {\n",
       "  background-color: #f5c0a7;\n",
       "  color: #000000;\n",
       "}\n",
       "#T_ab9b9_row0_col3 {\n",
       "  background-color: #f7bca1;\n",
       "  color: #000000;\n",
       "}\n",
       "#T_ab9b9_row0_col4 {\n",
       "  background-color: #e1dad6;\n",
       "  color: #000000;\n",
       "}\n",
       "#T_ab9b9_row0_col5 {\n",
       "  background-color: #485fd1;\n",
       "  color: #f1f1f1;\n",
       "}\n",
       "#T_ab9b9_row0_col6 {\n",
       "  background-color: #86a9fc;\n",
       "  color: #f1f1f1;\n",
       "}\n",
       "#T_ab9b9_row0_col7, #T_ab9b9_row8_col1 {\n",
       "  background-color: #85a8fc;\n",
       "  color: #f1f1f1;\n",
       "}\n",
       "#T_ab9b9_row0_col8 {\n",
       "  background-color: #5e7de7;\n",
       "  color: #f1f1f1;\n",
       "}\n",
       "#T_ab9b9_row1_col0, #T_ab9b9_row5_col1 {\n",
       "  background-color: #6788ee;\n",
       "  color: #f1f1f1;\n",
       "}\n",
       "#T_ab9b9_row1_col2 {\n",
       "  background-color: #5a78e4;\n",
       "  color: #f1f1f1;\n",
       "}\n",
       "#T_ab9b9_row1_col3 {\n",
       "  background-color: #779af7;\n",
       "  color: #f1f1f1;\n",
       "}\n",
       "#T_ab9b9_row1_col4 {\n",
       "  background-color: #9abbff;\n",
       "  color: #000000;\n",
       "}\n",
       "#T_ab9b9_row1_col5 {\n",
       "  background-color: #455cce;\n",
       "  color: #f1f1f1;\n",
       "}\n",
       "#T_ab9b9_row1_col6, #T_ab9b9_row2_col1, #T_ab9b9_row2_col5, #T_ab9b9_row2_col8, #T_ab9b9_row8_col0, #T_ab9b9_row8_col2, #T_ab9b9_row8_col3, #T_ab9b9_row8_col4, #T_ab9b9_row8_col7 {\n",
       "  background-color: #3b4cc0;\n",
       "  color: #f1f1f1;\n",
       "}\n",
       "#T_ab9b9_row1_col7 {\n",
       "  background-color: #4257c9;\n",
       "  color: #f1f1f1;\n",
       "}\n",
       "#T_ab9b9_row1_col8, #T_ab9b9_row2_col7 {\n",
       "  background-color: #a1c0ff;\n",
       "  color: #000000;\n",
       "}\n",
       "#T_ab9b9_row2_col0 {\n",
       "  background-color: #f1cdba;\n",
       "  color: #000000;\n",
       "}\n",
       "#T_ab9b9_row2_col3, #T_ab9b9_row7_col0 {\n",
       "  background-color: #c6d6f1;\n",
       "  color: #000000;\n",
       "}\n",
       "#T_ab9b9_row2_col4, #T_ab9b9_row3_col0 {\n",
       "  background-color: #f6bea4;\n",
       "  color: #000000;\n",
       "}\n",
       "#T_ab9b9_row2_col6 {\n",
       "  background-color: #afcafc;\n",
       "  color: #000000;\n",
       "}\n",
       "#T_ab9b9_row3_col1 {\n",
       "  background-color: #7597f6;\n",
       "  color: #f1f1f1;\n",
       "}\n",
       "#T_ab9b9_row3_col2 {\n",
       "  background-color: #d6dce4;\n",
       "  color: #000000;\n",
       "}\n",
       "#T_ab9b9_row3_col4 {\n",
       "  background-color: #b5cdfa;\n",
       "  color: #000000;\n",
       "}\n",
       "#T_ab9b9_row3_col5 {\n",
       "  background-color: #465ecf;\n",
       "  color: #f1f1f1;\n",
       "}\n",
       "#T_ab9b9_row3_col6, #T_ab9b9_row5_col0 {\n",
       "  background-color: #6687ed;\n",
       "  color: #f1f1f1;\n",
       "}\n",
       "#T_ab9b9_row3_col7, #T_ab9b9_row3_col8 {\n",
       "  background-color: #5875e1;\n",
       "  color: #f1f1f1;\n",
       "}\n",
       "#T_ab9b9_row4_col0 {\n",
       "  background-color: #e7d7ce;\n",
       "  color: #000000;\n",
       "}\n",
       "#T_ab9b9_row4_col1, #T_ab9b9_row7_col8 {\n",
       "  background-color: #aac7fd;\n",
       "  color: #000000;\n",
       "}\n",
       "#T_ab9b9_row4_col2 {\n",
       "  background-color: #f7aa8c;\n",
       "  color: #000000;\n",
       "}\n",
       "#T_ab9b9_row4_col3, #T_ab9b9_row8_col5 {\n",
       "  background-color: #c4d5f3;\n",
       "  color: #000000;\n",
       "}\n",
       "#T_ab9b9_row4_col5 {\n",
       "  background-color: #3c4ec2;\n",
       "  color: #f1f1f1;\n",
       "}\n",
       "#T_ab9b9_row4_col6 {\n",
       "  background-color: #e2dad5;\n",
       "  color: #000000;\n",
       "}\n",
       "#T_ab9b9_row4_col7 {\n",
       "  background-color: #e9d5cb;\n",
       "  color: #000000;\n",
       "}\n",
       "#T_ab9b9_row4_col8 {\n",
       "  background-color: #6e90f2;\n",
       "  color: #f1f1f1;\n",
       "}\n",
       "#T_ab9b9_row5_col2 {\n",
       "  background-color: #7a9df8;\n",
       "  color: #f1f1f1;\n",
       "}\n",
       "#T_ab9b9_row5_col4 {\n",
       "  background-color: #4961d2;\n",
       "  color: #f1f1f1;\n",
       "}\n",
       "#T_ab9b9_row5_col6 {\n",
       "  background-color: #d4dbe6;\n",
       "  color: #000000;\n",
       "}\n",
       "#T_ab9b9_row5_col7 {\n",
       "  background-color: #e0dbd8;\n",
       "  color: #000000;\n",
       "}\n",
       "#T_ab9b9_row5_col8 {\n",
       "  background-color: #e4d9d2;\n",
       "  color: #000000;\n",
       "}\n",
       "#T_ab9b9_row6_col0 {\n",
       "  background-color: #bad0f8;\n",
       "  color: #000000;\n",
       "}\n",
       "#T_ab9b9_row6_col1 {\n",
       "  background-color: #7da0f9;\n",
       "  color: #f1f1f1;\n",
       "}\n",
       "#T_ab9b9_row6_col2, #T_ab9b9_row7_col2 {\n",
       "  background-color: #e6d7cf;\n",
       "  color: #000000;\n",
       "}\n",
       "#T_ab9b9_row6_col3 {\n",
       "  background-color: #a6c4fe;\n",
       "  color: #000000;\n",
       "}\n",
       "#T_ab9b9_row6_col4 {\n",
       "  background-color: #f1ccb8;\n",
       "  color: #000000;\n",
       "}\n",
       "#T_ab9b9_row6_col5 {\n",
       "  background-color: #e3d9d3;\n",
       "  color: #000000;\n",
       "}\n",
       "#T_ab9b9_row6_col7 {\n",
       "  background-color: #efcfbf;\n",
       "  color: #000000;\n",
       "}\n",
       "#T_ab9b9_row6_col8 {\n",
       "  background-color: #c3d5f4;\n",
       "  color: #000000;\n",
       "}\n",
       "#T_ab9b9_row7_col1 {\n",
       "  background-color: #96b7ff;\n",
       "  color: #000000;\n",
       "}\n",
       "#T_ab9b9_row7_col3 {\n",
       "  background-color: #abc8fd;\n",
       "  color: #000000;\n",
       "}\n",
       "#T_ab9b9_row7_col4 {\n",
       "  background-color: #f6bfa6;\n",
       "  color: #000000;\n",
       "}\n",
       "#T_ab9b9_row7_col5 {\n",
       "  background-color: #f2cbb7;\n",
       "  color: #000000;\n",
       "}\n",
       "#T_ab9b9_row7_col6 {\n",
       "  background-color: #f2c9b4;\n",
       "  color: #000000;\n",
       "}\n",
       "#T_ab9b9_row8_col6 {\n",
       "  background-color: #7295f4;\n",
       "  color: #f1f1f1;\n",
       "}\n",
       "</style>\n",
       "<table id=\"T_ab9b9\">\n",
       "  <thead>\n",
       "    <tr>\n",
       "      <th class=\"blank level0\" >&nbsp;</th>\n",
       "      <th id=\"T_ab9b9_level0_col0\" class=\"col_heading level0 col0\" >age</th>\n",
       "      <th id=\"T_ab9b9_level0_col1\" class=\"col_heading level0 col1\" >ed</th>\n",
       "      <th id=\"T_ab9b9_level0_col2\" class=\"col_heading level0 col2\" >employ</th>\n",
       "      <th id=\"T_ab9b9_level0_col3\" class=\"col_heading level0 col3\" >address</th>\n",
       "      <th id=\"T_ab9b9_level0_col4\" class=\"col_heading level0 col4\" >income</th>\n",
       "      <th id=\"T_ab9b9_level0_col5\" class=\"col_heading level0 col5\" >debtinc</th>\n",
       "      <th id=\"T_ab9b9_level0_col6\" class=\"col_heading level0 col6\" >creddebt</th>\n",
       "      <th id=\"T_ab9b9_level0_col7\" class=\"col_heading level0 col7\" >othdebt</th>\n",
       "      <th id=\"T_ab9b9_level0_col8\" class=\"col_heading level0 col8\" >default</th>\n",
       "    </tr>\n",
       "  </thead>\n",
       "  <tbody>\n",
       "    <tr>\n",
       "      <th id=\"T_ab9b9_level0_row0\" class=\"row_heading level0 row0\" >age</th>\n",
       "      <td id=\"T_ab9b9_row0_col0\" class=\"data row0 col0\" >1.000000</td>\n",
       "      <td id=\"T_ab9b9_row0_col1\" class=\"data row0 col1\" >0.022259</td>\n",
       "      <td id=\"T_ab9b9_row0_col2\" class=\"data row0 col2\" >0.535296</td>\n",
       "      <td id=\"T_ab9b9_row0_col3\" class=\"data row0 col3\" >0.597610</td>\n",
       "      <td id=\"T_ab9b9_row0_col4\" class=\"data row0 col4\" >0.479025</td>\n",
       "      <td id=\"T_ab9b9_row0_col5\" class=\"data row0 col5\" >0.017107</td>\n",
       "      <td id=\"T_ab9b9_row0_col6\" class=\"data row0 col6\" >0.295588</td>\n",
       "      <td id=\"T_ab9b9_row0_col7\" class=\"data row0 col7\" >0.339676</td>\n",
       "      <td id=\"T_ab9b9_row0_col8\" class=\"data row0 col8\" >-0.139543</td>\n",
       "    </tr>\n",
       "    <tr>\n",
       "      <th id=\"T_ab9b9_level0_row1\" class=\"row_heading level0 row1\" >ed</th>\n",
       "      <td id=\"T_ab9b9_row1_col0\" class=\"data row1 col0\" >0.022259</td>\n",
       "      <td id=\"T_ab9b9_row1_col1\" class=\"data row1 col1\" >1.000000</td>\n",
       "      <td id=\"T_ab9b9_row1_col2\" class=\"data row1 col2\" >-0.154122</td>\n",
       "      <td id=\"T_ab9b9_row1_col3\" class=\"data row1 col3\" >0.057100</td>\n",
       "      <td id=\"T_ab9b9_row1_col4\" class=\"data row1 col4\" >0.231610</td>\n",
       "      <td id=\"T_ab9b9_row1_col5\" class=\"data row1 col5\" >0.008915</td>\n",
       "      <td id=\"T_ab9b9_row1_col6\" class=\"data row1 col6\" >0.080371</td>\n",
       "      <td id=\"T_ab9b9_row1_col7\" class=\"data row1 col7\" >0.165183</td>\n",
       "      <td id=\"T_ab9b9_row1_col8\" class=\"data row1 col8\" >0.110079</td>\n",
       "    </tr>\n",
       "    <tr>\n",
       "      <th id=\"T_ab9b9_level0_row2\" class=\"row_heading level0 row2\" >employ</th>\n",
       "      <td id=\"T_ab9b9_row2_col0\" class=\"data row2 col0\" >0.535296</td>\n",
       "      <td id=\"T_ab9b9_row2_col1\" class=\"data row2 col1\" >-0.154122</td>\n",
       "      <td id=\"T_ab9b9_row2_col2\" class=\"data row2 col2\" >1.000000</td>\n",
       "      <td id=\"T_ab9b9_row2_col3\" class=\"data row2 col3\" >0.322171</td>\n",
       "      <td id=\"T_ab9b9_row2_col4\" class=\"data row2 col4\" >0.620154</td>\n",
       "      <td id=\"T_ab9b9_row2_col5\" class=\"data row2 col5\" >-0.030807</td>\n",
       "      <td id=\"T_ab9b9_row2_col6\" class=\"data row2 col6\" >0.403536</td>\n",
       "      <td id=\"T_ab9b9_row2_col7\" class=\"data row2 col7\" >0.405753</td>\n",
       "      <td id=\"T_ab9b9_row2_col8\" class=\"data row2 col8\" >-0.286437</td>\n",
       "    </tr>\n",
       "    <tr>\n",
       "      <th id=\"T_ab9b9_level0_row3\" class=\"row_heading level0 row3\" >address</th>\n",
       "      <td id=\"T_ab9b9_row3_col0\" class=\"data row3 col0\" >0.597610</td>\n",
       "      <td id=\"T_ab9b9_row3_col1\" class=\"data row3 col1\" >0.057100</td>\n",
       "      <td id=\"T_ab9b9_row3_col2\" class=\"data row3 col2\" >0.322171</td>\n",
       "      <td id=\"T_ab9b9_row3_col3\" class=\"data row3 col3\" >1.000000</td>\n",
       "      <td id=\"T_ab9b9_row3_col4\" class=\"data row3 col4\" >0.315900</td>\n",
       "      <td id=\"T_ab9b9_row3_col5\" class=\"data row3 col5\" >0.012933</td>\n",
       "      <td id=\"T_ab9b9_row3_col6\" class=\"data row3 col6\" >0.209366</td>\n",
       "      <td id=\"T_ab9b9_row3_col7\" class=\"data row3 col7\" >0.226732</td>\n",
       "      <td id=\"T_ab9b9_row3_col8\" class=\"data row3 col8\" >-0.165307</td>\n",
       "    </tr>\n",
       "    <tr>\n",
       "      <th id=\"T_ab9b9_level0_row4\" class=\"row_heading level0 row4\" >income</th>\n",
       "      <td id=\"T_ab9b9_row4_col0\" class=\"data row4 col0\" >0.479025</td>\n",
       "      <td id=\"T_ab9b9_row4_col1\" class=\"data row4 col1\" >0.231610</td>\n",
       "      <td id=\"T_ab9b9_row4_col2\" class=\"data row4 col2\" >0.620154</td>\n",
       "      <td id=\"T_ab9b9_row4_col3\" class=\"data row4 col3\" >0.315900</td>\n",
       "      <td id=\"T_ab9b9_row4_col4\" class=\"data row4 col4\" >1.000000</td>\n",
       "      <td id=\"T_ab9b9_row4_col5\" class=\"data row4 col5\" >-0.025698</td>\n",
       "      <td id=\"T_ab9b9_row4_col6\" class=\"data row4 col6\" >0.561181</td>\n",
       "      <td id=\"T_ab9b9_row4_col7\" class=\"data row4 col7\" >0.613488</td>\n",
       "      <td id=\"T_ab9b9_row4_col8\" class=\"data row4 col8\" >-0.080259</td>\n",
       "    </tr>\n",
       "    <tr>\n",
       "      <th id=\"T_ab9b9_level0_row5\" class=\"row_heading level0 row5\" >debtinc</th>\n",
       "      <td id=\"T_ab9b9_row5_col0\" class=\"data row5 col0\" >0.017107</td>\n",
       "      <td id=\"T_ab9b9_row5_col1\" class=\"data row5 col1\" >0.008915</td>\n",
       "      <td id=\"T_ab9b9_row5_col2\" class=\"data row5 col2\" >-0.030807</td>\n",
       "      <td id=\"T_ab9b9_row5_col3\" class=\"data row5 col3\" >0.012933</td>\n",
       "      <td id=\"T_ab9b9_row5_col4\" class=\"data row5 col4\" >-0.025698</td>\n",
       "      <td id=\"T_ab9b9_row5_col5\" class=\"data row5 col5\" >1.000000</td>\n",
       "      <td id=\"T_ab9b9_row5_col6\" class=\"data row5 col6\" >0.510276</td>\n",
       "      <td id=\"T_ab9b9_row5_col7\" class=\"data row5 col7\" >0.585380</td>\n",
       "      <td id=\"T_ab9b9_row5_col8\" class=\"data row5 col8\" >0.392248</td>\n",
       "    </tr>\n",
       "    <tr>\n",
       "      <th id=\"T_ab9b9_level0_row6\" class=\"row_heading level0 row6\" >creddebt</th>\n",
       "      <td id=\"T_ab9b9_row6_col0\" class=\"data row6 col0\" >0.295588</td>\n",
       "      <td id=\"T_ab9b9_row6_col1\" class=\"data row6 col1\" >0.080371</td>\n",
       "      <td id=\"T_ab9b9_row6_col2\" class=\"data row6 col2\" >0.403536</td>\n",
       "      <td id=\"T_ab9b9_row6_col3\" class=\"data row6 col3\" >0.209366</td>\n",
       "      <td id=\"T_ab9b9_row6_col4\" class=\"data row6 col4\" >0.561181</td>\n",
       "      <td id=\"T_ab9b9_row6_col5\" class=\"data row6 col5\" >0.510276</td>\n",
       "      <td id=\"T_ab9b9_row6_col6\" class=\"data row6 col6\" >1.000000</td>\n",
       "      <td id=\"T_ab9b9_row6_col7\" class=\"data row6 col7\" >0.639484</td>\n",
       "      <td id=\"T_ab9b9_row6_col8\" class=\"data row6 col8\" >0.238981</td>\n",
       "    </tr>\n",
       "    <tr>\n",
       "      <th id=\"T_ab9b9_level0_row7\" class=\"row_heading level0 row7\" >othdebt</th>\n",
       "      <td id=\"T_ab9b9_row7_col0\" class=\"data row7 col0\" >0.339676</td>\n",
       "      <td id=\"T_ab9b9_row7_col1\" class=\"data row7 col1\" >0.165183</td>\n",
       "      <td id=\"T_ab9b9_row7_col2\" class=\"data row7 col2\" >0.405753</td>\n",
       "      <td id=\"T_ab9b9_row7_col3\" class=\"data row7 col3\" >0.226732</td>\n",
       "      <td id=\"T_ab9b9_row7_col4\" class=\"data row7 col4\" >0.613488</td>\n",
       "      <td id=\"T_ab9b9_row7_col5\" class=\"data row7 col5\" >0.585380</td>\n",
       "      <td id=\"T_ab9b9_row7_col6\" class=\"data row7 col6\" >0.639484</td>\n",
       "      <td id=\"T_ab9b9_row7_col7\" class=\"data row7 col7\" >1.000000</td>\n",
       "      <td id=\"T_ab9b9_row7_col8\" class=\"data row7 col8\" >0.145129</td>\n",
       "    </tr>\n",
       "    <tr>\n",
       "      <th id=\"T_ab9b9_level0_row8\" class=\"row_heading level0 row8\" >default</th>\n",
       "      <td id=\"T_ab9b9_row8_col0\" class=\"data row8 col0\" >-0.139543</td>\n",
       "      <td id=\"T_ab9b9_row8_col1\" class=\"data row8 col1\" >0.110079</td>\n",
       "      <td id=\"T_ab9b9_row8_col2\" class=\"data row8 col2\" >-0.286437</td>\n",
       "      <td id=\"T_ab9b9_row8_col3\" class=\"data row8 col3\" >-0.165307</td>\n",
       "      <td id=\"T_ab9b9_row8_col4\" class=\"data row8 col4\" >-0.080259</td>\n",
       "      <td id=\"T_ab9b9_row8_col5\" class=\"data row8 col5\" >0.392248</td>\n",
       "      <td id=\"T_ab9b9_row8_col6\" class=\"data row8 col6\" >0.238981</td>\n",
       "      <td id=\"T_ab9b9_row8_col7\" class=\"data row8 col7\" >0.145129</td>\n",
       "      <td id=\"T_ab9b9_row8_col8\" class=\"data row8 col8\" >1.000000</td>\n",
       "    </tr>\n",
       "  </tbody>\n",
       "</table>\n"
      ],
      "text/plain": [
       "<pandas.io.formats.style.Styler at 0x1937e87a3a0>"
      ]
     },
     "execution_count": 61,
     "metadata": {},
     "output_type": "execute_result"
    }
   ],
   "source": [
    "# Finding correlation between features\n",
    "corr = bank_loan_c.corr()\n",
    "corr.style.background_gradient(cmap ='coolwarm')"
   ]
  },
  {
   "cell_type": "code",
   "execution_count": 63,
   "id": "13fbb9dc",
   "metadata": {},
   "outputs": [
    {
     "data": {
      "image/png": "[encoded data removed]",
      "text/plain": [
       "<Figure size 432x288 with 2 Axes>"
      ]
     },
     "metadata": {
      "needs_background": "light"
     },
     "output_type": "display_data"
    }
   ],
   "source": [
    "hm = sns.heatmap(bank_loan_c.corr(), annot = True)\n",
    "hm.set(xlabel='\\nBank Loan Details', ylabel='Bank Loan Details', title = \"Correlation matrix of Bank Loan Data\\n\")\n",
    "plt.show()"
   ]
  },
  {
   "cell_type": "markdown",
   "id": "2281837f",
   "metadata": {},
   "source": [
    "default is strongly correlated with income and debtinc.And employ is also correlated with deafult"
   ]
  },
  {
   "cell_type": "markdown",
   "id": "b25056fa",
   "metadata": {},
   "source": [
    "#### Splitting Data and Train and Test the data"
   ]
  },
  {
   "cell_type": "code",
   "execution_count": 64,
   "id": "42ad7766",
   "metadata": {},
   "outputs": [],
   "source": [
    "# Split the dataset into train and test sets\n",
    "\n",
    "X = bank_loan_c.drop(\"default\", axis = 1)\n",
    "y = bank_loan_c[\"default\"]\n",
    "\n",
    "# Split dataset into training set and test set\n",
    "\n",
    "X_train, X_test, y_train, y_test = train_test_split(X, y, train_size=0.7, random_state=20)  #trainset size 70% and test set size 30%"
   ]
  },
  {
   "cell_type": "markdown",
   "id": "9db5ec32",
   "metadata": {},
   "source": [
    "As our traget variable is in binary form. So, we will the build with Classification"
   ]
  },
  {
   "cell_type": "markdown",
   "id": "302bd429",
   "metadata": {},
   "source": [
    "## Model 1: Logistic Regression"
   ]
  },
  {
   "cell_type": "code",
   "execution_count": 67,
   "id": "f8ae5c6d",
   "metadata": {},
   "outputs": [
    {
     "data": {
      "text/plain": [
       "LogisticRegression()"
      ]
     },
     "execution_count": 67,
     "metadata": {},
     "output_type": "execute_result"
    }
   ],
   "source": [
    "#define model\n",
    "Log_Model = LogisticRegression()\n",
    "Log_Model.fit(X_train, y_train)"
   ]
  },
  {
   "cell_type": "code",
   "execution_count": 68,
   "id": "ecc44abc",
   "metadata": {},
   "outputs": [
    {
     "name": "stdout",
     "output_type": "stream",
     "text": [
      "Predicted value for test set: [0. 0. 1. 0. 0. 0. 0. 0. 1. 0. 0. 1. 0. 0. 0. 0. 0. 1. 0. 1. 0. 1. 0. 0.\n",
      " 0. 0. 0. 1. 1. 0. 0. 1. 0. 0. 0. 0. 0. 0. 0. 1. 0. 0. 1. 0. 0. 0. 0. 0.\n",
      " 0. 0. 0. 0. 1. 1. 0. 0. 0. 1. 0. 0. 0. 1. 0. 0. 0. 0. 0. 0. 1. 0. 1. 0.\n",
      " 0. 1. 0. 0. 0. 1. 1. 0. 0. 0. 0. 0. 1. 0. 0. 1. 1. 0. 0. 1. 0. 1. 0. 0.\n",
      " 0. 0. 0. 1. 1. 0. 0. 0. 0. 0. 0. 0. 0. 0. 0. 0. 0. 1. 0. 0. 1. 1. 0. 0.\n",
      " 0. 1. 0. 0. 0. 0. 1. 0. 0. 0. 0. 0. 0. 0. 0. 0. 1. 0. 0. 1. 0. 1. 0. 0.\n",
      " 0. 0. 0. 1. 0. 1. 0. 0. 0. 0. 1. 0. 0. 1. 0. 0. 0. 0. 0. 0. 0. 0. 0. 0.\n",
      " 1. 1. 0. 0. 0. 0. 0. 0. 0. 0. 0. 0. 0. 0. 0. 0. 0. 0. 0. 0. 1. 0. 0. 0.\n",
      " 1. 0. 0. 0. 0. 0. 0. 0. 0. 0. 0. 1. 0. 0. 0. 0. 0.] \n",
      "\n"
     ]
    }
   ],
   "source": [
    "#predict the value\n",
    "\n",
    "y_pred_test = Log_Model.predict(X_test)\n",
    "print('Predicted value for test set:', y_pred_test,'\\n')"
   ]
  },
  {
   "cell_type": "markdown",
   "id": "33a4cd65",
   "metadata": {},
   "source": [
    "#### Model evaluation"
   ]
  },
  {
   "cell_type": "code",
   "execution_count": 69,
   "id": "5f5c4e99",
   "metadata": {},
   "outputs": [
    {
     "name": "stdout",
     "output_type": "stream",
     "text": [
      "Evalate the model on the train data 0.839835728952772\n",
      "Evalate the model on the test data: 0.7464114832535885\n"
     ]
    }
   ],
   "source": [
    "#the accuracy of training and testing dataset\n",
    "score_train = Log_Model.score(X_train,y_train)\n",
    "score_test = Log_Model.score(X_test,y_test)\n",
    "\n",
    "print(\"Evalate the model on the train data\", score_train)\n",
    "print(\"Evalate the model on the test data:\", score_test)"
   ]
  },
  {
   "cell_type": "code",
   "execution_count": 76,
   "id": "8c6657eb",
   "metadata": {},
   "outputs": [
    {
     "name": "stdout",
     "output_type": "stream",
     "text": [
      "Accuracy: 0.7464114832535885\n",
      "Recall: 0.43283582089552236\n",
      "F1-score: 0.5225225225225224\n",
      "Precision: 0.6590909090909091\n"
     ]
    }
   ],
   "source": [
    "accuracy = accuracy_score(y_test, y_pred_test)\n",
    "recall = recall_score(y_test, y_pred_test)\n",
    "f1_score = f1_score (y_test, y_pred_test)\n",
    "precision = precision_score(y_test, y_pred_test)\n",
    "\n",
    "print('Accuracy:', accuracy)\n",
    "print('Recall:', recall)\n",
    "\n",
    "print('F1-score:', f1_score)\n",
    "\n",
    "print('Precision:', precision)"
   ]
  },
  {
   "cell_type": "markdown",
   "id": "ccb02361",
   "metadata": {},
   "source": [
    "#### ROC-AUC : Model Evalation"
   ]
  },
  {
   "cell_type": "code",
   "execution_count": 80,
   "id": "97a40688",
   "metadata": {},
   "outputs": [
    {
     "name": "stdout",
     "output_type": "stream",
     "text": [
      "ROC value for model: 0.7953542148412865\n"
     ]
    }
   ],
   "source": [
    "\n",
    "roc=roc_auc_score(y_test, Log_Model.predict_proba(X_test)[:,1])\n",
    "print(\"ROC value for model:\", roc)"
   ]
  },
  {
   "cell_type": "code",
   "execution_count": 88,
   "id": "afabb5c8",
   "metadata": {},
   "outputs": [],
   "source": [
    "# no skill prediction (majority class)\n",
    "ns_pred = [0 for _ in range(len(y_test))]"
   ]
  },
  {
   "cell_type": "code",
   "execution_count": 93,
   "id": "44354f79",
   "metadata": {},
   "outputs": [],
   "source": [
    "# predict probabilities\n",
    "log_probs = Log_Model.predict_proba(X_test)"
   ]
  },
  {
   "cell_type": "code",
   "execution_count": 94,
   "id": "dbcad64a",
   "metadata": {},
   "outputs": [
    {
     "name": "stdout",
     "output_type": "stream",
     "text": [
      "No Skill: ROC AUC=0.500\n",
      "Logistic: ROC AUC=0.795\n"
     ]
    },
    {
     "data": {
      "image/png": "[encoded data removed]",
      "text/plain": [
       "<Figure size 432x288 with 1 Axes>"
      ]
     },
     "metadata": {
      "needs_background": "light"
     },
     "output_type": "display_data"
    }
   ],
   "source": [
    "# probabilities for the positive outcome only\n",
    "log_probs = log_probs[:, 1]\n",
    "# calculate scores\n",
    "ns_auc = roc_auc_score(y_test, ns_pred)\n",
    "lr_auc = roc_auc_score(y_test, log_probs)\n",
    "\n",
    "# summarize scores\n",
    "print('No Skill: ROC AUC=%.3f' % (ns_auc))\n",
    "print('Logistic: ROC AUC=%.3f' % (lr_auc))\n",
    "\n",
    "# calculate roc curves\n",
    "ns_fpr, ns_tpr, _ = roc_curve(y_test, ns_pred)\n",
    "lr_fpr, lr_tpr, _ = roc_curve(y_test, log_probs)\n",
    "\n",
    "# plot the roc curve for the model\n",
    "\n",
    "pyplot.plot(ns_fpr, ns_tpr, linestyle='--', label='No Skill')\n",
    "pyplot.plot(lr_fpr, lr_tpr, marker='.', label='Logistic')\n",
    "\n",
    "# axis labels\n",
    "pyplot.xlabel('False Positive Rate')\n",
    "pyplot.ylabel('True Positive Rate')\n",
    "\n",
    "# show the legend\n",
    "pyplot.legend()\n",
    "\n",
    "# show the plot\n",
    "pyplot.show()"
   ]
  },
  {
   "cell_type": "markdown",
   "id": "8c2722c2",
   "metadata": {},
   "source": [
    "###### Interpretation:"
   ]
  },
  {
   "cell_type": "markdown",
   "id": "c12253af",
   "metadata": {},
   "source": [
    "1. The model score on train data set is about 84% and model score on train data set is 75%, which is a good score.\n",
    "2. Evaluate the model on below metrics also:\n",
    "    Accuracy: 0.746\n",
    "    Recall: 0.432\n",
    "    F1-score: 0.522\n",
    "    Precision: 0.659\n",
    "3. ROC-AUC curve also give the good value for this model: 0.795, which quite good.\n",
    "    \n",
    "4. Without skill, ROC AUC=0.500 and with skill or Logistic: ROC AUC=0.795"
   ]
  },
  {
   "cell_type": "markdown",
   "id": "57a5e602",
   "metadata": {},
   "source": [
    "## Model2: Decision Tree Classifier"
   ]
  },
  {
   "cell_type": "code",
   "execution_count": 131,
   "id": "29c9af90",
   "metadata": {},
   "outputs": [
    {
     "data": {
      "text/plain": [
       "DecisionTreeClassifier(max_depth=3, max_leaf_nodes=10, min_samples_split=5)"
      ]
     },
     "execution_count": 131,
     "metadata": {},
     "output_type": "execute_result"
    }
   ],
   "source": [
    "# define model\n",
    "\n",
    "DC_Model = DecisionTreeClassifier(max_depth=3, min_samples_split=5, max_leaf_nodes=10)\n",
    "\n",
    "# Train Decision Tree Classifer\n",
    "\n",
    "DC_Model.fit(X_train,y_train)\n",
    "\n"
   ]
  },
  {
   "cell_type": "code",
   "execution_count": 132,
   "id": "6e609fc8",
   "metadata": {},
   "outputs": [
    {
     "name": "stdout",
     "output_type": "stream",
     "text": [
      "Prediction value on test data set:\n",
      " [0. 0. 1. 1. 1. 0. 0. 0. 0. 0. 0. 1. 0. 0. 1. 0. 0. 1. 0. 1. 0. 1. 0. 1.\n",
      " 0. 0. 0. 1. 0. 0. 0. 1. 1. 0. 0. 0. 0. 0. 0. 1. 1. 0. 1. 0. 0. 0. 0. 0.\n",
      " 0. 0. 0. 0. 1. 1. 0. 0. 1. 0. 0. 0. 0. 0. 1. 0. 0. 0. 0. 0. 0. 0. 1. 0.\n",
      " 0. 1. 0. 0. 0. 1. 1. 0. 0. 0. 0. 0. 1. 0. 0. 0. 1. 0. 0. 0. 0. 1. 0. 0.\n",
      " 0. 0. 1. 1. 0. 0. 0. 0. 0. 0. 0. 0. 0. 0. 1. 0. 0. 1. 0. 0. 1. 1. 0. 0.\n",
      " 0. 1. 0. 0. 0. 0. 1. 0. 0. 0. 0. 0. 0. 0. 0. 0. 1. 0. 1. 1. 1. 1. 0. 0.\n",
      " 0. 0. 0. 1. 0. 1. 0. 0. 0. 1. 1. 0. 0. 1. 0. 1. 0. 0. 0. 0. 0. 0. 0. 0.\n",
      " 1. 1. 1. 0. 0. 0. 0. 0. 0. 0. 0. 0. 0. 0. 0. 0. 0. 0. 0. 0. 1. 0. 0. 0.\n",
      " 1. 0. 0. 0. 0. 0. 0. 0. 0. 0. 0. 1. 0. 0. 0. 0. 0.]\n"
     ]
    }
   ],
   "source": [
    "#Predict the response for test dataset\n",
    "\n",
    "test_pred_dc = DC_Model.predict(X_test)\n",
    "\n",
    "#Predict the response for train dataset\n",
    "\n",
    "train_pred_dc = DC_Model.predict(X_train)\n",
    "\n",
    "print(\"Prediction value on test data set:\\n\" , test_pred_dc)"
   ]
  },
  {
   "cell_type": "markdown",
   "id": "07c42cb7",
   "metadata": {},
   "source": [
    "#### Model Evaluation"
   ]
  },
  {
   "cell_type": "code",
   "execution_count": 133,
   "id": "dfa44534",
   "metadata": {},
   "outputs": [
    {
     "name": "stdout",
     "output_type": "stream",
     "text": [
      "Accuracy for test data: 0.7129186602870813\n",
      "Accuracy for train data: 0.839835728952772\n"
     ]
    }
   ],
   "source": [
    "# Model Accuracy for test data\n",
    "print(\"Accuracy for test data:\",metrics.accuracy_score(y_test, test_pred_dc))\n",
    "\n",
    "# Model Accuracy for train data\n",
    "print(\"Accuracy for train data:\",metrics.accuracy_score(y_train, train_pred_dc))"
   ]
  },
  {
   "cell_type": "code",
   "execution_count": 134,
   "id": "8032214e",
   "metadata": {},
   "outputs": [
    {
     "name": "stdout",
     "output_type": "stream",
     "text": [
      "accuracy: 0.7129186602870813\n",
      "recall: 0.43283582089552236\n",
      "precision: 0.5686274509803921\n"
     ]
    }
   ],
   "source": [
    "#model performance\n",
    "accuracy_dc = accuracy_score(y_test, test_pred_dc)\n",
    "recall_dc =   recall_score(y_test, test_pred_dc)\n",
    "precision_dc = precision_score(y_test, test_pred_dc)\n",
    "\n",
    "print('accuracy:', accuracy_dc)\n",
    "print('recall:', recall_dc)\n",
    "print('precision:', precision_dc)"
   ]
  },
  {
   "cell_type": "code",
   "execution_count": 135,
   "id": "306f470e",
   "metadata": {},
   "outputs": [
    {
     "data": {
      "image/png": "[encoded data removed]",
      "text/plain": [
       "<Figure size 1200x800 with 1 Axes>"
      ]
     },
     "metadata": {
      "needs_background": "light"
     },
     "output_type": "display_data"
    }
   ],
   "source": [
    "#Visualition of bankloans\n",
    "from sklearn import tree\n",
    "\n",
    "fig, axes = plt.subplots(dpi=200)\n",
    "tree.plot_tree(DC_Model, filled = True);\n",
    "\n",
    "#save figure in current directory as png\n",
    "fig.savefig('bank_loans_regression_decisiontree.png')"
   ]
  },
  {
   "cell_type": "markdown",
   "id": "ccaac6aa",
   "metadata": {},
   "source": [
    "###### Interpretation:"
   ]
  },
  {
   "cell_type": "markdown",
   "id": "22b47d72",
   "metadata": {},
   "source": [
    "1. The model score on train data set is about 84% and model score on train data set is 71%, which is a good score.\n",
    "2. Evaluate the model on below metrics: \n",
    "    Accuracy: 0.712 Recall: 0.432 F1-score: 0.522 Precision: 0.568\n",
    "    \n",
    "    Performance of the model is good. We can conisder for our business objective\n"
   ]
  },
  {
   "cell_type": "markdown",
   "id": "c0e68a3b",
   "metadata": {},
   "source": [
    "## Model 3: GaussianNB naive bayes classifier"
   ]
  },
  {
   "cell_type": "code",
   "execution_count": 138,
   "id": "9c5bca60",
   "metadata": {},
   "outputs": [
    {
     "data": {
      "text/plain": [
       "GaussianNB()"
      ]
     },
     "execution_count": 138,
     "metadata": {},
     "output_type": "execute_result"
    }
   ],
   "source": [
    "#Build tha model\n",
    "\n",
    "NB_model = GaussianNB()\n",
    "NB_model.fit(X_train, y_train)"
   ]
  },
  {
   "cell_type": "code",
   "execution_count": 143,
   "id": "1be52e8d",
   "metadata": {},
   "outputs": [
    {
     "name": "stdout",
     "output_type": "stream",
     "text": [
      "Predication probabilities on the test data: \n",
      " [0. 1. 0. 0. 0. 0. 0. 1. 1. 0. 0. 1. 0. 0. 1. 1. 0. 0. 0. 1. 0. 0. 0. 0.\n",
      " 0. 0. 0. 0. 0. 0. 0. 1. 0. 0. 0. 0. 0. 0. 0. 1. 0. 0. 1. 0. 0. 0. 0. 0.\n",
      " 0. 0. 0. 0. 1. 1. 0. 0. 0. 0. 0. 0. 1. 0. 0. 0. 0. 0. 1. 0. 1. 0. 0. 0.\n",
      " 0. 1. 0. 0. 0. 1. 0. 0. 0. 0. 0. 0. 1. 0. 0. 1. 1. 0. 0. 0. 0. 1. 0. 0.\n",
      " 0. 0. 0. 0. 0. 0. 0. 0. 0. 0. 0. 0. 0. 0. 0. 0. 0. 1. 0. 0. 0. 1. 0. 0.\n",
      " 0. 1. 0. 0. 0. 0. 1. 0. 0. 0. 0. 0. 0. 0. 0. 0. 1. 0. 0. 0. 0. 1. 0. 0.\n",
      " 0. 0. 0. 0. 0. 1. 0. 0. 0. 0. 0. 0. 0. 1. 0. 0. 1. 0. 0. 0. 0. 0. 0. 0.\n",
      " 1. 1. 0. 0. 0. 0. 0. 0. 0. 0. 0. 0. 0. 0. 0. 0. 0. 0. 0. 0. 1. 0. 0. 0.\n",
      " 0. 0. 0. 0. 0. 0. 0. 0. 0. 0. 0. 1. 0. 0. 0. 0. 0.]\n",
      "\n",
      "Predication probabilities on the train data: \n",
      " [0. 1. 0. 0. 1. 0. 0. 0. 0. 0. 1. 0. 1. 0. 0. 0. 0. 0. 0. 1. 1. 0. 0. 0.\n",
      " 0. 0. 0. 0. 0. 1. 0. 0. 0. 0. 0. 0. 0. 0. 0. 0. 0. 1. 0. 0. 0. 0. 1. 0.\n",
      " 0. 0. 0. 0. 0. 0. 1. 0. 0. 1. 0. 0. 0. 0. 0. 0. 0. 0. 0. 1. 0. 0. 0. 0.\n",
      " 1. 0. 0. 0. 1. 0. 0. 0. 0. 0. 0. 1. 0. 0. 0. 0. 0. 0. 0. 1. 0. 0. 0. 1.\n",
      " 0. 0. 0. 0. 0. 1. 0. 0. 1. 0. 0. 0. 0. 0. 0. 0. 0. 1. 0. 0. 0. 0. 0. 0.\n",
      " 0. 0. 1. 0. 0. 0. 1. 0. 0. 1. 1. 0. 0. 0. 0. 1. 0. 1. 0. 0. 1. 0. 1. 0.\n",
      " 0. 0. 0. 0. 0. 0. 0. 0. 0. 0. 0. 0. 0. 0. 0. 0. 0. 0. 0. 0. 1. 0. 0. 1.\n",
      " 0. 0. 0. 0. 0. 0. 0. 0. 0. 0. 0. 0. 0. 0. 0. 0. 0. 1. 0. 0. 0. 0. 0. 0.\n",
      " 1. 0. 0. 0. 0. 0. 0. 0. 1. 0. 1. 1. 0. 0. 0. 0. 0. 0. 0. 0. 0. 0. 0. 0.\n",
      " 0. 1. 0. 0. 0. 0. 0. 0. 0. 0. 0. 0. 0. 0. 0. 0. 0. 0. 0. 0. 0. 0. 1. 0.\n",
      " 0. 0. 0. 0. 0. 0. 0. 0. 0. 0. 0. 1. 1. 0. 0. 0. 0. 0. 0. 0. 0. 1. 0. 0.\n",
      " 0. 0. 0. 0. 0. 0. 0. 0. 0. 0. 0. 0. 0. 0. 0. 0. 0. 0. 0. 0. 1. 0. 0. 0.\n",
      " 0. 0. 1. 0. 0. 0. 0. 0. 0. 0. 1. 0. 0. 1. 1. 0. 0. 0. 0. 0. 0. 0. 0. 1.\n",
      " 0. 0. 0. 0. 0. 0. 1. 0. 0. 0. 0. 0. 0. 0. 0. 0. 0. 0. 0. 0. 0. 0. 0. 0.\n",
      " 0. 0. 0. 0. 0. 0. 0. 0. 0. 1. 0. 0. 0. 1. 0. 0. 1. 0. 0. 0. 0. 0. 1. 0.\n",
      " 0. 1. 0. 1. 0. 0. 0. 0. 0. 0. 0. 0. 0. 0. 0. 0. 0. 0. 0. 0. 0. 0. 0. 0.\n",
      " 0. 0. 0. 1. 0. 1. 0. 0. 0. 1. 0. 0. 0. 0. 0. 0. 0. 0. 1. 0. 0. 0. 0. 0.\n",
      " 0. 0. 0. 0. 0. 0. 0. 0. 0. 0. 0. 1. 0. 0. 1. 0. 0. 0. 0. 0. 0. 0. 0. 0.\n",
      " 0. 0. 0. 0. 0. 0. 1. 0. 0. 1. 0. 0. 0. 0. 0. 1. 0. 0. 0. 0. 0. 0. 0. 0.\n",
      " 0. 0. 0. 0. 0. 0. 0. 0. 0. 0. 0. 0. 0. 0. 0. 0. 0. 0. 0. 0. 0. 0. 0. 0.\n",
      " 0. 0. 0. 0. 0. 0. 0.]\n"
     ]
    }
   ],
   "source": [
    "# Predicting the Test set results  \n",
    "y_pred_test = NB_model.predict(X_test)\n",
    "\n",
    "# Predicting the Test set results  \n",
    "test_pred_nb = NB_model.predict(X_test)\n",
    "\n",
    "print(\"Predication probabilities on the test data: \\n\",test_pred_nb)\n",
    "\n",
    "\n",
    "#Predicting the Train set results\n",
    "train_pred_nb = NB_model.predict(X_train)\n",
    "print(\"\\nPredication probabilities on the train data: \\n\",train_pred_nb)"
   ]
  },
  {
   "cell_type": "markdown",
   "id": "db47b97b",
   "metadata": {},
   "source": [
    "#### Model Evaluation"
   ]
  },
  {
   "cell_type": "code",
   "execution_count": 146,
   "id": "47e24b17",
   "metadata": {},
   "outputs": [
    {
     "name": "stdout",
     "output_type": "stream",
     "text": [
      "Accuracy for test data:0.71\n",
      "Accuracy for train data:0.80\n"
     ]
    }
   ],
   "source": [
    "# Model Accuracy for test data\n",
    "print(\"Accuracy for test data:{:.2f}\".format(accuracy_score(y_test, test_pred_nb)))\n",
    "\n",
    "# Model Accuracy for train data\n",
    "print(\"Accuracy for train data:{:.2f}\".format(metrics.accuracy_score(y_train, train_pred_nb)))"
   ]
  },
  {
   "cell_type": "code",
   "execution_count": 150,
   "id": "6ddd80ea",
   "metadata": {},
   "outputs": [
    {
     "name": "stdout",
     "output_type": "stream",
     "text": [
      "accuracy: 0.7081339712918661\n",
      "recall: 0.29850746268656714\n",
      "precision: 0.5882352941176471\n",
      "F1-score: 0.396039603960396\n"
     ]
    }
   ],
   "source": [
    "# model performance\n",
    "accuracy_nb = accuracy_score(y_test, test_pred_nb)\n",
    "recall_nb =   recall_score(y_test, test_pred_nb)\n",
    "f1_score = f1_score (y_test, test_pred_nb)\n",
    "precision_nb = precision_score(y_test, test_pred_nb)\n",
    "\n",
    "print('accuracy:', accuracy_nb)\n",
    "print('recall:', recall_nb)\n",
    "print('precision:', precision_nb)\n",
    "print('F1-score:', f1_score)"
   ]
  },
  {
   "cell_type": "markdown",
   "id": "5e25b287",
   "metadata": {},
   "source": [
    "##### Naive Bayes classifier : Interpretation"
   ]
  },
  {
   "cell_type": "markdown",
   "id": "e1e924a5",
   "metadata": {},
   "source": [
    "1. The model score on train data set is about 80% and model score on train data set is 71%, which is a good score.\n",
    "2. Evaluate the model on below metrics:\n",
    "    Accuracy: 0.708 Recall: 0.298 F1-score: 0.396 Precision: 0.588\n",
    "    \n",
    "    Performance of the model is good. We can conisder for our business objective\n",
    "\n"
   ]
  },
  {
   "cell_type": "markdown",
   "id": "bcfd943e",
   "metadata": {},
   "source": [
    "### Best Model?"
   ]
  },
  {
   "cell_type": "markdown",
   "id": "82c59c7c",
   "metadata": {},
   "source": [
    "\n",
    "From the above three models, Logistic Regression model is best as we can see the model score on train data set is about 84% and model score on train data set is 75%, which is a highest from other two model.\n",
    "\n",
    "    Hence, this model is good to use for Business obejective\n",
    "\n"
   ]
  }
 ],
 "metadata": {
  "kernelspec": {
   "display_name": "Python 3 (ipykernel)",
   "language": "python",
   "name": "python3"
  },
  "language_info": {
   "codemirror_mode": {
    "name": "ipython",
    "version": 3
   },
   "file_extension": ".py",
   "mimetype": "text/x-python",
   "name": "python",
   "nbconvert_exporter": "python",
   "pygments_lexer": "ipython3",
   "version": "3.9.12"
  }
 },
 "nbformat": 4,
 "nbformat_minor": 5
}
