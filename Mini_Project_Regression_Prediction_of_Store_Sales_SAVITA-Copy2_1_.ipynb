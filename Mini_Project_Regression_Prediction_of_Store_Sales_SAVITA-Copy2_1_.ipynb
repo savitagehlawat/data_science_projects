{
 "cells": [
  {
   "cell_type": "markdown",
   "id": "eccce2ba",
   "metadata": {},
   "source": [
    "# Regression - Prediction of Store Sales"
   ]
  },
  {
   "cell_type": "markdown",
   "id": "8404afc0",
   "metadata": {},
   "source": [
    "## Business Objective : \n",
    "\n",
    "Build a model to predict the sales of a store\n"
   ]
  },
  {
   "cell_type": "markdown",
   "id": "dbc331dc",
   "metadata": {},
   "source": [
    "### Import Libraries"
   ]
  },
  {
   "cell_type": "code",
   "execution_count": 2,
   "id": "9a601e2c",
   "metadata": {},
   "outputs": [],
   "source": [
    "# data read\n",
    "import pandas as pd\n",
    "import numpy as np\n",
    "\n",
    "from numpy import mean\n",
    "from numpy import std\n",
    "\n",
    "#Feature scaling\n",
    "from sklearn.preprocessing import StandardScaler \n",
    "\n",
    "#Ignore warrings\n",
    "import warnings\n",
    "warnings.filterwarnings(\"ignore\")\n",
    "\n",
    "import matplotlib.pyplot as plt # to visualize \n",
    "import seaborn as sns      # to visualize \n",
    "from matplotlib import pyplot\n",
    "\n",
    "#model building\n",
    "from sklearn.linear_model import LinearRegression\n",
    "\n",
    "#splitting the data in train and test set\n",
    "from sklearn.model_selection import train_test_split\n",
    "\n",
    "#model performance metrics\n",
    "from sklearn.metrics import mean_absolute_error\n",
    "from sklearn.metrics import mean_squared_error"
   ]
  },
  {
   "cell_type": "markdown",
   "id": "5402cbb6",
   "metadata": {},
   "source": [
    "### Import data"
   ]
  },
  {
   "cell_type": "code",
   "execution_count": 3,
   "id": "8a714d4f",
   "metadata": {},
   "outputs": [],
   "source": [
    "#read the data\n",
    "store_sales = pd.read_csv(\"DS3_C6_S1_Regression_StoreSales_Data_Project.csv\")\n",
    "store_sales_c = store_sales"
   ]
  },
  {
   "cell_type": "code",
   "execution_count": 4,
   "id": "f38cc9a3",
   "metadata": {},
   "outputs": [
    {
     "data": {
      "text/html": [
       "<div>\n",
       "<style scoped>\n",
       "    .dataframe tbody tr th:only-of-type {\n",
       "        vertical-align: middle;\n",
       "    }\n",
       "\n",
       "    .dataframe tbody tr th {\n",
       "        vertical-align: top;\n",
       "    }\n",
       "\n",
       "    .dataframe thead th {\n",
       "        text-align: right;\n",
       "    }\n",
       "</style>\n",
       "<table border=\"1\" class=\"dataframe\">\n",
       "  <thead>\n",
       "    <tr style=\"text-align: right;\">\n",
       "      <th></th>\n",
       "      <th>Item_Identifier</th>\n",
       "      <th>Item_Weight</th>\n",
       "      <th>Item_Fat_Content</th>\n",
       "      <th>Item_Visibility</th>\n",
       "      <th>Item_Type</th>\n",
       "      <th>Item_MRP</th>\n",
       "      <th>Outlet_Identifier</th>\n",
       "      <th>Outlet_Establishment_Year</th>\n",
       "      <th>Outlet_Size</th>\n",
       "      <th>Outlet_Location_Type</th>\n",
       "      <th>Outlet_Type</th>\n",
       "      <th>Item_Outlet_Sales</th>\n",
       "    </tr>\n",
       "  </thead>\n",
       "  <tbody>\n",
       "    <tr>\n",
       "      <th>0</th>\n",
       "      <td>FDA15</td>\n",
       "      <td>9.30</td>\n",
       "      <td>Low Fat</td>\n",
       "      <td>0.016047</td>\n",
       "      <td>Dairy</td>\n",
       "      <td>249.8092</td>\n",
       "      <td>OUT049</td>\n",
       "      <td>1999</td>\n",
       "      <td>Medium</td>\n",
       "      <td>Tier 1</td>\n",
       "      <td>Supermarket Type1</td>\n",
       "      <td>3735.1380</td>\n",
       "    </tr>\n",
       "    <tr>\n",
       "      <th>1</th>\n",
       "      <td>DRC01</td>\n",
       "      <td>5.92</td>\n",
       "      <td>Regular</td>\n",
       "      <td>0.019278</td>\n",
       "      <td>Soft Drinks</td>\n",
       "      <td>48.2692</td>\n",
       "      <td>OUT018</td>\n",
       "      <td>2009</td>\n",
       "      <td>Medium</td>\n",
       "      <td>Tier 3</td>\n",
       "      <td>Supermarket Type2</td>\n",
       "      <td>443.4228</td>\n",
       "    </tr>\n",
       "    <tr>\n",
       "      <th>2</th>\n",
       "      <td>FDN15</td>\n",
       "      <td>17.50</td>\n",
       "      <td>Low Fat</td>\n",
       "      <td>0.016760</td>\n",
       "      <td>Meat</td>\n",
       "      <td>141.6180</td>\n",
       "      <td>OUT049</td>\n",
       "      <td>1999</td>\n",
       "      <td>Medium</td>\n",
       "      <td>Tier 1</td>\n",
       "      <td>Supermarket Type1</td>\n",
       "      <td>2097.2700</td>\n",
       "    </tr>\n",
       "    <tr>\n",
       "      <th>3</th>\n",
       "      <td>FDX07</td>\n",
       "      <td>19.20</td>\n",
       "      <td>Regular</td>\n",
       "      <td>0.074402</td>\n",
       "      <td>Fruits and Vegetables</td>\n",
       "      <td>182.0950</td>\n",
       "      <td>OUT010</td>\n",
       "      <td>1998</td>\n",
       "      <td>Medium</td>\n",
       "      <td>Tier 3</td>\n",
       "      <td>Grocery Store</td>\n",
       "      <td>732.3800</td>\n",
       "    </tr>\n",
       "    <tr>\n",
       "      <th>4</th>\n",
       "      <td>NCD19</td>\n",
       "      <td>8.93</td>\n",
       "      <td>Low Fat</td>\n",
       "      <td>0.064299</td>\n",
       "      <td>Household</td>\n",
       "      <td>53.8614</td>\n",
       "      <td>OUT013</td>\n",
       "      <td>1987</td>\n",
       "      <td>High</td>\n",
       "      <td>Tier 3</td>\n",
       "      <td>Supermarket Type1</td>\n",
       "      <td>994.7052</td>\n",
       "    </tr>\n",
       "  </tbody>\n",
       "</table>\n",
       "</div>"
      ],
      "text/plain": [
       "  Item_Identifier  Item_Weight Item_Fat_Content  Item_Visibility  \\\n",
       "0           FDA15         9.30          Low Fat         0.016047   \n",
       "1           DRC01         5.92          Regular         0.019278   \n",
       "2           FDN15        17.50          Low Fat         0.016760   \n",
       "3           FDX07        19.20          Regular         0.074402   \n",
       "4           NCD19         8.93          Low Fat         0.064299   \n",
       "\n",
       "               Item_Type  Item_MRP Outlet_Identifier  \\\n",
       "0                  Dairy  249.8092            OUT049   \n",
       "1            Soft Drinks   48.2692            OUT018   \n",
       "2                   Meat  141.6180            OUT049   \n",
       "3  Fruits and Vegetables  182.0950            OUT010   \n",
       "4              Household   53.8614            OUT013   \n",
       "\n",
       "   Outlet_Establishment_Year Outlet_Size Outlet_Location_Type  \\\n",
       "0                       1999      Medium               Tier 1   \n",
       "1                       2009      Medium               Tier 3   \n",
       "2                       1999      Medium               Tier 1   \n",
       "3                       1998      Medium               Tier 3   \n",
       "4                       1987        High               Tier 3   \n",
       "\n",
       "         Outlet_Type  Item_Outlet_Sales  \n",
       "0  Supermarket Type1          3735.1380  \n",
       "1  Supermarket Type2           443.4228  \n",
       "2  Supermarket Type1          2097.2700  \n",
       "3      Grocery Store           732.3800  \n",
       "4  Supermarket Type1           994.7052  "
      ]
     },
     "execution_count": 4,
     "metadata": {},
     "output_type": "execute_result"
    }
   ],
   "source": [
    "#preview the data\n",
    "store_sales_c.head()"
   ]
  },
  {
   "cell_type": "markdown",
   "id": "72e460c2",
   "metadata": {},
   "source": [
    "### Data Preparation"
   ]
  },
  {
   "cell_type": "code",
   "execution_count": 5,
   "id": "698860cf",
   "metadata": {},
   "outputs": [],
   "source": [
    "#Drop the Item_Identifier, Outlet_Identifier and Outlet_Establishment_Year columns from the dataset\n",
    "store_sales_c.drop(['Item_Identifier', 'Outlet_Identifier', 'Outlet_Establishment_Year' ], axis=1, inplace=True)"
   ]
  },
  {
   "cell_type": "code",
   "execution_count": 6,
   "id": "02b93f9c",
   "metadata": {},
   "outputs": [
    {
     "data": {
      "text/html": [
       "<div>\n",
       "<style scoped>\n",
       "    .dataframe tbody tr th:only-of-type {\n",
       "        vertical-align: middle;\n",
       "    }\n",
       "\n",
       "    .dataframe tbody tr th {\n",
       "        vertical-align: top;\n",
       "    }\n",
       "\n",
       "    .dataframe thead th {\n",
       "        text-align: right;\n",
       "    }\n",
       "</style>\n",
       "<table border=\"1\" class=\"dataframe\">\n",
       "  <thead>\n",
       "    <tr style=\"text-align: right;\">\n",
       "      <th></th>\n",
       "      <th>Item_Weight</th>\n",
       "      <th>Item_Fat_Content</th>\n",
       "      <th>Item_Visibility</th>\n",
       "      <th>Item_Type</th>\n",
       "      <th>Item_MRP</th>\n",
       "      <th>Outlet_Size</th>\n",
       "      <th>Outlet_Location_Type</th>\n",
       "      <th>Outlet_Type</th>\n",
       "      <th>Item_Outlet_Sales</th>\n",
       "    </tr>\n",
       "  </thead>\n",
       "  <tbody>\n",
       "    <tr>\n",
       "      <th>0</th>\n",
       "      <td>9.30</td>\n",
       "      <td>Low Fat</td>\n",
       "      <td>0.016047</td>\n",
       "      <td>Dairy</td>\n",
       "      <td>249.8092</td>\n",
       "      <td>Medium</td>\n",
       "      <td>Tier 1</td>\n",
       "      <td>Supermarket Type1</td>\n",
       "      <td>3735.1380</td>\n",
       "    </tr>\n",
       "    <tr>\n",
       "      <th>1</th>\n",
       "      <td>5.92</td>\n",
       "      <td>Regular</td>\n",
       "      <td>0.019278</td>\n",
       "      <td>Soft Drinks</td>\n",
       "      <td>48.2692</td>\n",
       "      <td>Medium</td>\n",
       "      <td>Tier 3</td>\n",
       "      <td>Supermarket Type2</td>\n",
       "      <td>443.4228</td>\n",
       "    </tr>\n",
       "    <tr>\n",
       "      <th>2</th>\n",
       "      <td>17.50</td>\n",
       "      <td>Low Fat</td>\n",
       "      <td>0.016760</td>\n",
       "      <td>Meat</td>\n",
       "      <td>141.6180</td>\n",
       "      <td>Medium</td>\n",
       "      <td>Tier 1</td>\n",
       "      <td>Supermarket Type1</td>\n",
       "      <td>2097.2700</td>\n",
       "    </tr>\n",
       "    <tr>\n",
       "      <th>3</th>\n",
       "      <td>19.20</td>\n",
       "      <td>Regular</td>\n",
       "      <td>0.074402</td>\n",
       "      <td>Fruits and Vegetables</td>\n",
       "      <td>182.0950</td>\n",
       "      <td>Medium</td>\n",
       "      <td>Tier 3</td>\n",
       "      <td>Grocery Store</td>\n",
       "      <td>732.3800</td>\n",
       "    </tr>\n",
       "    <tr>\n",
       "      <th>4</th>\n",
       "      <td>8.93</td>\n",
       "      <td>Low Fat</td>\n",
       "      <td>0.064299</td>\n",
       "      <td>Household</td>\n",
       "      <td>53.8614</td>\n",
       "      <td>High</td>\n",
       "      <td>Tier 3</td>\n",
       "      <td>Supermarket Type1</td>\n",
       "      <td>994.7052</td>\n",
       "    </tr>\n",
       "  </tbody>\n",
       "</table>\n",
       "</div>"
      ],
      "text/plain": [
       "   Item_Weight Item_Fat_Content  Item_Visibility              Item_Type  \\\n",
       "0         9.30          Low Fat         0.016047                  Dairy   \n",
       "1         5.92          Regular         0.019278            Soft Drinks   \n",
       "2        17.50          Low Fat         0.016760                   Meat   \n",
       "3        19.20          Regular         0.074402  Fruits and Vegetables   \n",
       "4         8.93          Low Fat         0.064299              Household   \n",
       "\n",
       "   Item_MRP Outlet_Size Outlet_Location_Type        Outlet_Type  \\\n",
       "0  249.8092      Medium               Tier 1  Supermarket Type1   \n",
       "1   48.2692      Medium               Tier 3  Supermarket Type2   \n",
       "2  141.6180      Medium               Tier 1  Supermarket Type1   \n",
       "3  182.0950      Medium               Tier 3      Grocery Store   \n",
       "4   53.8614        High               Tier 3  Supermarket Type1   \n",
       "\n",
       "   Item_Outlet_Sales  \n",
       "0          3735.1380  \n",
       "1           443.4228  \n",
       "2          2097.2700  \n",
       "3           732.3800  \n",
       "4           994.7052  "
      ]
     },
     "execution_count": 6,
     "metadata": {},
     "output_type": "execute_result"
    }
   ],
   "source": [
    "store_sales_c.head()"
   ]
  },
  {
   "cell_type": "code",
   "execution_count": 7,
   "id": "92296dac",
   "metadata": {},
   "outputs": [
    {
     "name": "stdout",
     "output_type": "stream",
     "text": [
      "Item_Weight             float64\n",
      "Item_Fat_Content         object\n",
      "Item_Visibility         float64\n",
      "Item_Type                object\n",
      "Item_MRP                float64\n",
      "Outlet_Size              object\n",
      "Outlet_Location_Type     object\n",
      "Outlet_Type              object\n",
      "Item_Outlet_Sales       float64\n",
      "dtype: object\n"
     ]
    }
   ],
   "source": [
    "# Datatypes of all columns\n",
    "print(store_sales_c.dtypes)"
   ]
  },
  {
   "cell_type": "code",
   "execution_count": 8,
   "id": "f3a89a21",
   "metadata": {},
   "outputs": [
    {
     "name": "stdout",
     "output_type": "stream",
     "text": [
      "(14204, 9)\n"
     ]
    }
   ],
   "source": [
    "# structure of dataset\n",
    "print(store_sales_c.shape)"
   ]
  },
  {
   "cell_type": "code",
   "execution_count": 9,
   "id": "1d3ae35a",
   "metadata": {},
   "outputs": [
    {
     "data": {
      "text/html": [
       "<div>\n",
       "<style scoped>\n",
       "    .dataframe tbody tr th:only-of-type {\n",
       "        vertical-align: middle;\n",
       "    }\n",
       "\n",
       "    .dataframe tbody tr th {\n",
       "        vertical-align: top;\n",
       "    }\n",
       "\n",
       "    .dataframe thead th {\n",
       "        text-align: right;\n",
       "    }\n",
       "</style>\n",
       "<table border=\"1\" class=\"dataframe\">\n",
       "  <thead>\n",
       "    <tr style=\"text-align: right;\">\n",
       "      <th></th>\n",
       "      <th>Item_Weight</th>\n",
       "      <th>Item_Visibility</th>\n",
       "      <th>Item_MRP</th>\n",
       "      <th>Item_Outlet_Sales</th>\n",
       "    </tr>\n",
       "  </thead>\n",
       "  <tbody>\n",
       "    <tr>\n",
       "      <th>count</th>\n",
       "      <td>14204.000000</td>\n",
       "      <td>14204.000000</td>\n",
       "      <td>14204.000000</td>\n",
       "      <td>8523.000000</td>\n",
       "    </tr>\n",
       "    <tr>\n",
       "      <th>mean</th>\n",
       "      <td>12.793380</td>\n",
       "      <td>0.070301</td>\n",
       "      <td>141.004977</td>\n",
       "      <td>2181.288914</td>\n",
       "    </tr>\n",
       "    <tr>\n",
       "      <th>std</th>\n",
       "      <td>4.651716</td>\n",
       "      <td>0.048621</td>\n",
       "      <td>62.086938</td>\n",
       "      <td>1706.499616</td>\n",
       "    </tr>\n",
       "    <tr>\n",
       "      <th>min</th>\n",
       "      <td>4.555000</td>\n",
       "      <td>0.003575</td>\n",
       "      <td>31.290000</td>\n",
       "      <td>33.290000</td>\n",
       "    </tr>\n",
       "    <tr>\n",
       "      <th>25%</th>\n",
       "      <td>8.710000</td>\n",
       "      <td>0.033143</td>\n",
       "      <td>94.012000</td>\n",
       "      <td>834.247400</td>\n",
       "    </tr>\n",
       "    <tr>\n",
       "      <th>50%</th>\n",
       "      <td>12.600000</td>\n",
       "      <td>0.062347</td>\n",
       "      <td>142.247000</td>\n",
       "      <td>1794.331000</td>\n",
       "    </tr>\n",
       "    <tr>\n",
       "      <th>75%</th>\n",
       "      <td>16.750000</td>\n",
       "      <td>0.094037</td>\n",
       "      <td>185.855600</td>\n",
       "      <td>3101.296400</td>\n",
       "    </tr>\n",
       "    <tr>\n",
       "      <th>max</th>\n",
       "      <td>21.350000</td>\n",
       "      <td>0.328391</td>\n",
       "      <td>266.888400</td>\n",
       "      <td>13086.964800</td>\n",
       "    </tr>\n",
       "  </tbody>\n",
       "</table>\n",
       "</div>"
      ],
      "text/plain": [
       "        Item_Weight  Item_Visibility      Item_MRP  Item_Outlet_Sales\n",
       "count  14204.000000     14204.000000  14204.000000        8523.000000\n",
       "mean      12.793380         0.070301    141.004977        2181.288914\n",
       "std        4.651716         0.048621     62.086938        1706.499616\n",
       "min        4.555000         0.003575     31.290000          33.290000\n",
       "25%        8.710000         0.033143     94.012000         834.247400\n",
       "50%       12.600000         0.062347    142.247000        1794.331000\n",
       "75%       16.750000         0.094037    185.855600        3101.296400\n",
       "max       21.350000         0.328391    266.888400       13086.964800"
      ]
     },
     "execution_count": 9,
     "metadata": {},
     "output_type": "execute_result"
    }
   ],
   "source": [
    "# Summary of dataset\n",
    "store_sales_c.describe()"
   ]
  },
  {
   "cell_type": "markdown",
   "id": "fce5b4b7",
   "metadata": {},
   "source": [
    "#### Count of each label in categorical column"
   ]
  },
  {
   "cell_type": "code",
   "execution_count": 10,
   "id": "47e824f8",
   "metadata": {},
   "outputs": [
    {
     "data": {
      "text/plain": [
       "Low Fat    9185\n",
       "Regular    5019\n",
       "Name: Item_Fat_Content, dtype: int64"
      ]
     },
     "execution_count": 10,
     "metadata": {},
     "output_type": "execute_result"
    }
   ],
   "source": [
    "# Item_Fat\n",
    "store_sales_c.Item_Fat_Content.value_counts()"
   ]
  },
  {
   "cell_type": "code",
   "execution_count": 11,
   "id": "e51b0888",
   "metadata": {},
   "outputs": [
    {
     "data": {
      "text/plain": [
       "Fruits and Vegetables    2013\n",
       "Snack Foods              1989\n",
       "Household                1548\n",
       "Frozen Foods             1426\n",
       "Dairy                    1136\n",
       "Baking Goods             1086\n",
       "Canned                   1084\n",
       "Health and Hygiene        858\n",
       "Meat                      736\n",
       "Soft Drinks               726\n",
       "Breads                    416\n",
       "Hard Drinks               362\n",
       "Others                    280\n",
       "Starchy Foods             269\n",
       "Breakfast                 186\n",
       "Seafood                    89\n",
       "Name: Item_Type, dtype: int64"
      ]
     },
     "execution_count": 11,
     "metadata": {},
     "output_type": "execute_result"
    }
   ],
   "source": [
    "# Item_Type\n",
    "store_sales_c.Item_Type.value_counts()"
   ]
  },
  {
   "cell_type": "code",
   "execution_count": 12,
   "id": "a06445ba",
   "metadata": {},
   "outputs": [
    {
     "data": {
      "text/plain": [
       "Small     7071\n",
       "Medium    5580\n",
       "High      1553\n",
       "Name: Outlet_Size, dtype: int64"
      ]
     },
     "execution_count": 12,
     "metadata": {},
     "output_type": "execute_result"
    }
   ],
   "source": [
    "# Outlet_Size \n",
    "store_sales_c.Outlet_Size.value_counts()"
   ]
  },
  {
   "cell_type": "code",
   "execution_count": 13,
   "id": "32192a6e",
   "metadata": {},
   "outputs": [
    {
     "data": {
      "text/plain": [
       "Tier 3    5583\n",
       "Tier 2    4641\n",
       "Tier 1    3980\n",
       "Name: Outlet_Location_Type, dtype: int64"
      ]
     },
     "execution_count": 13,
     "metadata": {},
     "output_type": "execute_result"
    }
   ],
   "source": [
    "# Outlet_Location_Type\n",
    "store_sales_c.Outlet_Location_Type.value_counts()"
   ]
  },
  {
   "cell_type": "code",
   "execution_count": 14,
   "id": "29c9a1cf",
   "metadata": {},
   "outputs": [
    {
     "data": {
      "text/plain": [
       "Supermarket Type1    9294\n",
       "Grocery Store        1805\n",
       "Supermarket Type3    1559\n",
       "Supermarket Type2    1546\n",
       "Name: Outlet_Type, dtype: int64"
      ]
     },
     "execution_count": 14,
     "metadata": {},
     "output_type": "execute_result"
    }
   ],
   "source": [
    "#Outlet_Type\n",
    "store_sales_c.Outlet_Type.value_counts()"
   ]
  },
  {
   "cell_type": "markdown",
   "id": "b11ae08f",
   "metadata": {},
   "source": [
    "### Missing Value Treatment"
   ]
  },
  {
   "cell_type": "code",
   "execution_count": 15,
   "id": "97e922fe",
   "metadata": {},
   "outputs": [
    {
     "name": "stdout",
     "output_type": "stream",
     "text": [
      "Item_Weight                0\n",
      "Item_Fat_Content           0\n",
      "Item_Visibility            0\n",
      "Item_Type                  0\n",
      "Item_MRP                   0\n",
      "Outlet_Size                0\n",
      "Outlet_Location_Type       0\n",
      "Outlet_Type                0\n",
      "Item_Outlet_Sales       5681\n",
      "dtype: int64\n"
     ]
    }
   ],
   "source": [
    "# Checking for null value in each column\n",
    "print(store_sales_c.isnull().sum())"
   ]
  },
  {
   "cell_type": "markdown",
   "id": "275067ca",
   "metadata": {},
   "source": [
    "We find that there is missing value exist in this dataset, so we need to do the missing value treatment."
   ]
  },
  {
   "cell_type": "code",
   "execution_count": 16,
   "id": "7d07a915",
   "metadata": {},
   "outputs": [],
   "source": [
    "\n",
    "median_value = store_sales_c['Item_Outlet_Sales'].median()\n",
    "\n",
    "# Replace nulls in column Item_Outlet_Sale with the # median of values in the same column\n",
    "\n",
    "store_sales_c['Item_Outlet_Sales'].fillna(value = median_value, inplace=True)"
   ]
  },
  {
   "cell_type": "code",
   "execution_count": 17,
   "id": "171e1558",
   "metadata": {},
   "outputs": [
    {
     "name": "stdout",
     "output_type": "stream",
     "text": [
      "Item_Weight             0\n",
      "Item_Fat_Content        0\n",
      "Item_Visibility         0\n",
      "Item_Type               0\n",
      "Item_MRP                0\n",
      "Outlet_Size             0\n",
      "Outlet_Location_Type    0\n",
      "Outlet_Type             0\n",
      "Item_Outlet_Sales       0\n",
      "dtype: int64\n"
     ]
    }
   ],
   "source": [
    "# Again Check for null value in each column\n",
    "print(store_sales_c.isnull().sum())"
   ]
  },
  {
   "cell_type": "markdown",
   "id": "e3d22ee9",
   "metadata": {},
   "source": [
    "Now, there is no missing value exist in the dataset"
   ]
  },
  {
   "cell_type": "markdown",
   "id": "65bbdd17",
   "metadata": {},
   "source": [
    "### EDA"
   ]
  },
  {
   "cell_type": "markdown",
   "id": "cd3530be",
   "metadata": {},
   "source": [
    "###### Analysis of which item type is highest in deman with respect to outlet location"
   ]
  },
  {
   "cell_type": "code",
   "execution_count": 18,
   "id": "90ce10d4",
   "metadata": {},
   "outputs": [
    {
     "data": {
      "text/html": [
       "<div>\n",
       "<style scoped>\n",
       "    .dataframe tbody tr th:only-of-type {\n",
       "        vertical-align: middle;\n",
       "    }\n",
       "\n",
       "    .dataframe tbody tr th {\n",
       "        vertical-align: top;\n",
       "    }\n",
       "\n",
       "    .dataframe thead th {\n",
       "        text-align: right;\n",
       "    }\n",
       "</style>\n",
       "<table border=\"1\" class=\"dataframe\">\n",
       "  <thead>\n",
       "    <tr style=\"text-align: right;\">\n",
       "      <th>Outlet_Location_Type</th>\n",
       "      <th>Tier 1</th>\n",
       "      <th>Tier 2</th>\n",
       "      <th>Tier 3</th>\n",
       "    </tr>\n",
       "    <tr>\n",
       "      <th>Item_Type</th>\n",
       "      <th></th>\n",
       "      <th></th>\n",
       "      <th></th>\n",
       "    </tr>\n",
       "  </thead>\n",
       "  <tbody>\n",
       "    <tr>\n",
       "      <th>Baking Goods</th>\n",
       "      <td>305</td>\n",
       "      <td>352</td>\n",
       "      <td>429</td>\n",
       "    </tr>\n",
       "    <tr>\n",
       "      <th>Breads</th>\n",
       "      <td>117</td>\n",
       "      <td>134</td>\n",
       "      <td>165</td>\n",
       "    </tr>\n",
       "    <tr>\n",
       "      <th>Breakfast</th>\n",
       "      <td>54</td>\n",
       "      <td>60</td>\n",
       "      <td>72</td>\n",
       "    </tr>\n",
       "    <tr>\n",
       "      <th>Canned</th>\n",
       "      <td>305</td>\n",
       "      <td>356</td>\n",
       "      <td>423</td>\n",
       "    </tr>\n",
       "    <tr>\n",
       "      <th>Dairy</th>\n",
       "      <td>318</td>\n",
       "      <td>374</td>\n",
       "      <td>444</td>\n",
       "    </tr>\n",
       "  </tbody>\n",
       "</table>\n",
       "</div>"
      ],
      "text/plain": [
       "Outlet_Location_Type  Tier 1  Tier 2  Tier 3\n",
       "Item_Type                                   \n",
       "Baking Goods             305     352     429\n",
       "Breads                   117     134     165\n",
       "Breakfast                 54      60      72\n",
       "Canned                   305     356     423\n",
       "Dairy                    318     374     444"
      ]
     },
     "execution_count": 18,
     "metadata": {},
     "output_type": "execute_result"
    }
   ],
   "source": [
    "item_df = pd.crosstab(store_sales_c['Item_Type'], store_sales_c['Outlet_Location_Type'])\n",
    "item_df.head()"
   ]
  },
  {
   "cell_type": "code",
   "execution_count": 20,
   "id": "54a90d6b",
   "metadata": {},
   "outputs": [
    {
     "data": {
      "text/plain": [
       "<AxesSubplot:xlabel='Item_Type'>"
      ]
     },
     "execution_count": 20,
     "metadata": {},
     "output_type": "execute_result"
    },
    {
     "data": {
      "image/png": "[encoded data removed]",
      "text/plain": [
       "<Figure size 720x504 with 1 Axes>"
      ]
     },
     "metadata": {
      "needs_background": "light"
     },
     "output_type": "display_data"
    }
   ],
   "source": [
    "item_df.plot(kind = \"bar\", figsize=(10,7))"
   ]
  },
  {
   "cell_type": "markdown",
   "id": "4130906f",
   "metadata": {},
   "source": [
    "\n",
    "1. From the above graph, we analyize that Fruits & vegetables, snack foods and household has highest sales in Tier 3 location of outlets\n",
    "\n",
    "2. Frozen food also in demand in Tier 3 location "
   ]
  },
  {
   "cell_type": "markdown",
   "id": "16b27ec8",
   "metadata": {},
   "source": [
    "#### Analysis of outlet type where the items are sold most"
   ]
  },
  {
   "cell_type": "code",
   "execution_count": 21,
   "id": "cbfc9886",
   "metadata": {},
   "outputs": [
    {
     "data": {
      "image/png": "[encoded data removed]",
      "text/plain": [
       "<Figure size 1800x504 with 1 Axes>"
      ]
     },
     "metadata": {
      "needs_background": "light"
     },
     "output_type": "display_data"
    }
   ],
   "source": [
    "fig, ax = plt.subplots(figsize = (25, 7))\n",
    "sns.countplot(x = \"Item_Type\", hue = \"Outlet_Type\", data = store_sales_c)\n",
    "plt.show()"
   ]
  },
  {
   "cell_type": "markdown",
   "id": "fab0099d",
   "metadata": {},
   "source": [
    "From the above graph, we found that mostly item are sold from Supermarket Type 1"
   ]
  },
  {
   "cell_type": "markdown",
   "id": "6661360d",
   "metadata": {},
   "source": [
    "#### Analise the Item_Outlet_Sales featue of the dataset"
   ]
  },
  {
   "cell_type": "code",
   "execution_count": 23,
   "id": "eddb6392",
   "metadata": {},
   "outputs": [
    {
     "data": {
      "image/png": "[encoded data removed]",
      "text/plain": [
       "<Figure size 432x288 with 1 Axes>"
      ]
     },
     "metadata": {
      "needs_background": "light"
     },
     "output_type": "display_data"
    }
   ],
   "source": [
    "sns.boxplot(x = store_sales_c['Item_Outlet_Sales'], color = \"cyan\") \n",
    "plt.show()"
   ]
  },
  {
   "cell_type": "markdown",
   "id": "0825f6ac",
   "metadata": {},
   "source": [
    "There is outliers are peresent the in Item_Outlet_Sales features. \n",
    "And the strength of outliers is increasing at the end of the tail."
   ]
  },
  {
   "cell_type": "markdown",
   "id": "aa8dee5b",
   "metadata": {},
   "source": [
    "#### Fix the outliers by capping"
   ]
  },
  {
   "cell_type": "code",
   "execution_count": 24,
   "id": "a96c39f5",
   "metadata": {},
   "outputs": [],
   "source": [
    "upper_limit = store_sales_c['Item_Outlet_Sales'].mean() + 3*store_sales_c['Item_Outlet_Sales'].std()\n",
    "lower_limit = store_sales_c['Item_Outlet_Sales'].mean() - 3*store_sales_c['Item_Outlet_Sales'].std()"
   ]
  },
  {
   "cell_type": "code",
   "execution_count": 25,
   "id": "68a0c76e",
   "metadata": {},
   "outputs": [],
   "source": [
    "#apply the capping on outliers\n",
    "store_sales_c['Item_Outlet_Sales'] = np.where( store_sales_c['Item_Outlet_Sales']>upper_limit, upper_limit,\n",
    "    np.where(store_sales_c['Item_Outlet_Sales']<lower_limit, lower_limit, store_sales_c['Item_Outlet_Sales']))"
   ]
  },
  {
   "cell_type": "code",
   "execution_count": 26,
   "id": "45e6be63",
   "metadata": {},
   "outputs": [
    {
     "data": {
      "text/plain": [
       "count    14204.000000\n",
       "mean      2004.024852\n",
       "std       1245.723088\n",
       "min         33.290000\n",
       "25%       1468.089000\n",
       "50%       1794.331000\n",
       "75%       2163.184200\n",
       "max       6032.688865\n",
       "Name: Item_Outlet_Sales, dtype: float64"
      ]
     },
     "execution_count": 26,
     "metadata": {},
     "output_type": "execute_result"
    }
   ],
   "source": [
    "store_sales_c['Item_Outlet_Sales'].describe()"
   ]
  },
  {
   "cell_type": "markdown",
   "id": "12c15ddd",
   "metadata": {},
   "source": [
    "### Feature Engineering"
   ]
  },
  {
   "cell_type": "code",
   "execution_count": 27,
   "id": "4a31ea84",
   "metadata": {},
   "outputs": [],
   "source": [
    "from sklearn import preprocessing"
   ]
  },
  {
   "cell_type": "code",
   "execution_count": 28,
   "id": "1dbe118b",
   "metadata": {},
   "outputs": [],
   "source": [
    "# Using Label Encoder technique to convert categorical column into numerical type\n",
    "\n",
    "#label_encoder object knows how to understand word labels.\n",
    "label_encoder = preprocessing.LabelEncoder()\n",
    "\n",
    "# Encode labels in column 'Item_Fat_Content'.\n",
    "store_sales_c['Item_Fat_Content']= label_encoder.fit_transform(store_sales_c['Item_Fat_Content'])\n",
    " \n",
    "# Encode labels in column 'Item_Type'.\n",
    "store_sales_c['Item_Type']= label_encoder.fit_transform(store_sales_c['Item_Type'])\n",
    "\n",
    " \n",
    "# Encode labels in column 'Outlet_Size'.\n",
    "store_sales_c['Outlet_Size']= label_encoder.fit_transform(store_sales_c['Outlet_Size'])\n",
    "\n",
    "# Encode labels in column 'Outlet_Location_Type'.\n",
    "store_sales_c['Outlet_Location_Type']= label_encoder.fit_transform(store_sales_c['Outlet_Location_Type'])\n",
    "\n",
    "# Encode labels in column 'Outlet_Type'.\n",
    "store_sales_c['Outlet_Type']= label_encoder.fit_transform(store_sales_c['Outlet_Type'])\n"
   ]
  },
  {
   "cell_type": "markdown",
   "id": "63ea35f8",
   "metadata": {},
   "source": [
    "### Feature Scaling"
   ]
  },
  {
   "cell_type": "code",
   "execution_count": 29,
   "id": "97966e92",
   "metadata": {},
   "outputs": [],
   "source": [
    "# scaling the data using StandardScaler Scaling process\n",
    "final_data = StandardScaler()\n",
    "store_sales_scaled = final_data.fit_transform(store_sales_c)"
   ]
  },
  {
   "cell_type": "markdown",
   "id": "96799615",
   "metadata": {},
   "source": [
    "### Feature Selection"
   ]
  },
  {
   "cell_type": "code",
   "execution_count": 30,
   "id": "84419f30",
   "metadata": {},
   "outputs": [
    {
     "data": {
      "text/html": [
       "<style type=\"text/css\">\n",
       "#T_1035b_row0_col0, #T_1035b_row1_col1, #T_1035b_row2_col2, #T_1035b_row3_col3, #T_1035b_row4_col4, #T_1035b_row5_col5, #T_1035b_row6_col6, #T_1035b_row7_col7, #T_1035b_row8_col8 {\n",
       "  background-color: #b40426;\n",
       "  color: #f1f1f1;\n",
       "}\n",
       "#T_1035b_row0_col1 {\n",
       "  background-color: #5977e3;\n",
       "  color: #f1f1f1;\n",
       "}\n",
       "#T_1035b_row0_col2, #T_1035b_row6_col1, #T_1035b_row6_col2, #T_1035b_row6_col3, #T_1035b_row7_col3 {\n",
       "  background-color: #6384eb;\n",
       "  color: #f1f1f1;\n",
       "}\n",
       "#T_1035b_row0_col3 {\n",
       "  background-color: #6c8ff1;\n",
       "  color: #f1f1f1;\n",
       "}\n",
       "#T_1035b_row0_col4, #T_1035b_row8_col0 {\n",
       "  background-color: #485fd1;\n",
       "  color: #f1f1f1;\n",
       "}\n",
       "#T_1035b_row0_col5, #T_1035b_row1_col6, #T_1035b_row3_col6, #T_1035b_row4_col6, #T_1035b_row7_col8 {\n",
       "  background-color: #b7cff9;\n",
       "  color: #000000;\n",
       "}\n",
       "#T_1035b_row0_col6, #T_1035b_row1_col5, #T_1035b_row3_col5, #T_1035b_row4_col5 {\n",
       "  background-color: #b6cefa;\n",
       "  color: #000000;\n",
       "}\n",
       "#T_1035b_row0_col7, #T_1035b_row3_col7, #T_1035b_row7_col5 {\n",
       "  background-color: #7ea1fa;\n",
       "  color: #f1f1f1;\n",
       "}\n",
       "#T_1035b_row0_col8, #T_1035b_row3_col8 {\n",
       "  background-color: #5b7ae5;\n",
       "  color: #f1f1f1;\n",
       "}\n",
       "#T_1035b_row1_col0, #T_1035b_row1_col3, #T_1035b_row2_col4, #T_1035b_row2_col8, #T_1035b_row3_col1, #T_1035b_row5_col6, #T_1035b_row5_col7, #T_1035b_row6_col5, #T_1035b_row7_col2 {\n",
       "  background-color: #3b4cc0;\n",
       "  color: #f1f1f1;\n",
       "}\n",
       "#T_1035b_row1_col2 {\n",
       "  background-color: #779af7;\n",
       "  color: #f1f1f1;\n",
       "}\n",
       "#T_1035b_row1_col4, #T_1035b_row5_col4 {\n",
       "  background-color: #3c4ec2;\n",
       "  color: #f1f1f1;\n",
       "}\n",
       "#T_1035b_row1_col7, #T_1035b_row4_col7 {\n",
       "  background-color: #7da0f9;\n",
       "  color: #f1f1f1;\n",
       "}\n",
       "#T_1035b_row1_col8 {\n",
       "  background-color: #5d7ce6;\n",
       "  color: #f1f1f1;\n",
       "}\n",
       "#T_1035b_row2_col0 {\n",
       "  background-color: #3e51c5;\n",
       "  color: #f1f1f1;\n",
       "}\n",
       "#T_1035b_row2_col1, #T_1035b_row5_col2 {\n",
       "  background-color: #7093f3;\n",
       "  color: #f1f1f1;\n",
       "}\n",
       "#T_1035b_row2_col3 {\n",
       "  background-color: #5875e1;\n",
       "  color: #f1f1f1;\n",
       "}\n",
       "#T_1035b_row2_col5 {\n",
       "  background-color: #bcd2f7;\n",
       "  color: #000000;\n",
       "}\n",
       "#T_1035b_row2_col6 {\n",
       "  background-color: #b2ccfb;\n",
       "  color: #000000;\n",
       "}\n",
       "#T_1035b_row2_col7, #T_1035b_row4_col0 {\n",
       "  background-color: #4f69d9;\n",
       "  color: #f1f1f1;\n",
       "}\n",
       "#T_1035b_row3_col0 {\n",
       "  background-color: #4e68d8;\n",
       "  color: #f1f1f1;\n",
       "}\n",
       "#T_1035b_row3_col2 {\n",
       "  background-color: #5e7de7;\n",
       "  color: #f1f1f1;\n",
       "}\n",
       "#T_1035b_row3_col4 {\n",
       "  background-color: #4a63d3;\n",
       "  color: #f1f1f1;\n",
       "}\n",
       "#T_1035b_row4_col1, #T_1035b_row5_col1, #T_1035b_row5_col3, #T_1035b_row7_col1 {\n",
       "  background-color: #6282ea;\n",
       "  color: #f1f1f1;\n",
       "}\n",
       "#T_1035b_row4_col2, #T_1035b_row8_col3 {\n",
       "  background-color: #6687ed;\n",
       "  color: #f1f1f1;\n",
       "}\n",
       "#T_1035b_row4_col3 {\n",
       "  background-color: #6f92f3;\n",
       "  color: #f1f1f1;\n",
       "}\n",
       "#T_1035b_row4_col8 {\n",
       "  background-color: #dcdddd;\n",
       "  color: #000000;\n",
       "}\n",
       "#T_1035b_row5_col0, #T_1035b_row7_col0 {\n",
       "  background-color: #445acc;\n",
       "  color: #f1f1f1;\n",
       "}\n",
       "#T_1035b_row5_col8, #T_1035b_row8_col2 {\n",
       "  background-color: #4b64d5;\n",
       "  color: #f1f1f1;\n",
       "}\n",
       "#T_1035b_row6_col0 {\n",
       "  background-color: #4358cb;\n",
       "  color: #f1f1f1;\n",
       "}\n",
       "#T_1035b_row6_col4, #T_1035b_row7_col4 {\n",
       "  background-color: #3d50c3;\n",
       "  color: #f1f1f1;\n",
       "}\n",
       "#T_1035b_row6_col7 {\n",
       "  background-color: #eed0c0;\n",
       "  color: #000000;\n",
       "}\n",
       "#T_1035b_row6_col8 {\n",
       "  background-color: #6b8df0;\n",
       "  color: #f1f1f1;\n",
       "}\n",
       "#T_1035b_row7_col6 {\n",
       "  background-color: #f7b89c;\n",
       "  color: #000000;\n",
       "}\n",
       "#T_1035b_row8_col1 {\n",
       "  background-color: #6788ee;\n",
       "  color: #f1f1f1;\n",
       "}\n",
       "#T_1035b_row8_col4 {\n",
       "  background-color: #cedaeb;\n",
       "  color: #000000;\n",
       "}\n",
       "#T_1035b_row8_col5 {\n",
       "  background-color: #adc9fd;\n",
       "  color: #000000;\n",
       "}\n",
       "#T_1035b_row8_col6 {\n",
       "  background-color: #c4d5f3;\n",
       "  color: #000000;\n",
       "}\n",
       "#T_1035b_row8_col7 {\n",
       "  background-color: #cfdaea;\n",
       "  color: #000000;\n",
       "}\n",
       "</style>\n",
       "<table id=\"T_1035b\">\n",
       "  <thead>\n",
       "    <tr>\n",
       "      <th class=\"blank level0\" >&nbsp;</th>\n",
       "      <th id=\"T_1035b_level0_col0\" class=\"col_heading level0 col0\" >Item_Weight</th>\n",
       "      <th id=\"T_1035b_level0_col1\" class=\"col_heading level0 col1\" >Item_Fat_Content</th>\n",
       "      <th id=\"T_1035b_level0_col2\" class=\"col_heading level0 col2\" >Item_Visibility</th>\n",
       "      <th id=\"T_1035b_level0_col3\" class=\"col_heading level0 col3\" >Item_Type</th>\n",
       "      <th id=\"T_1035b_level0_col4\" class=\"col_heading level0 col4\" >Item_MRP</th>\n",
       "      <th id=\"T_1035b_level0_col5\" class=\"col_heading level0 col5\" >Outlet_Size</th>\n",
       "      <th id=\"T_1035b_level0_col6\" class=\"col_heading level0 col6\" >Outlet_Location_Type</th>\n",
       "      <th id=\"T_1035b_level0_col7\" class=\"col_heading level0 col7\" >Outlet_Type</th>\n",
       "      <th id=\"T_1035b_level0_col8\" class=\"col_heading level0 col8\" >Item_Outlet_Sales</th>\n",
       "    </tr>\n",
       "  </thead>\n",
       "  <tbody>\n",
       "    <tr>\n",
       "      <th id=\"T_1035b_level0_row0\" class=\"row_heading level0 row0\" >Item_Weight</th>\n",
       "      <td id=\"T_1035b_row0_col0\" class=\"data row0 col0\" >1.000000</td>\n",
       "      <td id=\"T_1035b_row0_col1\" class=\"data row0 col1\" >-0.033737</td>\n",
       "      <td id=\"T_1035b_row0_col2\" class=\"data row0 col2\" >-0.020472</td>\n",
       "      <td id=\"T_1035b_row0_col3\" class=\"data row0 col3\" >0.031884</td>\n",
       "      <td id=\"T_1035b_row0_col4\" class=\"data row0 col4\" >0.035751</td>\n",
       "      <td id=\"T_1035b_row0_col5\" class=\"data row0 col5\" >0.000944</td>\n",
       "      <td id=\"T_1035b_row0_col6\" class=\"data row0 col6\" >-0.001719</td>\n",
       "      <td id=\"T_1035b_row0_col7\" class=\"data row0 col7\" >0.001913</td>\n",
       "      <td id=\"T_1035b_row0_col8\" class=\"data row0 col8\" >0.012003</td>\n",
       "    </tr>\n",
       "    <tr>\n",
       "      <th id=\"T_1035b_level0_row1\" class=\"row_heading level0 row1\" >Item_Fat_Content</th>\n",
       "      <td id=\"T_1035b_row1_col0\" class=\"data row1 col0\" >-0.033737</td>\n",
       "      <td id=\"T_1035b_row1_col1\" class=\"data row1 col1\" >1.000000</td>\n",
       "      <td id=\"T_1035b_row1_col2\" class=\"data row1 col2\" >0.048315</td>\n",
       "      <td id=\"T_1035b_row1_col3\" class=\"data row1 col3\" >-0.147733</td>\n",
       "      <td id=\"T_1035b_row1_col4\" class=\"data row1 col4\" >-0.004019</td>\n",
       "      <td id=\"T_1035b_row1_col5\" class=\"data row1 col5\" >-0.000827</td>\n",
       "      <td id=\"T_1035b_row1_col6\" class=\"data row1 col6\" >0.001373</td>\n",
       "      <td id=\"T_1035b_row1_col7\" class=\"data row1 col7\" >-0.000228</td>\n",
       "      <td id=\"T_1035b_row1_col8\" class=\"data row1 col8\" >0.015251</td>\n",
       "    </tr>\n",
       "    <tr>\n",
       "      <th id=\"T_1035b_level0_row2\" class=\"row_heading level0 row2\" >Item_Visibility</th>\n",
       "      <td id=\"T_1035b_row2_col0\" class=\"data row2 col0\" >-0.020472</td>\n",
       "      <td id=\"T_1035b_row2_col1\" class=\"data row2 col1\" >0.048315</td>\n",
       "      <td id=\"T_1035b_row2_col2\" class=\"data row2 col2\" >1.000000</td>\n",
       "      <td id=\"T_1035b_row2_col3\" class=\"data row2 col3\" >-0.037821</td>\n",
       "      <td id=\"T_1035b_row2_col4\" class=\"data row2 col4\" >-0.009144</td>\n",
       "      <td id=\"T_1035b_row2_col5\" class=\"data row2 col5\" >0.026808</td>\n",
       "      <td id=\"T_1035b_row2_col6\" class=\"data row2 col6\" >-0.020550</td>\n",
       "      <td id=\"T_1035b_row2_col7\" class=\"data row2 col7\" >-0.172744</td>\n",
       "      <td id=\"T_1035b_row2_col8\" class=\"data row2 col8\" >-0.107109</td>\n",
       "    </tr>\n",
       "    <tr>\n",
       "      <th id=\"T_1035b_level0_row3\" class=\"row_heading level0 row3\" >Item_Type</th>\n",
       "      <td id=\"T_1035b_row3_col0\" class=\"data row3 col0\" >0.031884</td>\n",
       "      <td id=\"T_1035b_row3_col1\" class=\"data row3 col1\" >-0.147733</td>\n",
       "      <td id=\"T_1035b_row3_col2\" class=\"data row3 col2\" >-0.037821</td>\n",
       "      <td id=\"T_1035b_row3_col3\" class=\"data row3 col3\" >1.000000</td>\n",
       "      <td id=\"T_1035b_row3_col4\" class=\"data row3 col4\" >0.043948</td>\n",
       "      <td id=\"T_1035b_row3_col5\" class=\"data row3 col5\" >-0.001080</td>\n",
       "      <td id=\"T_1035b_row3_col6\" class=\"data row3 col6\" >0.002083</td>\n",
       "      <td id=\"T_1035b_row3_col7\" class=\"data row3 col7\" >0.004305</td>\n",
       "      <td id=\"T_1035b_row3_col8\" class=\"data row3 col8\" >0.013410</td>\n",
       "    </tr>\n",
       "    <tr>\n",
       "      <th id=\"T_1035b_level0_row4\" class=\"row_heading level0 row4\" >Item_MRP</th>\n",
       "      <td id=\"T_1035b_row4_col0\" class=\"data row4 col0\" >0.035751</td>\n",
       "      <td id=\"T_1035b_row4_col1\" class=\"data row4 col1\" >-0.004019</td>\n",
       "      <td id=\"T_1035b_row4_col2\" class=\"data row4 col2\" >-0.009144</td>\n",
       "      <td id=\"T_1035b_row4_col3\" class=\"data row4 col3\" >0.043948</td>\n",
       "      <td id=\"T_1035b_row4_col4\" class=\"data row4 col4\" >1.000000</td>\n",
       "      <td id=\"T_1035b_row4_col5\" class=\"data row4 col5\" >-0.001305</td>\n",
       "      <td id=\"T_1035b_row4_col6\" class=\"data row4 col6\" >0.000838</td>\n",
       "      <td id=\"T_1035b_row4_col7\" class=\"data row4 col7\" >0.000136</td>\n",
       "      <td id=\"T_1035b_row4_col8\" class=\"data row4 col8\" >0.443142</td>\n",
       "    </tr>\n",
       "    <tr>\n",
       "      <th id=\"T_1035b_level0_row5\" class=\"row_heading level0 row5\" >Outlet_Size</th>\n",
       "      <td id=\"T_1035b_row5_col0\" class=\"data row5 col0\" >0.000944</td>\n",
       "      <td id=\"T_1035b_row5_col1\" class=\"data row5 col1\" >-0.000827</td>\n",
       "      <td id=\"T_1035b_row5_col2\" class=\"data row5 col2\" >0.026808</td>\n",
       "      <td id=\"T_1035b_row5_col3\" class=\"data row5 col3\" >-0.001080</td>\n",
       "      <td id=\"T_1035b_row5_col4\" class=\"data row5 col4\" >-0.001305</td>\n",
       "      <td id=\"T_1035b_row5_col5\" class=\"data row5 col5\" >1.000000</td>\n",
       "      <td id=\"T_1035b_row5_col6\" class=\"data row5 col6\" >-0.590677</td>\n",
       "      <td id=\"T_1035b_row5_col7\" class=\"data row5 col7\" >-0.260496</td>\n",
       "      <td id=\"T_1035b_row5_col8\" class=\"data row5 col8\" >-0.044666</td>\n",
       "    </tr>\n",
       "    <tr>\n",
       "      <th id=\"T_1035b_level0_row6\" class=\"row_heading level0 row6\" >Outlet_Location_Type</th>\n",
       "      <td id=\"T_1035b_row6_col0\" class=\"data row6 col0\" >-0.001719</td>\n",
       "      <td id=\"T_1035b_row6_col1\" class=\"data row6 col1\" >0.001373</td>\n",
       "      <td id=\"T_1035b_row6_col2\" class=\"data row6 col2\" >-0.020550</td>\n",
       "      <td id=\"T_1035b_row6_col3\" class=\"data row6 col3\" >0.002083</td>\n",
       "      <td id=\"T_1035b_row6_col4\" class=\"data row6 col4\" >0.000838</td>\n",
       "      <td id=\"T_1035b_row6_col5\" class=\"data row6 col5\" >-0.590677</td>\n",
       "      <td id=\"T_1035b_row6_col6\" class=\"data row6 col6\" >1.000000</td>\n",
       "      <td id=\"T_1035b_row6_col7\" class=\"data row6 col7\" >0.467251</td>\n",
       "      <td id=\"T_1035b_row6_col8\" class=\"data row6 col8\" >0.062703</td>\n",
       "    </tr>\n",
       "    <tr>\n",
       "      <th id=\"T_1035b_level0_row7\" class=\"row_heading level0 row7\" >Outlet_Type</th>\n",
       "      <td id=\"T_1035b_row7_col0\" class=\"data row7 col0\" >0.001913</td>\n",
       "      <td id=\"T_1035b_row7_col1\" class=\"data row7 col1\" >-0.000228</td>\n",
       "      <td id=\"T_1035b_row7_col2\" class=\"data row7 col2\" >-0.172744</td>\n",
       "      <td id=\"T_1035b_row7_col3\" class=\"data row7 col3\" >0.004305</td>\n",
       "      <td id=\"T_1035b_row7_col4\" class=\"data row7 col4\" >0.000136</td>\n",
       "      <td id=\"T_1035b_row7_col5\" class=\"data row7 col5\" >-0.260496</td>\n",
       "      <td id=\"T_1035b_row7_col6\" class=\"data row7 col6\" >0.467251</td>\n",
       "      <td id=\"T_1035b_row7_col7\" class=\"data row7 col7\" >1.000000</td>\n",
       "      <td id=\"T_1035b_row7_col8\" class=\"data row7 col8\" >0.306268</td>\n",
       "    </tr>\n",
       "    <tr>\n",
       "      <th id=\"T_1035b_level0_row8\" class=\"row_heading level0 row8\" >Item_Outlet_Sales</th>\n",
       "      <td id=\"T_1035b_row8_col0\" class=\"data row8 col0\" >0.012003</td>\n",
       "      <td id=\"T_1035b_row8_col1\" class=\"data row8 col1\" >0.015251</td>\n",
       "      <td id=\"T_1035b_row8_col2\" class=\"data row8 col2\" >-0.107109</td>\n",
       "      <td id=\"T_1035b_row8_col3\" class=\"data row8 col3\" >0.013410</td>\n",
       "      <td id=\"T_1035b_row8_col4\" class=\"data row8 col4\" >0.443142</td>\n",
       "      <td id=\"T_1035b_row8_col5\" class=\"data row8 col5\" >-0.044666</td>\n",
       "      <td id=\"T_1035b_row8_col6\" class=\"data row8 col6\" >0.062703</td>\n",
       "      <td id=\"T_1035b_row8_col7\" class=\"data row8 col7\" >0.306268</td>\n",
       "      <td id=\"T_1035b_row8_col8\" class=\"data row8 col8\" >1.000000</td>\n",
       "    </tr>\n",
       "  </tbody>\n",
       "</table>\n"
      ],
      "text/plain": [
       "<pandas.io.formats.style.Styler at 0x18a157725b0>"
      ]
     },
     "execution_count": 30,
     "metadata": {},
     "output_type": "execute_result"
    }
   ],
   "source": [
    "# Finding correlation among numerical features, based on their strong relation we can choose the important features\n",
    "corr = store_sales_c.corr()\n",
    "corr.style.background_gradient(cmap ='coolwarm')"
   ]
  },
  {
   "cell_type": "code",
   "execution_count": 31,
   "id": "f28bc8c5",
   "metadata": {},
   "outputs": [
    {
     "data": {
      "image/png": "[encoded data removed]",
      "text/plain": [
       "<Figure size 432x288 with 2 Axes>"
      ]
     },
     "metadata": {
      "needs_background": "light"
     },
     "output_type": "display_data"
    }
   ],
   "source": [
    "# Correlation Heatmap\n",
    "hm = sns.heatmap(store_sales_c.corr(), annot = True);\n",
    "\n",
    "hm.set(xlabel='\\nStore Sales Details', ylabel='Store Sales Details', title = \"Correlation matrix of Store Sales Data\\n\")\n",
    "plt.show()"
   ]
  },
  {
   "cell_type": "markdown",
   "id": "6bcfcb90",
   "metadata": {},
   "source": [
    "##### Observation: \n",
    "\n",
    "1. Item_Outlet_Sales is strongly correlated with Item_MRP and Outlet_Type.\n",
    "\n",
    "2. Item_Weight and Item_Fat_Content is not strongly correlated, we can drop these features"
   ]
  },
  {
   "cell_type": "code",
   "execution_count": 32,
   "id": "c6c62611",
   "metadata": {},
   "outputs": [],
   "source": [
    "#Drop the features\n",
    "store_sales_c.drop([\"Item_Type\", \"Outlet_Size\",'Item_Weight', 'Item_Fat_Content', 'Outlet_Location_Type'], \n",
    "                   axis=1, inplace=True)"
   ]
  },
  {
   "cell_type": "code",
   "execution_count": 33,
   "id": "8953e137",
   "metadata": {},
   "outputs": [
    {
     "data": {
      "text/html": [
       "<div>\n",
       "<style scoped>\n",
       "    .dataframe tbody tr th:only-of-type {\n",
       "        vertical-align: middle;\n",
       "    }\n",
       "\n",
       "    .dataframe tbody tr th {\n",
       "        vertical-align: top;\n",
       "    }\n",
       "\n",
       "    .dataframe thead th {\n",
       "        text-align: right;\n",
       "    }\n",
       "</style>\n",
       "<table border=\"1\" class=\"dataframe\">\n",
       "  <thead>\n",
       "    <tr style=\"text-align: right;\">\n",
       "      <th></th>\n",
       "      <th>Item_Visibility</th>\n",
       "      <th>Item_MRP</th>\n",
       "      <th>Outlet_Type</th>\n",
       "      <th>Item_Outlet_Sales</th>\n",
       "    </tr>\n",
       "  </thead>\n",
       "  <tbody>\n",
       "    <tr>\n",
       "      <th>0</th>\n",
       "      <td>0.016047</td>\n",
       "      <td>249.8092</td>\n",
       "      <td>1</td>\n",
       "      <td>3735.1380</td>\n",
       "    </tr>\n",
       "    <tr>\n",
       "      <th>1</th>\n",
       "      <td>0.019278</td>\n",
       "      <td>48.2692</td>\n",
       "      <td>2</td>\n",
       "      <td>443.4228</td>\n",
       "    </tr>\n",
       "    <tr>\n",
       "      <th>2</th>\n",
       "      <td>0.016760</td>\n",
       "      <td>141.6180</td>\n",
       "      <td>1</td>\n",
       "      <td>2097.2700</td>\n",
       "    </tr>\n",
       "    <tr>\n",
       "      <th>3</th>\n",
       "      <td>0.074402</td>\n",
       "      <td>182.0950</td>\n",
       "      <td>0</td>\n",
       "      <td>732.3800</td>\n",
       "    </tr>\n",
       "    <tr>\n",
       "      <th>4</th>\n",
       "      <td>0.064299</td>\n",
       "      <td>53.8614</td>\n",
       "      <td>1</td>\n",
       "      <td>994.7052</td>\n",
       "    </tr>\n",
       "  </tbody>\n",
       "</table>\n",
       "</div>"
      ],
      "text/plain": [
       "   Item_Visibility  Item_MRP  Outlet_Type  Item_Outlet_Sales\n",
       "0         0.016047  249.8092            1          3735.1380\n",
       "1         0.019278   48.2692            2           443.4228\n",
       "2         0.016760  141.6180            1          2097.2700\n",
       "3         0.074402  182.0950            0           732.3800\n",
       "4         0.064299   53.8614            1           994.7052"
      ]
     },
     "execution_count": 33,
     "metadata": {},
     "output_type": "execute_result"
    }
   ],
   "source": [
    "store_sales_c.head()"
   ]
  },
  {
   "cell_type": "markdown",
   "id": "5e3c583a",
   "metadata": {},
   "source": [
    "### Splitting Data into Train and Test data set"
   ]
  },
  {
   "cell_type": "code",
   "execution_count": 34,
   "id": "254b0469",
   "metadata": {},
   "outputs": [],
   "source": [
    "# Divide the dataset into training and testing sets by using random state 42\n",
    "X = store_sales_c.drop([\"Item_Outlet_Sales\"], axis = 1)\n",
    "y = store_sales_c[\"Item_Outlet_Sales\"]\n",
    "\n",
    "X_train, X_test, y_train, y_test = train_test_split(X, y, train_size=0.8, random_state=42)"
   ]
  },
  {
   "cell_type": "markdown",
   "id": "68d19242",
   "metadata": {},
   "source": [
    "## Model 1: Linear Regression"
   ]
  },
  {
   "cell_type": "code",
   "execution_count": 35,
   "id": "baf7bed0",
   "metadata": {},
   "outputs": [],
   "source": [
    "from sklearn.linear_model import LinearRegression"
   ]
  },
  {
   "cell_type": "code",
   "execution_count": 36,
   "id": "1ecc6909",
   "metadata": {},
   "outputs": [
    {
     "data": {
      "text/plain": [
       "LinearRegression()"
      ]
     },
     "execution_count": 36,
     "metadata": {},
     "output_type": "execute_result"
    }
   ],
   "source": [
    "# define the model\n",
    "LinReg_model = LinearRegression()\n",
    "\n",
    "LinReg_model.fit(X_train, y_train)"
   ]
  },
  {
   "cell_type": "code",
   "execution_count": 37,
   "id": "10f9615d",
   "metadata": {},
   "outputs": [
    {
     "name": "stdout",
     "output_type": "stream",
     "text": [
      "LinearRegression ==> Predicted values of y:\n",
      "\n",
      "[2649.12484336 2438.93546837 2407.35711306 ...  645.61177443 1895.20623792\n",
      " 2044.11949132]\n"
     ]
    }
   ],
   "source": [
    "#predict the value\n",
    "pred_test_LR = LinReg_model.predict(X_test)\n",
    "print('LinearRegression ==> Predicted values of y:\\n', pred_test_LR, sep='\\n')"
   ]
  },
  {
   "cell_type": "markdown",
   "id": "3e58258c",
   "metadata": {},
   "source": [
    "### Evaluation"
   ]
  },
  {
   "cell_type": "code",
   "execution_count": 175,
   "id": "d084d072",
   "metadata": {},
   "outputs": [],
   "source": [
    "# report performance\n",
    "from sklearn.metrics import mean_absolute_error\n",
    "from sklearn.metrics import mean_squared_error"
   ]
  },
  {
   "cell_type": "code",
   "execution_count": 73,
   "id": "b1deb42f",
   "metadata": {},
   "outputs": [
    {
     "name": "stdout",
     "output_type": "stream",
     "text": [
      "R-Squared on train dataset=0.2955559222875509\n",
      "R-Squared on test dataset=0.2795512734954564\n",
      "\n",
      "-------------------------------------------------------------------------\n",
      "\n",
      "MSE value for Linear Regression Model : 1038249.3889188094 \n",
      "RMSE value for Linear Regression Model: 1018.9452335227882\n"
     ]
    }
   ],
   "source": [
    "#the accuracy of training and testing dataset\n",
    "train_LR = LinReg_model.score(X_train,y_train)\n",
    "test_LR = LinReg_model.score(X_test,y_test)\n",
    "print(\"R-Squared on train dataset={}\".format(train_LR))\n",
    "print(\"R-Squared on test dataset={}\".format(test_LR))\n",
    "\n",
    "print(\"\\n-------------------------------------------------------------------------\")\n",
    "#the model performance by MSE, RMSE\n",
    "MSE_Reg = mean_squared_error(y_test,pred_test_LR)\n",
    "RMSE_Reg = mean_squared_error(y_test,pred_test_LR, squared=False)\n",
    "\n",
    "print(\"\\nMSE value for Linear Regression Model :\",MSE_Reg, \"\\nRMSE value for Linear Regression Model:\",RMSE_Reg)"
   ]
  },
  {
   "cell_type": "markdown",
   "id": "f06b4d3d",
   "metadata": {},
   "source": [
    "R-Squared value of training and testing data set is almost same."
   ]
  },
  {
   "cell_type": "markdown",
   "id": "3b1a65ff",
   "metadata": {},
   "source": [
    "### Plot original and predicted sales value"
   ]
  },
  {
   "cell_type": "code",
   "execution_count": 58,
   "id": "fc497ff8",
   "metadata": {},
   "outputs": [
    {
     "data": {
      "text/html": [
       "<div>\n",
       "<style scoped>\n",
       "    .dataframe tbody tr th:only-of-type {\n",
       "        vertical-align: middle;\n",
       "    }\n",
       "\n",
       "    .dataframe tbody tr th {\n",
       "        vertical-align: top;\n",
       "    }\n",
       "\n",
       "    .dataframe thead th {\n",
       "        text-align: right;\n",
       "    }\n",
       "</style>\n",
       "<table border=\"1\" class=\"dataframe\">\n",
       "  <thead>\n",
       "    <tr style=\"text-align: right;\">\n",
       "      <th></th>\n",
       "      <th>Actual</th>\n",
       "      <th>Predicted</th>\n",
       "    </tr>\n",
       "  </thead>\n",
       "  <tbody>\n",
       "    <tr>\n",
       "      <th>9598</th>\n",
       "      <td>1794.3310</td>\n",
       "      <td>3002.343149</td>\n",
       "    </tr>\n",
       "    <tr>\n",
       "      <th>5664</th>\n",
       "      <td>5086.7120</td>\n",
       "      <td>2995.816433</td>\n",
       "    </tr>\n",
       "    <tr>\n",
       "      <th>11586</th>\n",
       "      <td>1794.3310</td>\n",
       "      <td>1696.578245</td>\n",
       "    </tr>\n",
       "    <tr>\n",
       "      <th>1807</th>\n",
       "      <td>120.5098</td>\n",
       "      <td>1168.388534</td>\n",
       "    </tr>\n",
       "    <tr>\n",
       "      <th>8918</th>\n",
       "      <td>1794.3310</td>\n",
       "      <td>2034.385755</td>\n",
       "    </tr>\n",
       "  </tbody>\n",
       "</table>\n",
       "</div>"
      ],
      "text/plain": [
       "          Actual    Predicted\n",
       "9598   1794.3310  3002.343149\n",
       "5664   5086.7120  2995.816433\n",
       "11586  1794.3310  1696.578245\n",
       "1807    120.5098  1168.388534\n",
       "8918   1794.3310  2034.385755"
      ]
     },
     "execution_count": 58,
     "metadata": {},
     "output_type": "execute_result"
    }
   ],
   "source": [
    "#Prediction on test data: Linear Regression\n",
    "\n",
    "df_LR_test = pd.DataFrame({\"Actual\": y_test, \"Predicted\": pred_test_LR})\n",
    "df_LR_test.sample(5, random_state=1)"
   ]
  },
  {
   "cell_type": "code",
   "execution_count": 66,
   "id": "4da4779d",
   "metadata": {},
   "outputs": [
    {
     "data": {
      "text/plain": [
       "<seaborn.axisgrid.FacetGrid at 0x18a266dfb20>"
      ]
     },
     "execution_count": 66,
     "metadata": {},
     "output_type": "execute_result"
    },
    {
     "data": {
      "image/png": "[encoded data removed]",
      "text/plain": [
       "<Figure size 360x360 with 1 Axes>"
      ]
     },
     "metadata": {
      "needs_background": "light"
     },
     "output_type": "display_data"
    }
   ],
   "source": [
    "import seaborn as sns\n",
    "sns.lmplot(data=df_LR_test, x=\"Actual\", y=\"Predicted\")"
   ]
  },
  {
   "cell_type": "markdown",
   "id": "90b7d8d5",
   "metadata": {},
   "source": [
    "## Model 2: Bagging with Random Forest"
   ]
  },
  {
   "cell_type": "code",
   "execution_count": 39,
   "id": "f2b44744",
   "metadata": {},
   "outputs": [],
   "source": [
    "from sklearn.ensemble import RandomForestRegressor"
   ]
  },
  {
   "cell_type": "code",
   "execution_count": 40,
   "id": "51cc0666",
   "metadata": {},
   "outputs": [
    {
     "data": {
      "text/plain": [
       "RandomForestRegressor(n_estimators=10, n_jobs=-1, random_state=1)"
      ]
     },
     "execution_count": 40,
     "metadata": {},
     "output_type": "execute_result"
    }
   ],
   "source": [
    "# define the model\n",
    "RF_model = RandomForestRegressor(n_estimators=10, criterion='squared_error',random_state=1, n_jobs=-1)\n",
    "\n",
    "RF_model.fit(X_train, y_train) "
   ]
  },
  {
   "cell_type": "code",
   "execution_count": 42,
   "id": "d28c4e76",
   "metadata": {},
   "outputs": [
    {
     "name": "stdout",
     "output_type": "stream",
     "text": [
      "Bagging with Random Forest ==> Predicted values of y:\n",
      "\n",
      "[2506.20436 2788.43698 2970.06722 ...  636.10532 2425.24308 1665.4987 ]\n"
     ]
    }
   ],
   "source": [
    "#predict the values\n",
    "y_pred_RF = RF_model.predict(X_test)\n",
    "\n",
    "print('Bagging with Random Forest ==> Predicted values of y:\\n', y_pred_RF, sep='\\n')"
   ]
  },
  {
   "cell_type": "markdown",
   "id": "a22cff5b",
   "metadata": {},
   "source": [
    "### Evaluation"
   ]
  },
  {
   "cell_type": "code",
   "execution_count": 74,
   "id": "a7aec537",
   "metadata": {},
   "outputs": [
    {
     "name": "stdout",
     "output_type": "stream",
     "text": [
      "R-Squared on train dataset=0.8589400692259805\n",
      "R-Squared on test dataset=0.161078604038718\n",
      "\n",
      "-------------------------------------------------------------------------\n",
      "\n",
      "Mean Squared Error: 1208982.1172058417\n",
      "Root Mean Squared Error: 1099.5372286584213\n"
     ]
    }
   ],
   "source": [
    "#the accuracy of training and testing dataset\n",
    "\n",
    "train_RF = RF_model.score(X_train,y_train)\n",
    "test_RF = RF_model.score(X_test,y_test)\n",
    "\n",
    "print(\"R-Squared on train dataset={}\".format(train_RF))\n",
    "print(\"R-Squared on test dataset={}\".format(test_RF))\n",
    "\n",
    "print(\"\\n-------------------------------------------------------------------------\")\n",
    "\n",
    "#MSE and RMSE value\n",
    "MSE_RF = mean_squared_error(y_test,y_pred_RF)\n",
    "RMSE_RF = mean_squared_error(y_test,y_pred_RF, squared=False)\n",
    "\n",
    "print('\\nMean Squared Error:', MSE_RF) \n",
    "print('Root Mean Squared Error:', RMSE_RF) "
   ]
  },
  {
   "cell_type": "markdown",
   "id": "3a055686",
   "metadata": {},
   "source": [
    "For bagging with random forest, R-Squared value of training and testing data set is not same"
   ]
  },
  {
   "cell_type": "markdown",
   "id": "37da3fbb",
   "metadata": {},
   "source": [
    "### Plot original and predicted sales value¶"
   ]
  },
  {
   "cell_type": "code",
   "execution_count": 67,
   "id": "cdec8e4e",
   "metadata": {},
   "outputs": [
    {
     "data": {
      "text/html": [
       "<div>\n",
       "<style scoped>\n",
       "    .dataframe tbody tr th:only-of-type {\n",
       "        vertical-align: middle;\n",
       "    }\n",
       "\n",
       "    .dataframe tbody tr th {\n",
       "        vertical-align: top;\n",
       "    }\n",
       "\n",
       "    .dataframe thead th {\n",
       "        text-align: right;\n",
       "    }\n",
       "</style>\n",
       "<table border=\"1\" class=\"dataframe\">\n",
       "  <thead>\n",
       "    <tr style=\"text-align: right;\">\n",
       "      <th></th>\n",
       "      <th>Actual</th>\n",
       "      <th>Predicted</th>\n",
       "    </tr>\n",
       "  </thead>\n",
       "  <tbody>\n",
       "    <tr>\n",
       "      <th>9598</th>\n",
       "      <td>1794.3310</td>\n",
       "      <td>3617.75746</td>\n",
       "    </tr>\n",
       "    <tr>\n",
       "      <th>5664</th>\n",
       "      <td>5086.7120</td>\n",
       "      <td>3034.64982</td>\n",
       "    </tr>\n",
       "    <tr>\n",
       "      <th>11586</th>\n",
       "      <td>1794.3310</td>\n",
       "      <td>1719.89456</td>\n",
       "    </tr>\n",
       "    <tr>\n",
       "      <th>1807</th>\n",
       "      <td>120.5098</td>\n",
       "      <td>837.64298</td>\n",
       "    </tr>\n",
       "    <tr>\n",
       "      <th>8918</th>\n",
       "      <td>1794.3310</td>\n",
       "      <td>2420.58248</td>\n",
       "    </tr>\n",
       "  </tbody>\n",
       "</table>\n",
       "</div>"
      ],
      "text/plain": [
       "          Actual   Predicted\n",
       "9598   1794.3310  3617.75746\n",
       "5664   5086.7120  3034.64982\n",
       "11586  1794.3310  1719.89456\n",
       "1807    120.5098   837.64298\n",
       "8918   1794.3310  2420.58248"
      ]
     },
     "execution_count": 67,
     "metadata": {},
     "output_type": "execute_result"
    }
   ],
   "source": [
    "#Prediction on test data: Linear Regression\n",
    "\n",
    "df_RF_test = pd.DataFrame({\"Actual\": y_test, \"Predicted\": y_pred_RF})\n",
    "df_RF_test.sample(5, random_state=1)"
   ]
  },
  {
   "cell_type": "code",
   "execution_count": 68,
   "id": "b02731fc",
   "metadata": {},
   "outputs": [
    {
     "data": {
      "text/plain": [
       "<seaborn.axisgrid.FacetGrid at 0x18a266df970>"
      ]
     },
     "execution_count": 68,
     "metadata": {},
     "output_type": "execute_result"
    },
    {
     "data": {
      "image/png": "[encoded data removed]",
      "text/plain": [
       "<Figure size 360x360 with 1 Axes>"
      ]
     },
     "metadata": {
      "needs_background": "light"
     },
     "output_type": "display_data"
    }
   ],
   "source": [
    "sns.lmplot(data=df_RF_test, x=\"Actual\", y=\"Predicted\")"
   ]
  },
  {
   "cell_type": "markdown",
   "id": "83cde06d",
   "metadata": {},
   "source": [
    "## Model 3: Boosting using Adaboost"
   ]
  },
  {
   "cell_type": "code",
   "execution_count": 45,
   "id": "64fa7b0e",
   "metadata": {},
   "outputs": [],
   "source": [
    "from sklearn.ensemble import AdaBoostRegressor"
   ]
  },
  {
   "cell_type": "code",
   "execution_count": 46,
   "id": "d550976f",
   "metadata": {},
   "outputs": [
    {
     "data": {
      "text/plain": [
       "AdaBoostRegressor(n_estimators=100, random_state=0)"
      ]
     },
     "execution_count": 46,
     "metadata": {},
     "output_type": "execute_result"
    }
   ],
   "source": [
    "# define the model\n",
    "Ada_model = AdaBoostRegressor(random_state=0, n_estimators=100)\n",
    "\n",
    "Ada_model.fit(X_train, y_train) "
   ]
  },
  {
   "cell_type": "code",
   "execution_count": 47,
   "id": "8832509d",
   "metadata": {},
   "outputs": [
    {
     "name": "stdout",
     "output_type": "stream",
     "text": [
      "Stacking ==> Predicted values of y:\n",
      "\n",
      "[3109.8935622  3108.0068895  3108.0068895  ...  764.4837507  1911.31071329\n",
      " 1676.23846545]\n"
     ]
    }
   ],
   "source": [
    "#predict the values\n",
    "\n",
    "y_pred_ada = Ada_model.predict(X_test)\n",
    "print('Stacking ==> Predicted values of y:\\n', y_pred_ada, sep='\\n')"
   ]
  },
  {
   "cell_type": "markdown",
   "id": "1e03cb8e",
   "metadata": {},
   "source": [
    "### Evaluation"
   ]
  },
  {
   "cell_type": "code",
   "execution_count": 75,
   "id": "a5ed7754",
   "metadata": {},
   "outputs": [
    {
     "name": "stdout",
     "output_type": "stream",
     "text": [
      "R-Squared on train dataset=0.30192548319489054\n",
      "R-Squared on test dataset=0.27072315812239434\n",
      "\n",
      "-------------------------------------------------------------------------\n",
      "\n",
      "Mean Squared Error: 1050971.71745405\n",
      "Root Mean Squared Error: 1025.169116513978\n"
     ]
    }
   ],
   "source": [
    "\n",
    "#the accuracy of training and testing dataset\n",
    "train_ada = Ada_model.score(X_train,y_train)\n",
    "test_ada = Ada_model.score(X_test,y_test)\n",
    "print(\"R-Squared on train dataset={}\".format(train_ada))\n",
    "print(\"R-Squared on test dataset={}\".format(test_ada))\n",
    "\n",
    "print(\"\\n-------------------------------------------------------------------------\")\n",
    "\n",
    "#MSE and RMSE value\n",
    "MSE_ada = mean_squared_error(y_test,y_pred_ada)\n",
    "RMSE_ada = mean_squared_error(y_test,y_pred_ada, squared=False)\n",
    "\n",
    "print('\\nMean Squared Error:', MSE_ada) \n",
    "print('Root Mean Squared Error:', RMSE_ada) "
   ]
  },
  {
   "cell_type": "markdown",
   "id": "68d11e50",
   "metadata": {},
   "source": [
    "### Plot original and predicted sales value¶"
   ]
  },
  {
   "cell_type": "code",
   "execution_count": 69,
   "id": "7974bb63",
   "metadata": {},
   "outputs": [
    {
     "data": {
      "text/html": [
       "<div>\n",
       "<style scoped>\n",
       "    .dataframe tbody tr th:only-of-type {\n",
       "        vertical-align: middle;\n",
       "    }\n",
       "\n",
       "    .dataframe tbody tr th {\n",
       "        vertical-align: top;\n",
       "    }\n",
       "\n",
       "    .dataframe thead th {\n",
       "        text-align: right;\n",
       "    }\n",
       "</style>\n",
       "<table border=\"1\" class=\"dataframe\">\n",
       "  <thead>\n",
       "    <tr style=\"text-align: right;\">\n",
       "      <th></th>\n",
       "      <th>Actual</th>\n",
       "      <th>Predicted</th>\n",
       "    </tr>\n",
       "  </thead>\n",
       "  <tbody>\n",
       "    <tr>\n",
       "      <th>9598</th>\n",
       "      <td>1794.3310</td>\n",
       "      <td>3299.463905</td>\n",
       "    </tr>\n",
       "    <tr>\n",
       "      <th>5664</th>\n",
       "      <td>5086.7120</td>\n",
       "      <td>3287.901484</td>\n",
       "    </tr>\n",
       "    <tr>\n",
       "      <th>11586</th>\n",
       "      <td>1794.3310</td>\n",
       "      <td>1746.047098</td>\n",
       "    </tr>\n",
       "    <tr>\n",
       "      <th>1807</th>\n",
       "      <td>120.5098</td>\n",
       "      <td>961.602405</td>\n",
       "    </tr>\n",
       "    <tr>\n",
       "      <th>8918</th>\n",
       "      <td>1794.3310</td>\n",
       "      <td>2494.184828</td>\n",
       "    </tr>\n",
       "  </tbody>\n",
       "</table>\n",
       "</div>"
      ],
      "text/plain": [
       "          Actual    Predicted\n",
       "9598   1794.3310  3299.463905\n",
       "5664   5086.7120  3287.901484\n",
       "11586  1794.3310  1746.047098\n",
       "1807    120.5098   961.602405\n",
       "8918   1794.3310  2494.184828"
      ]
     },
     "execution_count": 69,
     "metadata": {},
     "output_type": "execute_result"
    }
   ],
   "source": [
    "#Prediction on test data: Linear Regression\n",
    "\n",
    "df_ada_test = pd.DataFrame({\"Actual\": y_test, \"Predicted\": y_pred_ada})\n",
    "df_ada_test.sample(5, random_state=1)"
   ]
  },
  {
   "cell_type": "code",
   "execution_count": 70,
   "id": "2fc24224",
   "metadata": {},
   "outputs": [
    {
     "data": {
      "text/plain": [
       "<seaborn.axisgrid.FacetGrid at 0x18a26305970>"
      ]
     },
     "execution_count": 70,
     "metadata": {},
     "output_type": "execute_result"
    },
    {
     "data": {
      "image/png": "[encoded data removed]",
      "text/plain": [
       "<Figure size 360x360 with 1 Axes>"
      ]
     },
     "metadata": {
      "needs_background": "light"
     },
     "output_type": "display_data"
    }
   ],
   "source": [
    "sns.lmplot(data=df_ada_test, x=\"Actual\", y=\"Predicted\")"
   ]
  },
  {
   "cell_type": "markdown",
   "id": "99a9d40e",
   "metadata": {},
   "source": [
    "## Model 4: Stacking"
   ]
  },
  {
   "cell_type": "code",
   "execution_count": 49,
   "id": "ef7e9918",
   "metadata": {},
   "outputs": [],
   "source": [
    "# required Python libraries\n",
    "from sklearn.neighbors import KNeighborsRegressor\n",
    "from sklearn.tree import DecisionTreeRegressor\n",
    "from sklearn.svm import SVR\n",
    "from sklearn.ensemble import StackingRegressor"
   ]
  },
  {
   "cell_type": "code",
   "execution_count": 50,
   "id": "19414b6d",
   "metadata": {},
   "outputs": [],
   "source": [
    "def get_stacking():\n",
    "\n",
    "# define the base models\n",
    "\n",
    "    level0 = list()\n",
    "    level0.append(('knn', KNeighborsRegressor()))\n",
    "    level0.append(('cart', DecisionTreeRegressor()))\n",
    "    level0.append(('svm', SVR()))\n",
    "\n",
    "# define meta learner model\n",
    "\n",
    "    level1 = LinearRegression()\n",
    "\n",
    "# define the stacking ensemble\n",
    "    stck_model = StackingRegressor(estimators=level0, final_estimator=level1)\n",
    "    return stck_model"
   ]
  },
  {
   "cell_type": "code",
   "execution_count": 52,
   "id": "764614b3",
   "metadata": {},
   "outputs": [
    {
     "data": {
      "text/plain": [
       "StackingRegressor(estimators=[('knn', KNeighborsRegressor()),\n",
       "                              ('cart', DecisionTreeRegressor()),\n",
       "                              ('svm', SVR())],\n",
       "                  final_estimator=LinearRegression())"
      ]
     },
     "execution_count": 52,
     "metadata": {},
     "output_type": "execute_result"
    }
   ],
   "source": [
    "# define the model\n",
    "model_stack = get_stacking()\n",
    "\n",
    "model_stack.fit(X_train, y_train)"
   ]
  },
  {
   "cell_type": "code",
   "execution_count": 53,
   "id": "f39a2023",
   "metadata": {},
   "outputs": [
    {
     "name": "stdout",
     "output_type": "stream",
     "text": [
      "Stacking ==> Predicted values of y:\n",
      "\n",
      "[2471.50432046 2506.44347753 2660.7495396  ...  511.87382937 1946.36934413\n",
      " 1626.49607199]\n"
     ]
    }
   ],
   "source": [
    "#predict the values\n",
    "y_pred_stck = model_stack.predict(X_test)\n",
    "\n",
    "print('Stacking ==> Predicted values of y:\\n', y_pred_stck, sep='\\n')"
   ]
  },
  {
   "cell_type": "markdown",
   "id": "495af21a",
   "metadata": {},
   "source": [
    "### Evaluation"
   ]
  },
  {
   "cell_type": "code",
   "execution_count": 77,
   "id": "8febdc85",
   "metadata": {},
   "outputs": [
    {
     "name": "stdout",
     "output_type": "stream",
     "text": [
      "R-Squared on train dataset=0.5143346824823514\n",
      "R-Squared on test dataset=0.26714517550763706\n",
      "\n",
      "-------------------------------------------------------------------------\n",
      "\n",
      "Mean Squared Error: 1056128.0014846392\n",
      "Root Mean Squared Error: 1027.6808850439124\n"
     ]
    }
   ],
   "source": [
    "#the accuracy of training and testing dataset\n",
    "\n",
    "train_stck = model_stack.score(X_train,y_train)\n",
    "test_stck = model_stack.score(X_test,y_test)\n",
    "\n",
    "print(\"R-Squared on train dataset={}\".format(train_stck))\n",
    "print(\"R-Squared on test dataset={}\".format(test_stck))\n",
    "\n",
    "print(\"\\n-------------------------------------------------------------------------\")\n",
    "\n",
    "#MSE and RMSE value\n",
    "MSE_stck = mean_squared_error(y_test,y_pred_stck)\n",
    "RMSE_stck = mean_squared_error(y_test,y_pred_stck, squared=False)\n",
    "\n",
    "print('\\nMean Squared Error:', MSE_stck) \n",
    "print('Root Mean Squared Error:', RMSE_stck) "
   ]
  },
  {
   "cell_type": "markdown",
   "id": "76b8794a",
   "metadata": {},
   "source": [
    "### Plot original and predicted sales value¶"
   ]
  },
  {
   "cell_type": "code",
   "execution_count": 71,
   "id": "e382cb63",
   "metadata": {},
   "outputs": [
    {
     "data": {
      "text/html": [
       "<div>\n",
       "<style scoped>\n",
       "    .dataframe tbody tr th:only-of-type {\n",
       "        vertical-align: middle;\n",
       "    }\n",
       "\n",
       "    .dataframe tbody tr th {\n",
       "        vertical-align: top;\n",
       "    }\n",
       "\n",
       "    .dataframe thead th {\n",
       "        text-align: right;\n",
       "    }\n",
       "</style>\n",
       "<table border=\"1\" class=\"dataframe\">\n",
       "  <thead>\n",
       "    <tr style=\"text-align: right;\">\n",
       "      <th></th>\n",
       "      <th>Actual</th>\n",
       "      <th>Predicted</th>\n",
       "    </tr>\n",
       "  </thead>\n",
       "  <tbody>\n",
       "    <tr>\n",
       "      <th>9598</th>\n",
       "      <td>1794.3310</td>\n",
       "      <td>3233.715264</td>\n",
       "    </tr>\n",
       "    <tr>\n",
       "      <th>5664</th>\n",
       "      <td>5086.7120</td>\n",
       "      <td>3586.672900</td>\n",
       "    </tr>\n",
       "    <tr>\n",
       "      <th>11586</th>\n",
       "      <td>1794.3310</td>\n",
       "      <td>1749.919280</td>\n",
       "    </tr>\n",
       "    <tr>\n",
       "      <th>1807</th>\n",
       "      <td>120.5098</td>\n",
       "      <td>1365.682262</td>\n",
       "    </tr>\n",
       "    <tr>\n",
       "      <th>8918</th>\n",
       "      <td>1794.3310</td>\n",
       "      <td>2219.726479</td>\n",
       "    </tr>\n",
       "  </tbody>\n",
       "</table>\n",
       "</div>"
      ],
      "text/plain": [
       "          Actual    Predicted\n",
       "9598   1794.3310  3233.715264\n",
       "5664   5086.7120  3586.672900\n",
       "11586  1794.3310  1749.919280\n",
       "1807    120.5098  1365.682262\n",
       "8918   1794.3310  2219.726479"
      ]
     },
     "execution_count": 71,
     "metadata": {},
     "output_type": "execute_result"
    }
   ],
   "source": [
    "#Prediction on test data: Linear Regression\n",
    "\n",
    "df_stck_test = pd.DataFrame({\"Actual\": y_test, \"Predicted\": y_pred_stck})\n",
    "df_stck_test.sample(5, random_state=1)"
   ]
  },
  {
   "cell_type": "code",
   "execution_count": 72,
   "id": "5007b9e2",
   "metadata": {},
   "outputs": [
    {
     "data": {
      "text/plain": [
       "<seaborn.axisgrid.FacetGrid at 0x18a267c3310>"
      ]
     },
     "execution_count": 72,
     "metadata": {},
     "output_type": "execute_result"
    },
    {
     "data": {
      "image/png": "[encoded data removed]",
      "text/plain": [
       "<Figure size 360x360 with 1 Axes>"
      ]
     },
     "metadata": {
      "needs_background": "light"
     },
     "output_type": "display_data"
    }
   ],
   "source": [
    "sns.lmplot(data=df_stck_test, x=\"Actual\", y=\"Predicted\")"
   ]
  },
  {
   "cell_type": "markdown",
   "id": "7d7d315e",
   "metadata": {},
   "source": [
    "## Evaluate the best model"
   ]
  },
  {
   "cell_type": "code",
   "execution_count": 87,
   "id": "4c883751",
   "metadata": {},
   "outputs": [
    {
     "name": "stdout",
     "output_type": "stream",
     "text": [
      "Linear Regression Model: R2 value on train data => 0.30 \n",
      "\n",
      "Bagging with Random Forest: R2 value on train data => 0.86 \n",
      "\n",
      "Boosting using Adaboost: R2 value on train data => 0.30 \n",
      "\n",
      "Stacking: R2 value on train data => 0.51 \n",
      "\n"
     ]
    }
   ],
   "source": [
    "print(\"Linear Regression Model: R2 value on train data =>\",'%.2f' % train_LR, \"\\n\")\n",
    "\n",
    "print(\"Bagging with Random Forest: R2 value on train data =>\",'%.2f' % train_RF,\"\\n\")\n",
    "\n",
    "print(\"Boosting using Adaboost: R2 value on train data =>\",'%.2f' % train_ada,\"\\n\")\n",
    "\n",
    "print(\"Stacking: R2 value on train data =>\",'%.2f' % train_stck,\"\\n\")"
   ]
  },
  {
   "cell_type": "code",
   "execution_count": 88,
   "id": "6670d375",
   "metadata": {},
   "outputs": [
    {
     "name": "stdout",
     "output_type": "stream",
     "text": [
      "Linear Regression Model: MSE value => 1038249.39 \n",
      "\n",
      "Bagging with Random Forest: MSE value => 1208982.12 \n",
      "\n",
      "Boosting using Adaboost: MSE value => 1050971.72 \n",
      "\n",
      "Stacking: MSE value => 1056128.00 \n",
      "\n"
     ]
    }
   ],
   "source": [
    "print(\"Linear Regression Model: MSE value =>\",'%.2f' % MSE_Reg, \"\\n\")\n",
    "\n",
    "print(\"Bagging with Random Forest: MSE value =>\",'%.2f' % MSE_RF,\"\\n\")\n",
    "\n",
    "print(\"Boosting using Adaboost: MSE value =>\",'%.2f' % MSE_ada,\"\\n\")\n",
    "\n",
    "print(\"Stacking: MSE value =>\",'%.2f' % MSE_stck,\"\\n\")"
   ]
  },
  {
   "cell_type": "code",
   "execution_count": 89,
   "id": "db6c1bd1",
   "metadata": {},
   "outputs": [
    {
     "name": "stdout",
     "output_type": "stream",
     "text": [
      "Linear Regression Model: RMSE Value => 1018.95 \n",
      "\n",
      "Bagging with Random Forest: RMSE Value => 1099.54 \n",
      "\n",
      "Boosting using Adaboost: RMSE Value => 1025.17 \n",
      "\n",
      "Stacking: RMSE Value => 1027.68 \n",
      "\n"
     ]
    }
   ],
   "source": [
    "print(\"Linear Regression Model: RMSE Value =>\",'%.2f' % RMSE_Reg, \"\\n\")\n",
    "\n",
    "print(\"Bagging with Random Forest: RMSE Value =>\",'%.2f' % RMSE_RF,\"\\n\")\n",
    "\n",
    "print(\"Boosting using Adaboost: RMSE Value =>\",'%.2f' % RMSE_ada,\"\\n\")\n",
    "\n",
    "print(\"Stacking: RMSE Value =>\",'%.2f' % RMSE_stck,\"\\n\")"
   ]
  },
  {
   "cell_type": "markdown",
   "id": "ec61aa75",
   "metadata": {},
   "source": [
    "##### Interpretation"
   ]
  },
  {
   "cell_type": "markdown",
   "id": "b41ec574",
   "metadata": {},
   "source": [
    "Bagging with Random Forest is the best model. The R2 score value of the model is highest value as compare to orther models"
   ]
  }
 ],
 "metadata": {
  "kernelspec": {
   "display_name": "Python 3 (ipykernel)",
   "language": "python",
   "name": "python3"
  },
  "language_info": {
   "codemirror_mode": {
    "name": "ipython",
    "version": 3
   },
   "file_extension": ".py",
   "mimetype": "text/x-python",
   "name": "python",
   "nbconvert_exporter": "python",
   "pygments_lexer": "ipython3",
   "version": "3.9.12"
  }
 },
 "nbformat": 4,
 "nbformat_minor": 5
}
