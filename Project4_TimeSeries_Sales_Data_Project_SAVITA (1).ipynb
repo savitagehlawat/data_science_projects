{
 "cells": [
  {
   "cell_type": "markdown",
   "id": "d14c5a55",
   "metadata": {},
   "source": [
    "# Project Title: Furniture Sales Forecast"
   ]
  },
  {
   "cell_type": "markdown",
   "id": "ff0a9a94",
   "metadata": {},
   "source": [
    "## Business Objective:\n",
    "\n",
    "Build a forecast model to predict the furniture sales of a certain store"
   ]
  },
  {
   "cell_type": "markdown",
   "id": "362da235",
   "metadata": {},
   "source": [
    "### Required libraries"
   ]
  },
  {
   "cell_type": "code",
   "execution_count": 108,
   "id": "450b8596",
   "metadata": {},
   "outputs": [],
   "source": [
    "# import libraries\n",
    "import pandas as pd\n",
    "import numpy as np\n",
    "import matplotlib.pyplot as plt\n",
    "\n",
    "from statsmodels.tsa.seasonal import seasonal_decompose\n",
    "\n",
    "# dickey fuller test for stationarity check\n",
    "from statsmodels.tsa.stattools import adfuller,acf,pacf\n",
    "\n",
    "from statsmodels.tsa.statespace.tools import diff\n",
    "\n",
    "from statsmodels.tsa.seasonal import seasonal_decompose\n",
    "\n",
    "# pip install pmdarima\n",
    "from pmdarima.arima import auto_arima\n",
    "\n",
    "from statsmodels.tsa.arima.model import ARIMA\n",
    "#SARIMAX model\n",
    "from statsmodels.tsa.statespace.sarimax import SARIMAX\n",
    "from statsmodels.graphics.tsaplots import plot_acf,plot_pacf\n",
    "\n",
    "from sklearn.metrics import mean_squared_error\n",
    "import statsmodels.api as sm\n",
    "\n",
    "from pandas.tseries.offsets import DateOffset\n",
    "\n",
    "import warnings\n",
    "warnings.filterwarnings('ignore')"
   ]
  },
  {
   "cell_type": "markdown",
   "id": "03881c0e",
   "metadata": {},
   "source": [
    "### Import data"
   ]
  },
  {
   "cell_type": "code",
   "execution_count": 5,
   "id": "a878c63e",
   "metadata": {},
   "outputs": [
    {
     "data": {
      "text/html": [
       "<div>\n",
       "<style scoped>\n",
       "    .dataframe tbody tr th:only-of-type {\n",
       "        vertical-align: middle;\n",
       "    }\n",
       "\n",
       "    .dataframe tbody tr th {\n",
       "        vertical-align: top;\n",
       "    }\n",
       "\n",
       "    .dataframe thead th {\n",
       "        text-align: right;\n",
       "    }\n",
       "</style>\n",
       "<table border=\"1\" class=\"dataframe\">\n",
       "  <thead>\n",
       "    <tr style=\"text-align: right;\">\n",
       "      <th></th>\n",
       "      <th>Row ID</th>\n",
       "      <th>Order ID</th>\n",
       "      <th>Order Date</th>\n",
       "      <th>Ship Date</th>\n",
       "      <th>Ship Mode</th>\n",
       "      <th>Customer ID</th>\n",
       "      <th>Customer Name</th>\n",
       "      <th>Segment</th>\n",
       "      <th>Country</th>\n",
       "      <th>City</th>\n",
       "      <th>...</th>\n",
       "      <th>Postal Code</th>\n",
       "      <th>Region</th>\n",
       "      <th>Product ID</th>\n",
       "      <th>Category</th>\n",
       "      <th>Sub-Category</th>\n",
       "      <th>Product Name</th>\n",
       "      <th>Sales</th>\n",
       "      <th>Quantity</th>\n",
       "      <th>Discount</th>\n",
       "      <th>Profit</th>\n",
       "    </tr>\n",
       "  </thead>\n",
       "  <tbody>\n",
       "    <tr>\n",
       "      <th>9992</th>\n",
       "      <td>9993</td>\n",
       "      <td>CA-2017-121258</td>\n",
       "      <td>2017-02-26</td>\n",
       "      <td>2017-03-03</td>\n",
       "      <td>Standard Class</td>\n",
       "      <td>DB-13060</td>\n",
       "      <td>Dave Brooks</td>\n",
       "      <td>Consumer</td>\n",
       "      <td>United States</td>\n",
       "      <td>Costa Mesa</td>\n",
       "      <td>...</td>\n",
       "      <td>92627</td>\n",
       "      <td>West</td>\n",
       "      <td>OFF-PA-10004041</td>\n",
       "      <td>Office Supplies</td>\n",
       "      <td>Paper</td>\n",
       "      <td>It's Hot Message Books with Stickers, 2 3/4\" x 5\"</td>\n",
       "      <td>29.60</td>\n",
       "      <td>4</td>\n",
       "      <td>0.0</td>\n",
       "      <td>13.320</td>\n",
       "    </tr>\n",
       "    <tr>\n",
       "      <th>9993</th>\n",
       "      <td>9994</td>\n",
       "      <td>CA-2017-119914</td>\n",
       "      <td>2017-05-04</td>\n",
       "      <td>2017-05-09</td>\n",
       "      <td>Second Class</td>\n",
       "      <td>CC-12220</td>\n",
       "      <td>Chris Cortes</td>\n",
       "      <td>Consumer</td>\n",
       "      <td>United States</td>\n",
       "      <td>Westminster</td>\n",
       "      <td>...</td>\n",
       "      <td>92683</td>\n",
       "      <td>West</td>\n",
       "      <td>OFF-AP-10002684</td>\n",
       "      <td>Office Supplies</td>\n",
       "      <td>Appliances</td>\n",
       "      <td>Acco 7-Outlet Masterpiece Power Center, Wihtou...</td>\n",
       "      <td>243.16</td>\n",
       "      <td>2</td>\n",
       "      <td>0.0</td>\n",
       "      <td>72.948</td>\n",
       "    </tr>\n",
       "  </tbody>\n",
       "</table>\n",
       "<p>2 rows × 21 columns</p>\n",
       "</div>"
      ],
      "text/plain": [
       "      Row ID        Order ID Order Date  Ship Date       Ship Mode  \\\n",
       "9992    9993  CA-2017-121258 2017-02-26 2017-03-03  Standard Class   \n",
       "9993    9994  CA-2017-119914 2017-05-04 2017-05-09    Second Class   \n",
       "\n",
       "     Customer ID Customer Name   Segment        Country         City  ...  \\\n",
       "9992    DB-13060   Dave Brooks  Consumer  United States   Costa Mesa  ...   \n",
       "9993    CC-12220  Chris Cortes  Consumer  United States  Westminster  ...   \n",
       "\n",
       "     Postal Code  Region       Product ID         Category Sub-Category  \\\n",
       "9992       92627    West  OFF-PA-10004041  Office Supplies        Paper   \n",
       "9993       92683    West  OFF-AP-10002684  Office Supplies   Appliances   \n",
       "\n",
       "                                           Product Name   Sales  Quantity  \\\n",
       "9992  It's Hot Message Books with Stickers, 2 3/4\" x 5\"   29.60         4   \n",
       "9993  Acco 7-Outlet Masterpiece Power Center, Wihtou...  243.16         2   \n",
       "\n",
       "      Discount  Profit  \n",
       "9992       0.0  13.320  \n",
       "9993       0.0  72.948  \n",
       "\n",
       "[2 rows x 21 columns]"
      ]
     },
     "execution_count": 5,
     "metadata": {},
     "output_type": "execute_result"
    }
   ],
   "source": [
    "#read the dataset\n",
    "df = pd.read_excel(\"Proj4_TimeSeries_Sales_Data_Project.xls\")\n",
    "df.tail(2)"
   ]
  },
  {
   "cell_type": "markdown",
   "id": "e77f0051",
   "metadata": {},
   "source": [
    "### Data Prepration"
   ]
  },
  {
   "cell_type": "code",
   "execution_count": 6,
   "id": "ee0d874c",
   "metadata": {},
   "outputs": [
    {
     "data": {
      "text/plain": [
       "(9994, 21)"
      ]
     },
     "execution_count": 6,
     "metadata": {},
     "output_type": "execute_result"
    }
   ],
   "source": [
    "#the dimension of the data\n",
    "df.shape"
   ]
  },
  {
   "cell_type": "code",
   "execution_count": 13,
   "id": "e8d8d288",
   "metadata": {},
   "outputs": [
    {
     "name": "stdout",
     "output_type": "stream",
     "text": [
      "<class 'pandas.core.frame.DataFrame'>\n",
      "RangeIndex: 9994 entries, 0 to 9993\n",
      "Data columns (total 21 columns):\n",
      " #   Column         Non-Null Count  Dtype         \n",
      "---  ------         --------------  -----         \n",
      " 0   Row ID         9994 non-null   int64         \n",
      " 1   Order ID       9994 non-null   object        \n",
      " 2   Order Date     9994 non-null   datetime64[ns]\n",
      " 3   Ship Date      9994 non-null   datetime64[ns]\n",
      " 4   Ship Mode      9994 non-null   object        \n",
      " 5   Customer ID    9994 non-null   object        \n",
      " 6   Customer Name  9994 non-null   object        \n",
      " 7   Segment        9994 non-null   object        \n",
      " 8   Country        9994 non-null   object        \n",
      " 9   City           9994 non-null   object        \n",
      " 10  State          9994 non-null   object        \n",
      " 11  Postal Code    9994 non-null   int64         \n",
      " 12  Region         9994 non-null   object        \n",
      " 13  Product ID     9994 non-null   object        \n",
      " 14  Category       9994 non-null   object        \n",
      " 15  Sub-Category   9994 non-null   object        \n",
      " 16  Product Name   9994 non-null   object        \n",
      " 17  Sales          9994 non-null   float64       \n",
      " 18  Quantity       9994 non-null   int64         \n",
      " 19  Discount       9994 non-null   float64       \n",
      " 20  Profit         9994 non-null   float64       \n",
      "dtypes: datetime64[ns](2), float64(3), int64(3), object(13)\n",
      "memory usage: 1.6+ MB\n"
     ]
    }
   ],
   "source": [
    "#summary of the dataset\n",
    "df.info()"
   ]
  },
  {
   "cell_type": "code",
   "execution_count": 10,
   "id": "4cdab5bb",
   "metadata": {},
   "outputs": [
    {
     "data": {
      "text/html": [
       "<div>\n",
       "<style scoped>\n",
       "    .dataframe tbody tr th:only-of-type {\n",
       "        vertical-align: middle;\n",
       "    }\n",
       "\n",
       "    .dataframe tbody tr th {\n",
       "        vertical-align: top;\n",
       "    }\n",
       "\n",
       "    .dataframe thead th {\n",
       "        text-align: right;\n",
       "    }\n",
       "</style>\n",
       "<table border=\"1\" class=\"dataframe\">\n",
       "  <thead>\n",
       "    <tr style=\"text-align: right;\">\n",
       "      <th></th>\n",
       "      <th>Order ID</th>\n",
       "      <th>Ship Mode</th>\n",
       "      <th>Customer ID</th>\n",
       "      <th>Customer Name</th>\n",
       "      <th>Segment</th>\n",
       "      <th>Country</th>\n",
       "      <th>City</th>\n",
       "      <th>State</th>\n",
       "      <th>Region</th>\n",
       "      <th>Product ID</th>\n",
       "      <th>Category</th>\n",
       "      <th>Sub-Category</th>\n",
       "      <th>Product Name</th>\n",
       "    </tr>\n",
       "  </thead>\n",
       "  <tbody>\n",
       "    <tr>\n",
       "      <th>count</th>\n",
       "      <td>9994</td>\n",
       "      <td>9994</td>\n",
       "      <td>9994</td>\n",
       "      <td>9994</td>\n",
       "      <td>9994</td>\n",
       "      <td>9994</td>\n",
       "      <td>9994</td>\n",
       "      <td>9994</td>\n",
       "      <td>9994</td>\n",
       "      <td>9994</td>\n",
       "      <td>9994</td>\n",
       "      <td>9994</td>\n",
       "      <td>9994</td>\n",
       "    </tr>\n",
       "    <tr>\n",
       "      <th>unique</th>\n",
       "      <td>5009</td>\n",
       "      <td>4</td>\n",
       "      <td>793</td>\n",
       "      <td>793</td>\n",
       "      <td>3</td>\n",
       "      <td>1</td>\n",
       "      <td>531</td>\n",
       "      <td>49</td>\n",
       "      <td>4</td>\n",
       "      <td>1862</td>\n",
       "      <td>3</td>\n",
       "      <td>17</td>\n",
       "      <td>1850</td>\n",
       "    </tr>\n",
       "    <tr>\n",
       "      <th>top</th>\n",
       "      <td>CA-2017-100111</td>\n",
       "      <td>Standard Class</td>\n",
       "      <td>WB-21850</td>\n",
       "      <td>William Brown</td>\n",
       "      <td>Consumer</td>\n",
       "      <td>United States</td>\n",
       "      <td>New York City</td>\n",
       "      <td>California</td>\n",
       "      <td>West</td>\n",
       "      <td>OFF-PA-10001970</td>\n",
       "      <td>Office Supplies</td>\n",
       "      <td>Binders</td>\n",
       "      <td>Staple envelope</td>\n",
       "    </tr>\n",
       "    <tr>\n",
       "      <th>freq</th>\n",
       "      <td>14</td>\n",
       "      <td>5968</td>\n",
       "      <td>37</td>\n",
       "      <td>37</td>\n",
       "      <td>5191</td>\n",
       "      <td>9994</td>\n",
       "      <td>915</td>\n",
       "      <td>2001</td>\n",
       "      <td>3203</td>\n",
       "      <td>19</td>\n",
       "      <td>6026</td>\n",
       "      <td>1523</td>\n",
       "      <td>48</td>\n",
       "    </tr>\n",
       "  </tbody>\n",
       "</table>\n",
       "</div>"
      ],
      "text/plain": [
       "              Order ID       Ship Mode Customer ID  Customer Name   Segment  \\\n",
       "count             9994            9994        9994           9994      9994   \n",
       "unique            5009               4         793            793         3   \n",
       "top     CA-2017-100111  Standard Class    WB-21850  William Brown  Consumer   \n",
       "freq                14            5968          37             37      5191   \n",
       "\n",
       "              Country           City       State Region       Product ID  \\\n",
       "count            9994           9994        9994   9994             9994   \n",
       "unique              1            531          49      4             1862   \n",
       "top     United States  New York City  California   West  OFF-PA-10001970   \n",
       "freq             9994            915        2001   3203               19   \n",
       "\n",
       "               Category Sub-Category     Product Name  \n",
       "count              9994         9994             9994  \n",
       "unique                3           17             1850  \n",
       "top     Office Supplies      Binders  Staple envelope  \n",
       "freq               6026         1523               48  "
      ]
     },
     "execution_count": 10,
     "metadata": {},
     "output_type": "execute_result"
    }
   ],
   "source": [
    "#structure of dataset\n",
    "\n",
    "#category type variable\n",
    "\n",
    "df.describe(include = \"O\")"
   ]
  },
  {
   "cell_type": "code",
   "execution_count": 11,
   "id": "15f53ae3",
   "metadata": {},
   "outputs": [
    {
     "data": {
      "text/html": [
       "<div>\n",
       "<style scoped>\n",
       "    .dataframe tbody tr th:only-of-type {\n",
       "        vertical-align: middle;\n",
       "    }\n",
       "\n",
       "    .dataframe tbody tr th {\n",
       "        vertical-align: top;\n",
       "    }\n",
       "\n",
       "    .dataframe thead th {\n",
       "        text-align: right;\n",
       "    }\n",
       "</style>\n",
       "<table border=\"1\" class=\"dataframe\">\n",
       "  <thead>\n",
       "    <tr style=\"text-align: right;\">\n",
       "      <th></th>\n",
       "      <th>Sales</th>\n",
       "      <th>Discount</th>\n",
       "      <th>Profit</th>\n",
       "    </tr>\n",
       "  </thead>\n",
       "  <tbody>\n",
       "    <tr>\n",
       "      <th>count</th>\n",
       "      <td>9994.000000</td>\n",
       "      <td>9994.000000</td>\n",
       "      <td>9994.000000</td>\n",
       "    </tr>\n",
       "    <tr>\n",
       "      <th>mean</th>\n",
       "      <td>229.858001</td>\n",
       "      <td>0.156203</td>\n",
       "      <td>28.656896</td>\n",
       "    </tr>\n",
       "    <tr>\n",
       "      <th>std</th>\n",
       "      <td>623.245101</td>\n",
       "      <td>0.206452</td>\n",
       "      <td>234.260108</td>\n",
       "    </tr>\n",
       "    <tr>\n",
       "      <th>min</th>\n",
       "      <td>0.444000</td>\n",
       "      <td>0.000000</td>\n",
       "      <td>-6599.978000</td>\n",
       "    </tr>\n",
       "    <tr>\n",
       "      <th>25%</th>\n",
       "      <td>17.280000</td>\n",
       "      <td>0.000000</td>\n",
       "      <td>1.728750</td>\n",
       "    </tr>\n",
       "    <tr>\n",
       "      <th>50%</th>\n",
       "      <td>54.490000</td>\n",
       "      <td>0.200000</td>\n",
       "      <td>8.666500</td>\n",
       "    </tr>\n",
       "    <tr>\n",
       "      <th>75%</th>\n",
       "      <td>209.940000</td>\n",
       "      <td>0.200000</td>\n",
       "      <td>29.364000</td>\n",
       "    </tr>\n",
       "    <tr>\n",
       "      <th>max</th>\n",
       "      <td>22638.480000</td>\n",
       "      <td>0.800000</td>\n",
       "      <td>8399.976000</td>\n",
       "    </tr>\n",
       "  </tbody>\n",
       "</table>\n",
       "</div>"
      ],
      "text/plain": [
       "              Sales     Discount       Profit\n",
       "count   9994.000000  9994.000000  9994.000000\n",
       "mean     229.858001     0.156203    28.656896\n",
       "std      623.245101     0.206452   234.260108\n",
       "min        0.444000     0.000000 -6599.978000\n",
       "25%       17.280000     0.000000     1.728750\n",
       "50%       54.490000     0.200000     8.666500\n",
       "75%      209.940000     0.200000    29.364000\n",
       "max    22638.480000     0.800000  8399.976000"
      ]
     },
     "execution_count": 11,
     "metadata": {},
     "output_type": "execute_result"
    }
   ],
   "source": [
    "#numeric and continuous variable\n",
    "df.describe(include = 'float64')"
   ]
  },
  {
   "cell_type": "code",
   "execution_count": 14,
   "id": "6d0658b5",
   "metadata": {},
   "outputs": [
    {
     "data": {
      "text/html": [
       "<div>\n",
       "<style scoped>\n",
       "    .dataframe tbody tr th:only-of-type {\n",
       "        vertical-align: middle;\n",
       "    }\n",
       "\n",
       "    .dataframe tbody tr th {\n",
       "        vertical-align: top;\n",
       "    }\n",
       "\n",
       "    .dataframe thead th {\n",
       "        text-align: right;\n",
       "    }\n",
       "</style>\n",
       "<table border=\"1\" class=\"dataframe\">\n",
       "  <thead>\n",
       "    <tr style=\"text-align: right;\">\n",
       "      <th></th>\n",
       "      <th>Row ID</th>\n",
       "      <th>Postal Code</th>\n",
       "      <th>Quantity</th>\n",
       "    </tr>\n",
       "  </thead>\n",
       "  <tbody>\n",
       "    <tr>\n",
       "      <th>count</th>\n",
       "      <td>9994.000000</td>\n",
       "      <td>9994.000000</td>\n",
       "      <td>9994.000000</td>\n",
       "    </tr>\n",
       "    <tr>\n",
       "      <th>mean</th>\n",
       "      <td>4997.500000</td>\n",
       "      <td>55190.379428</td>\n",
       "      <td>3.789574</td>\n",
       "    </tr>\n",
       "    <tr>\n",
       "      <th>std</th>\n",
       "      <td>2885.163629</td>\n",
       "      <td>32063.693350</td>\n",
       "      <td>2.225110</td>\n",
       "    </tr>\n",
       "    <tr>\n",
       "      <th>min</th>\n",
       "      <td>1.000000</td>\n",
       "      <td>1040.000000</td>\n",
       "      <td>1.000000</td>\n",
       "    </tr>\n",
       "    <tr>\n",
       "      <th>25%</th>\n",
       "      <td>2499.250000</td>\n",
       "      <td>23223.000000</td>\n",
       "      <td>2.000000</td>\n",
       "    </tr>\n",
       "    <tr>\n",
       "      <th>50%</th>\n",
       "      <td>4997.500000</td>\n",
       "      <td>56430.500000</td>\n",
       "      <td>3.000000</td>\n",
       "    </tr>\n",
       "    <tr>\n",
       "      <th>75%</th>\n",
       "      <td>7495.750000</td>\n",
       "      <td>90008.000000</td>\n",
       "      <td>5.000000</td>\n",
       "    </tr>\n",
       "    <tr>\n",
       "      <th>max</th>\n",
       "      <td>9994.000000</td>\n",
       "      <td>99301.000000</td>\n",
       "      <td>14.000000</td>\n",
       "    </tr>\n",
       "  </tbody>\n",
       "</table>\n",
       "</div>"
      ],
      "text/plain": [
       "            Row ID   Postal Code     Quantity\n",
       "count  9994.000000   9994.000000  9994.000000\n",
       "mean   4997.500000  55190.379428     3.789574\n",
       "std    2885.163629  32063.693350     2.225110\n",
       "min       1.000000   1040.000000     1.000000\n",
       "25%    2499.250000  23223.000000     2.000000\n",
       "50%    4997.500000  56430.500000     3.000000\n",
       "75%    7495.750000  90008.000000     5.000000\n",
       "max    9994.000000  99301.000000    14.000000"
      ]
     },
     "execution_count": 14,
     "metadata": {},
     "output_type": "execute_result"
    }
   ],
   "source": [
    "#integer variable\n",
    "df.describe(include = 'int64')"
   ]
  },
  {
   "cell_type": "code",
   "execution_count": 17,
   "id": "ed02a2c9",
   "metadata": {},
   "outputs": [
    {
     "data": {
      "text/plain": [
       "Index(['Row ID', 'Order ID', 'Order Date', 'Ship Date', 'Ship Mode',\n",
       "       'Customer ID', 'Customer Name', 'Segment', 'Country', 'City', 'State',\n",
       "       'Postal Code', 'Region', 'Product ID', 'Category', 'Sub-Category',\n",
       "       'Product Name', 'Sales', 'Quantity', 'Discount', 'Profit'],\n",
       "      dtype='object')"
      ]
     },
     "execution_count": 17,
     "metadata": {},
     "output_type": "execute_result"
    }
   ],
   "source": [
    "#all columns\n",
    "df.columns"
   ]
  },
  {
   "cell_type": "code",
   "execution_count": 22,
   "id": "877418a1",
   "metadata": {},
   "outputs": [
    {
     "name": "stdout",
     "output_type": "stream",
     "text": [
      "Minimum time span: 2014-01-03 00:00:00\n",
      "Maximum time span: 2017-12-30 00:00:00\n"
     ]
    }
   ],
   "source": [
    "#the time span\n",
    "print(\"Minimum time span:\",df['Order Date'].min())\n",
    "\n",
    "print(\"Maximum time span:\", df['Order Date'].max())"
   ]
  },
  {
   "cell_type": "code",
   "execution_count": 23,
   "id": "fe1a793f",
   "metadata": {},
   "outputs": [],
   "source": [
    "#select the features\n",
    "furni_df = df[[\"Order Date\", \"Sales\"]]"
   ]
  },
  {
   "cell_type": "code",
   "execution_count": 26,
   "id": "a61b7bf4",
   "metadata": {},
   "outputs": [],
   "source": [
    "#sort the order date\n",
    "furni_df = furni_df.sort_values(\"Order Date\")"
   ]
  },
  {
   "cell_type": "code",
   "execution_count": 27,
   "id": "a0b2f324",
   "metadata": {},
   "outputs": [
    {
     "data": {
      "text/plain": [
       "Order Date    0\n",
       "Sales         0\n",
       "dtype: int64"
      ]
     },
     "execution_count": 27,
     "metadata": {},
     "output_type": "execute_result"
    }
   ],
   "source": [
    "#check missing values\n",
    "furni_df.isnull().sum()"
   ]
  },
  {
   "cell_type": "markdown",
   "id": "63dfe839",
   "metadata": {},
   "source": [
    "There is no missing value exists in the dataset"
   ]
  },
  {
   "cell_type": "code",
   "execution_count": 28,
   "id": "68beba42",
   "metadata": {},
   "outputs": [],
   "source": [
    "furni_df = furni_df.groupby(\"Order Date\")['Sales'].sum().reset_index()"
   ]
  },
  {
   "cell_type": "code",
   "execution_count": 29,
   "id": "a9b4e5b9",
   "metadata": {},
   "outputs": [
    {
     "data": {
      "text/html": [
       "<div>\n",
       "<style scoped>\n",
       "    .dataframe tbody tr th:only-of-type {\n",
       "        vertical-align: middle;\n",
       "    }\n",
       "\n",
       "    .dataframe tbody tr th {\n",
       "        vertical-align: top;\n",
       "    }\n",
       "\n",
       "    .dataframe thead th {\n",
       "        text-align: right;\n",
       "    }\n",
       "</style>\n",
       "<table border=\"1\" class=\"dataframe\">\n",
       "  <thead>\n",
       "    <tr style=\"text-align: right;\">\n",
       "      <th></th>\n",
       "      <th>Order Date</th>\n",
       "      <th>Sales</th>\n",
       "    </tr>\n",
       "  </thead>\n",
       "  <tbody>\n",
       "    <tr>\n",
       "      <th>0</th>\n",
       "      <td>2014-01-03</td>\n",
       "      <td>16.448</td>\n",
       "    </tr>\n",
       "    <tr>\n",
       "      <th>1</th>\n",
       "      <td>2014-01-04</td>\n",
       "      <td>288.060</td>\n",
       "    </tr>\n",
       "    <tr>\n",
       "      <th>2</th>\n",
       "      <td>2014-01-05</td>\n",
       "      <td>19.536</td>\n",
       "    </tr>\n",
       "    <tr>\n",
       "      <th>3</th>\n",
       "      <td>2014-01-06</td>\n",
       "      <td>4407.100</td>\n",
       "    </tr>\n",
       "    <tr>\n",
       "      <th>4</th>\n",
       "      <td>2014-01-07</td>\n",
       "      <td>87.158</td>\n",
       "    </tr>\n",
       "  </tbody>\n",
       "</table>\n",
       "</div>"
      ],
      "text/plain": [
       "  Order Date     Sales\n",
       "0 2014-01-03    16.448\n",
       "1 2014-01-04   288.060\n",
       "2 2014-01-05    19.536\n",
       "3 2014-01-06  4407.100\n",
       "4 2014-01-07    87.158"
      ]
     },
     "execution_count": 29,
     "metadata": {},
     "output_type": "execute_result"
    }
   ],
   "source": [
    "furni_df.head()"
   ]
  },
  {
   "cell_type": "code",
   "execution_count": 30,
   "id": "fe102669",
   "metadata": {},
   "outputs": [
    {
     "data": {
      "text/plain": [
       "DatetimeIndex(['2014-01-03', '2014-01-04', '2014-01-05', '2014-01-06',\n",
       "               '2014-01-07', '2014-01-09', '2014-01-10', '2014-01-11',\n",
       "               '2014-01-13', '2014-01-14',\n",
       "               ...\n",
       "               '2017-12-21', '2017-12-22', '2017-12-23', '2017-12-24',\n",
       "               '2017-12-25', '2017-12-26', '2017-12-27', '2017-12-28',\n",
       "               '2017-12-29', '2017-12-30'],\n",
       "              dtype='datetime64[ns]', name='Order Date', length=1237, freq=None)"
      ]
     },
     "execution_count": 30,
     "metadata": {},
     "output_type": "execute_result"
    }
   ],
   "source": [
    "#set order date as index\n",
    "\n",
    "furni_df.set_index(\"Order Date\", inplace = True)\n",
    "furni_df.index"
   ]
  },
  {
   "cell_type": "code",
   "execution_count": 31,
   "id": "ff59a50b",
   "metadata": {},
   "outputs": [
    {
     "data": {
      "text/html": [
       "<div>\n",
       "<style scoped>\n",
       "    .dataframe tbody tr th:only-of-type {\n",
       "        vertical-align: middle;\n",
       "    }\n",
       "\n",
       "    .dataframe tbody tr th {\n",
       "        vertical-align: top;\n",
       "    }\n",
       "\n",
       "    .dataframe thead th {\n",
       "        text-align: right;\n",
       "    }\n",
       "</style>\n",
       "<table border=\"1\" class=\"dataframe\">\n",
       "  <thead>\n",
       "    <tr style=\"text-align: right;\">\n",
       "      <th></th>\n",
       "      <th>Sales</th>\n",
       "    </tr>\n",
       "    <tr>\n",
       "      <th>Order Date</th>\n",
       "      <th></th>\n",
       "    </tr>\n",
       "  </thead>\n",
       "  <tbody>\n",
       "    <tr>\n",
       "      <th>2014-01-03</th>\n",
       "      <td>16.448</td>\n",
       "    </tr>\n",
       "    <tr>\n",
       "      <th>2014-01-04</th>\n",
       "      <td>288.060</td>\n",
       "    </tr>\n",
       "    <tr>\n",
       "      <th>2014-01-05</th>\n",
       "      <td>19.536</td>\n",
       "    </tr>\n",
       "    <tr>\n",
       "      <th>2014-01-06</th>\n",
       "      <td>4407.100</td>\n",
       "    </tr>\n",
       "    <tr>\n",
       "      <th>2014-01-07</th>\n",
       "      <td>87.158</td>\n",
       "    </tr>\n",
       "  </tbody>\n",
       "</table>\n",
       "</div>"
      ],
      "text/plain": [
       "               Sales\n",
       "Order Date          \n",
       "2014-01-03    16.448\n",
       "2014-01-04   288.060\n",
       "2014-01-05    19.536\n",
       "2014-01-06  4407.100\n",
       "2014-01-07    87.158"
      ]
     },
     "execution_count": 31,
     "metadata": {},
     "output_type": "execute_result"
    }
   ],
   "source": [
    "#final data\n",
    "\n",
    "furni_df.head()"
   ]
  },
  {
   "cell_type": "code",
   "execution_count": 48,
   "id": "ea3c98bd",
   "metadata": {},
   "outputs": [],
   "source": [
    "funi_sales = furni_df[[\"Sales\"]].resample('MS').mean() #MS mean Month Start"
   ]
  },
  {
   "cell_type": "markdown",
   "id": "ee29cdb6",
   "metadata": {},
   "source": [
    "### Visual Inspections of the data"
   ]
  },
  {
   "cell_type": "code",
   "execution_count": 50,
   "id": "b9cb45de",
   "metadata": {},
   "outputs": [
    {
     "data": {
      "image/png": "[encoded data removed]",
      "text/plain": [
       "<Figure size 720x504 with 1 Axes>"
      ]
     },
     "metadata": {
      "needs_background": "light"
     },
     "output_type": "display_data"
    }
   ],
   "source": [
    "funi_sales.plot(figsize=(10,7))\n",
    "plt.show()"
   ]
  },
  {
   "cell_type": "markdown",
   "id": "23ea26e6",
   "metadata": {},
   "source": [
    "### View all time series components"
   ]
  },
  {
   "cell_type": "code",
   "execution_count": 54,
   "id": "36620908",
   "metadata": {},
   "outputs": [
    {
     "data": {
      "image/png": "[encoded data removed]",
      "text/plain": [
       "<Figure size 432x288 with 4 Axes>"
      ]
     },
     "metadata": {
      "needs_background": "light"
     },
     "output_type": "display_data"
    }
   ],
   "source": [
    "# Check three distinct components: trend, seasonality,and noise\n",
    "seasonal_decompose(funi_sales).plot();"
   ]
  },
  {
   "cell_type": "markdown",
   "id": "2790b30f",
   "metadata": {},
   "source": [
    "From the above graph we find that data has trend and seasonality."
   ]
  },
  {
   "cell_type": "markdown",
   "id": "2321a87c",
   "metadata": {},
   "source": [
    "### Smooth the data by Moving Average"
   ]
  },
  {
   "cell_type": "code",
   "execution_count": 53,
   "id": "dfae8149",
   "metadata": {},
   "outputs": [
    {
     "name": "stdout",
     "output_type": "stream",
     "text": [
      "                  Sales\n",
      "Order Date             \n",
      "2014-01-01   647.131591\n",
      "2014-02-01   225.994600\n",
      "2014-03-01  2320.458708\n",
      "2014-04-01  1178.972708\n",
      "2014-05-01   844.581679\n"
     ]
    }
   ],
   "source": [
    "#Smooth train data\n",
    "f_sales =  funi_sales[['Sales']]\n",
    "print(f_sales.head())"
   ]
  },
  {
   "cell_type": "code",
   "execution_count": 59,
   "id": "1f0b3a01",
   "metadata": {},
   "outputs": [
    {
     "name": "stdout",
     "output_type": "stream",
     "text": [
      "                 actual           ma\n",
      "Order Date                          \n",
      "2014-01-01   647.131591          NaN\n",
      "2014-02-01   225.994600          NaN\n",
      "2014-03-01  2320.458708          NaN\n",
      "2014-04-01  1178.972708  1093.139402\n",
      "2014-05-01   844.581679  1142.501924\n"
     ]
    }
   ],
   "source": [
    "#took lag 4 as data is day wise\n",
    "lags = 4\n",
    "moving_avg = f_sales.rolling(window=lags).mean()\n",
    "\n",
    "#make a dataframe for actual and smooth data\n",
    "df_sales = pd.DataFrame({'actual':f_sales['Sales'], 'ma':moving_avg['Sales']})\n",
    "print(df_sales.head())"
   ]
  },
  {
   "cell_type": "code",
   "execution_count": 60,
   "id": "03d74f34",
   "metadata": {},
   "outputs": [
    {
     "data": {
      "image/png": "[encoded data removed]",
      "text/plain": [
       "<Figure size 432x288 with 1 Axes>"
      ]
     },
     "metadata": {
      "needs_background": "light"
     },
     "output_type": "display_data"
    }
   ],
   "source": [
    "# plot the actual and moving average for comparison\n",
    "plt.plot(df_sales.actual.dropna(), color='blue',label = 'Actual')\n",
    "plt.plot(df_sales.ma.dropna(), color='red', label = 'Moving Average')\n",
    "plt.title('Actual vs Moving Average for lags = ' + str(lags))\n",
    "plt.legend()\n",
    "plt.show()"
   ]
  },
  {
   "cell_type": "markdown",
   "id": "f2584411",
   "metadata": {},
   "source": [
    "Now, the data is smooth as compare to actual data."
   ]
  },
  {
   "cell_type": "markdown",
   "id": "227d0b47",
   "metadata": {},
   "source": [
    "### Check for data stationary"
   ]
  },
  {
   "cell_type": "code",
   "execution_count": 61,
   "id": "4b63dda2",
   "metadata": {},
   "outputs": [],
   "source": [
    "# dickey-fuller test for stationarity\n",
    "def checkStationarity(data):\n",
    "    pvalue = adfuller(data)[1]\n",
    "    if(pvalue>0.05):\n",
    "        msg = 'p-value={}. Data is not stationary'.format(pvalue)\n",
    "    else:\n",
    "        msg='p-value={}. Data is stationary'.format(pvalue)\n",
    "        \n",
    "    return(msg)"
   ]
  },
  {
   "cell_type": "code",
   "execution_count": 62,
   "id": "db7d0502",
   "metadata": {},
   "outputs": [
    {
     "data": {
      "text/plain": [
       "'p-value=6.572451076431882e-05. Data is stationary'"
      ]
     },
     "execution_count": 62,
     "metadata": {},
     "output_type": "execute_result"
    }
   ],
   "source": [
    "# check the data for stationarity\n",
    "ret=checkStationarity(funi_sales); \n",
    "ret"
   ]
  },
  {
   "cell_type": "markdown",
   "id": "581cb29d",
   "metadata": {},
   "source": [
    "Data is stationary, we can build a model"
   ]
  },
  {
   "cell_type": "markdown",
   "id": "e8e9afc6",
   "metadata": {},
   "source": [
    "### Plot ACF and PACF"
   ]
  },
  {
   "cell_type": "code",
   "execution_count": 64,
   "id": "56acf9c8",
   "metadata": {},
   "outputs": [
    {
     "data": {
      "image/png": "[encoded data removed]",
      "text/plain": [
       "<Figure size 432x288 with 2 Axes>"
      ]
     },
     "metadata": {
      "needs_background": "light"
     },
     "output_type": "display_data"
    }
   ],
   "source": [
    "# p -> PACF (partial autocorrelation graph)\n",
    "# q -> ACF (auto correlation graph)\n",
    "# d -> differential level (from top)\n",
    "\n",
    "# since, lags cannot be determined at the beginning, set a random number initially\n",
    "lag_acf = acf(funi_sales.dropna(), nlags=22)\n",
    "lag_pacf = pacf(funi_sales.dropna(), nlags=22, method='ols')\n",
    "\n",
    "# plot PACF (p)\n",
    "plt.subplot(121)\n",
    "plt.plot(lag_pacf)\n",
    "plt.axhline(y=0,linestyle='--',color=\"gray\")\n",
    "plt.axhline(y=-1.96/np.sqrt(len(funi_sales)),linestyle='--',color=\"gray\")\n",
    "plt.axhline(y=1.96/np.sqrt(len(funi_sales)),linestyle='--',color=\"gray\")\n",
    "plt.title(\"Partial AutoCorrelation\")\n",
    "\n",
    "# plot ACF (q)\n",
    "plt.subplot(122)\n",
    "plt.plot(lag_acf)\n",
    "plt.axhline(y=0,linestyle='--',color=\"gray\")\n",
    "plt.axhline(y=-1.96/np.sqrt(len(funi_sales)),linestyle='--',color=\"gray\")\n",
    "plt.axhline(y=1.96/np.sqrt(len(funi_sales)),linestyle='--',color=\"gray\")\n",
    "plt.title(\"AutoCorrelation\")\n",
    "\n",
    "plt.tight_layout()"
   ]
  },
  {
   "cell_type": "markdown",
   "id": "4996bf67",
   "metadata": {},
   "source": [
    "### Auto ARIMA for selection of p, d, q"
   ]
  },
  {
   "cell_type": "code",
   "execution_count": 65,
   "id": "9697859f",
   "metadata": {},
   "outputs": [
    {
     "name": "stdout",
     "output_type": "stream",
     "text": [
      "Performing stepwise search to minimize aic\n",
      " ARIMA(0,1,0)(0,0,0)[0] intercept   : AIC=779.541, Time=0.85 sec\n",
      " ARIMA(1,1,0)(0,0,0)[0] intercept   : AIC=770.546, Time=0.03 sec\n",
      " ARIMA(0,1,1)(0,0,0)[0] intercept   : AIC=inf, Time=0.12 sec\n",
      " ARIMA(0,1,0)(0,0,0)[0]             : AIC=777.666, Time=0.01 sec\n",
      " ARIMA(2,1,0)(0,0,0)[0] intercept   : AIC=766.202, Time=0.07 sec\n",
      " ARIMA(2,1,1)(0,0,0)[0] intercept   : AIC=768.235, Time=0.05 sec\n",
      " ARIMA(1,1,1)(0,0,0)[0] intercept   : AIC=inf, Time=0.10 sec\n",
      " ARIMA(2,1,0)(0,0,0)[0]             : AIC=765.108, Time=0.03 sec\n",
      " ARIMA(1,1,0)(0,0,0)[0]             : AIC=769.040, Time=0.02 sec\n",
      " ARIMA(2,1,1)(0,0,0)[0]             : AIC=766.995, Time=0.03 sec\n",
      " ARIMA(1,1,1)(0,0,0)[0]             : AIC=764.768, Time=0.04 sec\n",
      " ARIMA(0,1,1)(0,0,0)[0]             : AIC=763.460, Time=0.02 sec\n",
      " ARIMA(0,1,2)(0,0,0)[0]             : AIC=764.874, Time=0.04 sec\n",
      " ARIMA(1,1,2)(0,0,0)[0]             : AIC=766.816, Time=0.03 sec\n",
      "\n",
      "Best model:  ARIMA(0,1,1)(0,0,0)[0]          \n",
      "Total fit time: 1.651 seconds\n",
      "                               SARIMAX Results                                \n",
      "==============================================================================\n",
      "Dep. Variable:                      y   No. Observations:                   48\n",
      "Model:               SARIMAX(0, 1, 1)   Log Likelihood                -379.730\n",
      "Date:                Fri, 25 Nov 2022   AIC                            763.460\n",
      "Time:                        11:48:39   BIC                            767.161\n",
      "Sample:                    01-01-2014   HQIC                           764.853\n",
      "                         - 12-01-2017                                         \n",
      "Covariance Type:                  opg                                         \n",
      "==============================================================================\n",
      "                 coef    std err          z      P>|z|      [0.025      0.975]\n",
      "------------------------------------------------------------------------------\n",
      "ma.L1         -0.7090      0.114     -6.233      0.000      -0.932      -0.486\n",
      "sigma2      6.002e+05   1.33e+05      4.510      0.000    3.39e+05    8.61e+05\n",
      "===================================================================================\n",
      "Ljung-Box (L1) (Q):                   0.01   Jarque-Bera (JB):                 0.92\n",
      "Prob(Q):                              0.92   Prob(JB):                         0.63\n",
      "Heteroskedasticity (H):               1.00   Skew:                             0.26\n",
      "Prob(H) (two-sided):                  1.00   Kurtosis:                         2.55\n",
      "===================================================================================\n",
      "\n",
      "Warnings:\n",
      "[1] Covariance matrix calculated using the outer product of gradients (complex-step).\n"
     ]
    }
   ],
   "source": [
    "# auto ARIMA (to help in the selection of p,d,q)\n",
    "auto_arima = auto_arima(funi_sales[\"Sales\"],start_p=0,max_p=2, start_q=0,max_q=2, seasonal=False, trace=True)\n",
    "print(auto_arima.summary())"
   ]
  },
  {
   "cell_type": "markdown",
   "id": "0df6afe1",
   "metadata": {},
   "source": [
    "The lowest AIC = 763.460\n",
    "\n",
    "Best model:  ARIMA(0,1,1)(0,0,0)[0]  \n",
    "\n",
    "hence, p = 0, d=1, q=1"
   ]
  },
  {
   "cell_type": "markdown",
   "id": "6891bc44",
   "metadata": {},
   "source": [
    "### Split the data into train and test¶"
   ]
  },
  {
   "cell_type": "code",
   "execution_count": 66,
   "id": "5d912afa",
   "metadata": {},
   "outputs": [
    {
     "name": "stdout",
     "output_type": "stream",
     "text": [
      "train = 33, test = 15\n"
     ]
    }
   ],
   "source": [
    "# split the data into train and test\n",
    "ss = int(0.7*len(funi_sales))\n",
    "\n",
    "train = funi_sales.iloc[:ss]\n",
    "test = funi_sales.iloc[ss:]\n",
    "print(\"train = {}, test = {}\".format(len(train), len(test)))"
   ]
  },
  {
   "cell_type": "markdown",
   "id": "7c410315",
   "metadata": {},
   "source": [
    "## Model 1: The ARIMA Model"
   ]
  },
  {
   "cell_type": "code",
   "execution_count": 68,
   "id": "5cff33c8",
   "metadata": {},
   "outputs": [],
   "source": [
    "#Define model\n",
    "\n",
    "# the values for p and q based on auto_arima recommendation\n",
    "#Best model: ARIMA(0,1,1)\n",
    "p=0; d=1; q=1\n",
    "model_arima = ARIMA(funi_sales[\"Sales\"],order=(p,d,q)).fit()"
   ]
  },
  {
   "cell_type": "code",
   "execution_count": 69,
   "id": "053d0a74",
   "metadata": {},
   "outputs": [
    {
     "name": "stdout",
     "output_type": "stream",
     "text": [
      "                               SARIMAX Results                                \n",
      "==============================================================================\n",
      "Dep. Variable:                  Sales   No. Observations:                   48\n",
      "Model:                 ARIMA(0, 1, 1)   Log Likelihood                -379.730\n",
      "Date:                Fri, 25 Nov 2022   AIC                            763.460\n",
      "Time:                        12:00:06   BIC                            767.161\n",
      "Sample:                    01-01-2014   HQIC                           764.853\n",
      "                         - 12-01-2017                                         \n",
      "Covariance Type:                  opg                                         \n",
      "==============================================================================\n",
      "                 coef    std err          z      P>|z|      [0.025      0.975]\n",
      "------------------------------------------------------------------------------\n",
      "ma.L1         -0.7090      0.114     -6.233      0.000      -0.932      -0.486\n",
      "sigma2      6.002e+05   1.33e+05      4.510      0.000    3.39e+05    8.61e+05\n",
      "===================================================================================\n",
      "Ljung-Box (L1) (Q):                   0.01   Jarque-Bera (JB):                 0.92\n",
      "Prob(Q):                              0.92   Prob(JB):                         0.63\n",
      "Heteroskedasticity (H):               1.00   Skew:                             0.26\n",
      "Prob(H) (two-sided):                  1.00   Kurtosis:                         2.55\n",
      "===================================================================================\n",
      "\n",
      "Warnings:\n",
      "[1] Covariance matrix calculated using the outer product of gradients (complex-step).\n"
     ]
    }
   ],
   "source": [
    "#summary of the model\n",
    "print(model_arima.summary())"
   ]
  },
  {
   "cell_type": "code",
   "execution_count": null,
   "id": "fd3895d9",
   "metadata": {},
   "outputs": [],
   "source": [
    "Predict the Sales (test data) using the model"
   ]
  },
  {
   "cell_type": "code",
   "execution_count": 70,
   "id": "266fb5bd",
   "metadata": {},
   "outputs": [
    {
     "name": "stdout",
     "output_type": "stream",
     "text": [
      "start = 33, end = 47\n",
      "Order Date\n",
      "2016-10-01    1803.008857\n",
      "2016-11-01    1921.632243\n",
      "2016-12-01    2159.290679\n",
      "2017-01-01    2539.026964\n",
      "2017-02-01    2356.507109\n",
      "2017-03-01    1966.152560\n",
      "2017-04-01    2005.853352\n",
      "2017-05-01    1815.774693\n",
      "2017-06-01    1764.421657\n",
      "2017-07-01    1843.961197\n",
      "2017-08-01    1761.575080\n",
      "2017-09-01    1929.256401\n",
      "2017-10-01    2281.021566\n",
      "2017-11-01    2425.565954\n",
      "2017-12-01    2868.661618\n",
      "Freq: MS, Name: predicted_mean, dtype: float64\n"
     ]
    }
   ],
   "source": [
    "# predictions\n",
    "start = len(train) \n",
    "end = len(train) + len(test) - 1\n",
    "\n",
    "print('start = {}, end = {}'.format(start,end))\n",
    "\n",
    "predictions = model_arima.predict(start,end,typ='levels')\n",
    "print(predictions)"
   ]
  },
  {
   "cell_type": "markdown",
   "id": "bd0b301b",
   "metadata": {},
   "source": [
    "#### Box-Jenkins test to check model's goodness"
   ]
  },
  {
   "cell_type": "code",
   "execution_count": 78,
   "id": "51316a06",
   "metadata": {},
   "outputs": [
    {
     "name": "stdout",
     "output_type": "stream",
     "text": [
      "Fail-to-Reject H0. Good model\n"
     ]
    }
   ],
   "source": [
    "# LJung-Box test\n",
    "pvalue = sm.stats.acorr_ljungbox(model_arima.resid, lags=[1], return_df = True)[\"lb_pvalue\"].values\n",
    "\n",
    "if pvalue<0.05:\n",
    "    print(\"reject H0: Bad model\")\n",
    "else:\n",
    "    print(\"Fail-to-Reject H0. Good model\")"
   ]
  },
  {
   "cell_type": "markdown",
   "id": "2ec50f93",
   "metadata": {},
   "source": [
    "#### Plot actual vs. predicted values"
   ]
  },
  {
   "cell_type": "code",
   "execution_count": 77,
   "id": "12c94107",
   "metadata": {},
   "outputs": [
    {
     "data": {
      "text/plain": [
       "<matplotlib.legend.Legend at 0x1ddf1abc040>"
      ]
     },
     "execution_count": 77,
     "metadata": {},
     "output_type": "execute_result"
    },
    {
     "data": {
      "image/png": "[encoded data removed]",
      "text/plain": [
       "<Figure size 720x360 with 1 Axes>"
      ]
     },
     "metadata": {
      "needs_background": "light"
     },
     "output_type": "display_data"
    }
   ],
   "source": [
    "plt.figure(figsize=(10,5))\n",
    "plt.plot(predictions, 'red', label = 'Predictions')\n",
    "plt.plot(test, 'green', label='Actual')\n",
    "plt.xlabel('Date')\n",
    "plt.ylabel('Sales')\n",
    "plt.legend()"
   ]
  },
  {
   "cell_type": "code",
   "execution_count": 79,
   "id": "3cc667ac",
   "metadata": {},
   "outputs": [
    {
     "name": "stdout",
     "output_type": "stream",
     "text": [
      "RMSE: 804.9629971932692\n"
     ]
    }
   ],
   "source": [
    "mse1 = mean_squared_error(test,predictions)\n",
    "print('RMSE: ' + str(np.sqrt(mse1) ))"
   ]
  },
  {
   "cell_type": "markdown",
   "id": "e2c6de9f",
   "metadata": {},
   "source": [
    "#### Forecast the future data using ARIMA model"
   ]
  },
  {
   "cell_type": "code",
   "execution_count": 85,
   "id": "abe590eb",
   "metadata": {},
   "outputs": [
    {
     "name": "stdout",
     "output_type": "stream",
     "text": [
      "Order Date\n",
      "2016-10-01    1803.008857\n",
      "2016-11-01    1921.632243\n",
      "2016-12-01    2159.290679\n",
      "2017-01-01    2539.026964\n",
      "2017-02-01    2356.507109\n",
      "2017-03-01    1966.152560\n",
      "2017-04-01    2005.853352\n",
      "Freq: MS, Name: predicted_mean, dtype: float64\n"
     ]
    }
   ],
   "source": [
    "# forecast into the future\n",
    "model_arima1 = ARIMA(funi_sales[\"Sales\"],order=(p,d,q)).fit()\n",
    "fcast = model_arima1.predict(start=len(train), end=len(train)+6, typ='levels')\n",
    "print(fcast)"
   ]
  },
  {
   "cell_type": "markdown",
   "id": "cce619b6",
   "metadata": {},
   "source": [
    "#### Visualize the forecast"
   ]
  },
  {
   "cell_type": "code",
   "execution_count": 91,
   "id": "35548fff",
   "metadata": {},
   "outputs": [
    {
     "data": {
      "text/plain": [
       "Text(0.5, 1.0, 'Funiture Sale Forecasting')"
      ]
     },
     "execution_count": 91,
     "metadata": {},
     "output_type": "execute_result"
    },
    {
     "data": {
      "image/png": "[encoded data removed]",
      "text/plain": [
       "<Figure size 720x576 with 1 Axes>"
      ]
     },
     "metadata": {
      "needs_background": "light"
     },
     "output_type": "display_data"
    }
   ],
   "source": [
    "train[\"Sales\"].plot(figsize=(10,8),legend=True)\n",
    "fcast.plot(legend=True)\n",
    "plt.title(\"Funiture Sale Forecasting\")"
   ]
  },
  {
   "cell_type": "markdown",
   "id": "1eb7b58a",
   "metadata": {},
   "source": [
    "## Model 2: The SARIMA Model"
   ]
  },
  {
   "cell_type": "code",
   "execution_count": 87,
   "id": "4608a7cd",
   "metadata": {},
   "outputs": [],
   "source": [
    "#SARIMA model\n",
    "#from auto correlation the p,d, q value is , month order i.e 12\n",
    "p=0; q=1; d=1\n",
    "model_sarima = sm.tsa.statespace.SARIMAX(train,order=(p,d,q),seasonal_order=(p,d,q,12)).fit()"
   ]
  },
  {
   "cell_type": "code",
   "execution_count": 88,
   "id": "76275b30",
   "metadata": {},
   "outputs": [
    {
     "name": "stdout",
     "output_type": "stream",
     "text": [
      "                                     SARIMAX Results                                      \n",
      "==========================================================================================\n",
      "Dep. Variable:                              Sales   No. Observations:                   33\n",
      "Model:             SARIMAX(0, 1, 1)x(0, 1, 1, 12)   Log Likelihood                -147.689\n",
      "Date:                            Fri, 25 Nov 2022   AIC                            301.378\n",
      "Time:                                    12:21:29   BIC                            304.365\n",
      "Sample:                                01-01-2014   HQIC                           301.961\n",
      "                                     - 09-01-2016                                         \n",
      "Covariance Type:                              opg                                         \n",
      "==============================================================================\n",
      "                 coef    std err          z      P>|z|      [0.025      0.975]\n",
      "------------------------------------------------------------------------------\n",
      "ma.L1         -0.9994     68.213     -0.015      0.988    -134.694     132.695\n",
      "ma.S.L12      -0.9773     21.709     -0.045      0.964     -43.526      41.571\n",
      "sigma2      7.884e+04   4.73e+06      0.017      0.987   -9.18e+06    9.34e+06\n",
      "===================================================================================\n",
      "Ljung-Box (L1) (Q):                   0.08   Jarque-Bera (JB):                 1.61\n",
      "Prob(Q):                              0.78   Prob(JB):                         0.45\n",
      "Heteroskedasticity (H):               0.94   Skew:                             0.04\n",
      "Prob(H) (two-sided):                  0.93   Kurtosis:                         4.39\n",
      "===================================================================================\n",
      "\n",
      "Warnings:\n",
      "[1] Covariance matrix calculated using the outer product of gradients (complex-step).\n"
     ]
    }
   ],
   "source": [
    "#summary of model\n",
    "print(model_sarima.summary())"
   ]
  },
  {
   "cell_type": "code",
   "execution_count": 89,
   "id": "0f99ba39",
   "metadata": {},
   "outputs": [
    {
     "data": {
      "text/plain": [
       "2016-10-01    1402.452591\n",
       "2016-11-01    2828.606541\n",
       "2016-12-01    2546.335250\n",
       "2017-01-01    1103.361399\n",
       "2017-02-01     889.266092\n",
       "2017-03-01    2080.133437\n",
       "2017-04-01    1583.234541\n",
       "2017-05-01    1540.508412\n",
       "2017-06-01    1565.470807\n",
       "2017-07-01    1623.507577\n",
       "2017-08-01    1573.212574\n",
       "2017-09-01    2884.206603\n",
       "2017-10-01    1517.249322\n",
       "2017-11-01    2943.403272\n",
       "2017-12-01    2661.131981\n",
       "Freq: MS, Name: predicted_mean, dtype: float64"
      ]
     },
     "execution_count": 89,
     "metadata": {},
     "output_type": "execute_result"
    }
   ],
   "source": [
    "forecast = model_sarima.forecast(len(test))\n",
    "forecast"
   ]
  },
  {
   "cell_type": "code",
   "execution_count": 90,
   "id": "01fcb294",
   "metadata": {},
   "outputs": [
    {
     "name": "stdout",
     "output_type": "stream",
     "text": [
      "RMSE: 619.8963423331228\n"
     ]
    },
    {
     "data": {
      "image/png": "[encoded data removed]",
      "text/plain": [
       "<Figure size 720x360 with 1 Axes>"
      ]
     },
     "metadata": {
      "needs_background": "light"
     },
     "output_type": "display_data"
    }
   ],
   "source": [
    "plt.figure(figsize=(10,5))\n",
    "plt.plot(forecast, 'red', label = 'Predictions')\n",
    "plt.plot(test, 'green', label='Actual')\n",
    "plt.xlabel('Day')\n",
    "plt.ylabel('Appliances')\n",
    "plt.legend()\n",
    "\n",
    "mse1 = mean_squared_error(test,forecast)\n",
    "print('RMSE: ' + str(np.sqrt(mse1) ))"
   ]
  },
  {
   "cell_type": "markdown",
   "id": "0ebccff7",
   "metadata": {},
   "source": [
    "## Model 3: The SARIMAX Model"
   ]
  },
  {
   "cell_type": "code",
   "execution_count": 141,
   "id": "6609a675",
   "metadata": {},
   "outputs": [],
   "source": [
    "# df is the original data\n",
    "\n",
    "#sort the order date\n",
    "df1 = df.sort_values(\"Order Date\")"
   ]
  },
  {
   "cell_type": "code",
   "execution_count": null,
   "id": "b756b8da",
   "metadata": {},
   "outputs": [],
   "source": [
    "\n",
    "#set order date as index\n",
    "\n",
    "df1.set_index(\"Order Date\", inplace = True)"
   ]
  },
  {
   "cell_type": "code",
   "execution_count": 144,
   "id": "294d24ee",
   "metadata": {},
   "outputs": [
    {
     "data": {
      "text/html": [
       "<div>\n",
       "<style scoped>\n",
       "    .dataframe tbody tr th:only-of-type {\n",
       "        vertical-align: middle;\n",
       "    }\n",
       "\n",
       "    .dataframe tbody tr th {\n",
       "        vertical-align: top;\n",
       "    }\n",
       "\n",
       "    .dataframe thead th {\n",
       "        text-align: right;\n",
       "    }\n",
       "</style>\n",
       "<table border=\"1\" class=\"dataframe\">\n",
       "  <thead>\n",
       "    <tr style=\"text-align: right;\">\n",
       "      <th></th>\n",
       "      <th>Row ID</th>\n",
       "      <th>Postal Code</th>\n",
       "      <th>Sales</th>\n",
       "      <th>Quantity</th>\n",
       "      <th>Discount</th>\n",
       "      <th>Profit</th>\n",
       "    </tr>\n",
       "    <tr>\n",
       "      <th>Order Date</th>\n",
       "      <th></th>\n",
       "      <th></th>\n",
       "      <th></th>\n",
       "      <th></th>\n",
       "      <th></th>\n",
       "      <th></th>\n",
       "    </tr>\n",
       "  </thead>\n",
       "  <tbody>\n",
       "    <tr>\n",
       "      <th>2014-01-01</th>\n",
       "      <td>4381.974684</td>\n",
       "      <td>54965.784810</td>\n",
       "      <td>180.213861</td>\n",
       "      <td>3.594937</td>\n",
       "      <td>0.126582</td>\n",
       "      <td>31.015072</td>\n",
       "    </tr>\n",
       "    <tr>\n",
       "      <th>2014-02-01</th>\n",
       "      <td>5918.152174</td>\n",
       "      <td>66299.456522</td>\n",
       "      <td>98.258522</td>\n",
       "      <td>3.456522</td>\n",
       "      <td>0.176087</td>\n",
       "      <td>18.745835</td>\n",
       "    </tr>\n",
       "  </tbody>\n",
       "</table>\n",
       "</div>"
      ],
      "text/plain": [
       "                 Row ID   Postal Code       Sales  Quantity  Discount  \\\n",
       "Order Date                                                              \n",
       "2014-01-01  4381.974684  54965.784810  180.213861  3.594937  0.126582   \n",
       "2014-02-01  5918.152174  66299.456522   98.258522  3.456522  0.176087   \n",
       "\n",
       "               Profit  \n",
       "Order Date             \n",
       "2014-01-01  31.015072  \n",
       "2014-02-01  18.745835  "
      ]
     },
     "execution_count": 144,
     "metadata": {},
     "output_type": "execute_result"
    }
   ],
   "source": [
    "#resample the data\n",
    "\n",
    "DF = df1.resample('MS').mean() #MS mean Month Start\n",
    "DF.head(2)"
   ]
  },
  {
   "cell_type": "code",
   "execution_count": 181,
   "id": "fa76bf2a",
   "metadata": {},
   "outputs": [
    {
     "data": {
      "text/plain": [
       "'p-value=0.015489720191097567. Data is stationary'"
      ]
     },
     "execution_count": 181,
     "metadata": {},
     "output_type": "execute_result"
    }
   ],
   "source": [
    "# check the data for stationarity\n",
    "ret=checkStationarity(DF.Sales); \n",
    "ret"
   ]
  },
  {
   "cell_type": "code",
   "execution_count": 171,
   "id": "55c8adf9",
   "metadata": {},
   "outputs": [
    {
     "name": "stdout",
     "output_type": "stream",
     "text": [
      "exog_train = 33, train = 15\n"
     ]
    }
   ],
   "source": [
    "# split the data into train and test\n",
    "ss = int(0.70 * len(DF))\n",
    "train_df = DF.iloc[:ss]\n",
    "test_df = DF.iloc[ss:]\n",
    "\n",
    "# split into train and test using relevant columns only\n",
    "train1 = train_df.Sales\n",
    "test1 = test_df.Sales\n",
    "\n",
    "print('exog_train = {}, train = {}'.format( len(train1), len(test1)))"
   ]
  },
  {
   "cell_type": "code",
   "execution_count": null,
   "id": "e54d9bfb",
   "metadata": {},
   "outputs": [],
   "source": [
    "# check the data for stationarity\n",
    "ret=checkStationarity(df); \n",
    "ret"
   ]
  },
  {
   "cell_type": "code",
   "execution_count": 172,
   "id": "164fa0d8",
   "metadata": {},
   "outputs": [],
   "source": [
    "#split the eXogenous variables\n",
    "exog_train = train_df[['Quantity', 'Discount', 'Profit']]\n",
    "exog_test = test_df[['Quantity', 'Discount', 'Profit']]"
   ]
  },
  {
   "cell_type": "code",
   "execution_count": 173,
   "id": "ed9ace1c",
   "metadata": {},
   "outputs": [
    {
     "name": "stdout",
     "output_type": "stream",
     "text": [
      "            Quantity  Discount     Profit\n",
      "Order Date                               \n",
      "2014-01-01  3.594937  0.126582  31.015072\n",
      "2014-02-01  3.456522  0.176087  18.745835\n",
      "2014-03-01  3.726115  0.167516   3.176624\n",
      "2014-04-01  3.970370  0.110000  25.843224\n",
      "2014-05-01  3.819672  0.155328  22.448439\n"
     ]
    }
   ],
   "source": [
    "#preview\n",
    "print(exog_train.head())"
   ]
  },
  {
   "cell_type": "code",
   "execution_count": 174,
   "id": "c6b1c597",
   "metadata": {},
   "outputs": [
    {
     "name": "stdout",
     "output_type": "stream",
     "text": [
      "exog_train = 33, train = 33\n"
     ]
    }
   ],
   "source": [
    "print('exog_train = {}, train = {}'.format( len(exog_train), len(train1)))"
   ]
  },
  {
   "cell_type": "code",
   "execution_count": 175,
   "id": "ec30a1b8",
   "metadata": {},
   "outputs": [],
   "source": [
    "#create model\n",
    "p = 0\n",
    "d = 1\n",
    "q = 1\n",
    "model_sari = SARIMAX(train1, order=(p,d,q), seasonal_order=(p,d,q,12), exog = exog_train.values).fit()"
   ]
  },
  {
   "cell_type": "markdown",
   "id": "8d89a125",
   "metadata": {},
   "source": [
    "### Forecast values"
   ]
  },
  {
   "cell_type": "code",
   "execution_count": 188,
   "id": "bcbe6426",
   "metadata": {},
   "outputs": [
    {
     "data": {
      "text/plain": [
       "2016-10-01    128.051947\n",
       "2016-11-01    248.838725\n",
       "2016-12-01    218.578043\n",
       "2017-01-01    180.747206\n",
       "2017-02-01    328.056069\n",
       "2017-03-01    290.138038\n",
       "2017-04-01    231.112144\n",
       "2017-05-01    274.101110\n",
       "2017-06-01    205.374582\n",
       "2017-07-01    186.483512\n",
       "2017-08-01    130.447346\n",
       "2017-09-01    206.138234\n",
       "2017-10-01    173.246966\n",
       "2017-11-01    249.332842\n",
       "2017-12-01    238.686844\n",
       "Freq: MS, Name: predicted_mean, dtype: float64"
      ]
     },
     "execution_count": 188,
     "metadata": {},
     "output_type": "execute_result"
    }
   ],
   "source": [
    "start = len(train1) \n",
    "end = len(train1) + len(test1) - 1\n",
    "\n",
    "forecast = model_sari.predict(start, end, exog=exog_test.values)\n",
    "forecast"
   ]
  },
  {
   "cell_type": "code",
   "execution_count": null,
   "id": "c8098803",
   "metadata": {},
   "outputs": [],
   "source": []
  },
  {
   "cell_type": "code",
   "execution_count": null,
   "id": "7bddcfcc",
   "metadata": {},
   "outputs": [],
   "source": []
  },
  {
   "cell_type": "markdown",
   "id": "16525329",
   "metadata": {},
   "source": [
    "#### Plot the actual forecasted values"
   ]
  },
  {
   "cell_type": "code",
   "execution_count": 184,
   "id": "b1574e93",
   "metadata": {},
   "outputs": [
    {
     "name": "stdout",
     "output_type": "stream",
     "text": [
      "RMSE: 87.54121124191052\n"
     ]
    },
    {
     "data": {
      "image/png": "[encoded data removed]",
      "text/plain": [
       "<Figure size 720x360 with 1 Axes>"
      ]
     },
     "metadata": {
      "needs_background": "light"
     },
     "output_type": "display_data"
    }
   ],
   "source": [
    "plt.figure(figsize=(10,5))\n",
    "plt.plot(forecast, 'r', label = 'Predictions')\n",
    "plt.plot(test_df.Sales, 'b', label='Actual')\n",
    "plt.xlabel('Date')\n",
    "plt.ylabel('Sales')\n",
    "plt.legend()\n",
    "\n",
    "mse1 = mean_squared_error(test_df.Sales,forecast)\n",
    "print('RMSE: ' + str(np.sqrt(mse1) ))"
   ]
  },
  {
   "cell_type": "code",
   "execution_count": null,
   "id": "839fa36b",
   "metadata": {},
   "outputs": [],
   "source": [
    "#Time series data system, "
   ]
  },
  {
   "cell_type": "code",
   "execution_count": null,
   "id": "27cc95e6",
   "metadata": {},
   "outputs": [],
   "source": []
  },
  {
   "cell_type": "code",
   "execution_count": null,
   "id": "9a515055",
   "metadata": {},
   "outputs": [],
   "source": []
  },
  {
   "cell_type": "code",
   "execution_count": null,
   "id": "23873c44",
   "metadata": {},
   "outputs": [],
   "source": []
  },
  {
   "cell_type": "code",
   "execution_count": null,
   "id": "f3b04a33",
   "metadata": {},
   "outputs": [],
   "source": []
  },
  {
   "cell_type": "code",
   "execution_count": null,
   "id": "67c2de9c",
   "metadata": {},
   "outputs": [],
   "source": []
  },
  {
   "cell_type": "code",
   "execution_count": null,
   "id": "dd46d57e",
   "metadata": {},
   "outputs": [],
   "source": []
  }
 ],
 "metadata": {
  "kernelspec": {
   "display_name": "Python 3 (ipykernel)",
   "language": "python",
   "name": "python3"
  },
  "language_info": {
   "codemirror_mode": {
    "name": "ipython",
    "version": 3
   },
   "file_extension": ".py",
   "mimetype": "text/x-python",
   "name": "python",
   "nbconvert_exporter": "python",
   "pygments_lexer": "ipython3",
   "version": "3.9.12"
  }
 },
 "nbformat": 4,
 "nbformat_minor": 5
}
